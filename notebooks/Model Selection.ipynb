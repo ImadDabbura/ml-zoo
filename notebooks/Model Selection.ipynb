{
 "cells": [
  {
   "cell_type": "code",
   "execution_count": 23,
   "metadata": {},
   "outputs": [],
   "source": [
    "import matplotlib.pyplot as plt\n",
    "import numpy as np\n",
    "import pandas as pd\n",
    "import seaborn as sns\n",
    "from sklearn.preprocessing import StandardScaler, RobustScaler\n",
    "from sklearn.decomposition import PCA\n",
    "from sklearn.pipeline import make_pipeline, Pipeline\n",
    "from sklearn.dummy import DummyClassifier\n",
    "from sklearn.linear_model import LogisticRegression\n",
    "from sklearn.ensemble import RandomForestClassifier\n",
    "from sklearn.metrics import (accuracy_score,\n",
    "                             roc_auc_score,\n",
    "                             confusion_matrix,\n",
    "                             classification_report,\n",
    "                             make_scorer)\n",
    "from sklearn.model_selection import (train_test_split,\n",
    "                                     cross_val_score,\n",
    "                                     KFold,\n",
    "                                     StratifiedKFold,\n",
    "                                     learning_curve,\n",
    "                                     validation_curve,\n",
    "                                     GridSearchCV,\n",
    "                                     RandomizedSearchCV)\n",
    "\n",
    "import utils\n",
    "\n",
    "%matplotlib inline\n",
    "sns.set_context('notebook')\n",
    "plt.style.use('fivethirtyeight')"
   ]
  },
  {
   "cell_type": "code",
   "execution_count": 2,
   "metadata": {},
   "outputs": [],
   "source": [
    "%load_ext autoreload\n",
    "%autoreload 2"
   ]
  },
  {
   "cell_type": "code",
   "execution_count": 3,
   "metadata": {},
   "outputs": [
    {
     "data": {
      "text/html": [
       "<div>\n",
       "<style scoped>\n",
       "    .dataframe tbody tr th:only-of-type {\n",
       "        vertical-align: middle;\n",
       "    }\n",
       "\n",
       "    .dataframe tbody tr th {\n",
       "        vertical-align: top;\n",
       "    }\n",
       "\n",
       "    .dataframe thead th {\n",
       "        text-align: right;\n",
       "    }\n",
       "</style>\n",
       "<table border=\"1\" class=\"dataframe\">\n",
       "  <thead>\n",
       "    <tr style=\"text-align: right;\">\n",
       "      <th></th>\n",
       "      <th>male</th>\n",
       "      <th>race</th>\n",
       "      <th>age</th>\n",
       "      <th>state</th>\n",
       "      <th>time.served</th>\n",
       "      <th>max.sentence</th>\n",
       "      <th>multiple.offenses</th>\n",
       "      <th>crime</th>\n",
       "      <th>violator</th>\n",
       "    </tr>\n",
       "  </thead>\n",
       "  <tbody>\n",
       "    <tr>\n",
       "      <th>0</th>\n",
       "      <td>1</td>\n",
       "      <td>1</td>\n",
       "      <td>33.2</td>\n",
       "      <td>1</td>\n",
       "      <td>5.5</td>\n",
       "      <td>18</td>\n",
       "      <td>0</td>\n",
       "      <td>4</td>\n",
       "      <td>0</td>\n",
       "    </tr>\n",
       "    <tr>\n",
       "      <th>1</th>\n",
       "      <td>0</td>\n",
       "      <td>1</td>\n",
       "      <td>39.7</td>\n",
       "      <td>1</td>\n",
       "      <td>5.4</td>\n",
       "      <td>12</td>\n",
       "      <td>0</td>\n",
       "      <td>3</td>\n",
       "      <td>0</td>\n",
       "    </tr>\n",
       "    <tr>\n",
       "      <th>2</th>\n",
       "      <td>1</td>\n",
       "      <td>2</td>\n",
       "      <td>29.5</td>\n",
       "      <td>1</td>\n",
       "      <td>5.6</td>\n",
       "      <td>12</td>\n",
       "      <td>0</td>\n",
       "      <td>3</td>\n",
       "      <td>0</td>\n",
       "    </tr>\n",
       "    <tr>\n",
       "      <th>3</th>\n",
       "      <td>1</td>\n",
       "      <td>1</td>\n",
       "      <td>22.4</td>\n",
       "      <td>1</td>\n",
       "      <td>5.7</td>\n",
       "      <td>18</td>\n",
       "      <td>0</td>\n",
       "      <td>1</td>\n",
       "      <td>0</td>\n",
       "    </tr>\n",
       "    <tr>\n",
       "      <th>4</th>\n",
       "      <td>1</td>\n",
       "      <td>2</td>\n",
       "      <td>21.6</td>\n",
       "      <td>1</td>\n",
       "      <td>5.4</td>\n",
       "      <td>12</td>\n",
       "      <td>0</td>\n",
       "      <td>1</td>\n",
       "      <td>0</td>\n",
       "    </tr>\n",
       "  </tbody>\n",
       "</table>\n",
       "</div>"
      ],
      "text/plain": [
       "   male  race   age  state  time.served  max.sentence  multiple.offenses  \\\n",
       "0     1     1  33.2      1          5.5            18                  0   \n",
       "1     0     1  39.7      1          5.4            12                  0   \n",
       "2     1     2  29.5      1          5.6            12                  0   \n",
       "3     1     1  22.4      1          5.7            18                  0   \n",
       "4     1     2  21.6      1          5.4            12                  0   \n",
       "\n",
       "   crime  violator  \n",
       "0      4         0  \n",
       "1      3         0  \n",
       "2      3         0  \n",
       "3      1         0  \n",
       "4      1         0  "
      ]
     },
     "execution_count": 3,
     "metadata": {},
     "output_type": "execute_result"
    }
   ],
   "source": [
    "data = pd.read_csv('data/parole.csv', low_memory=False)\n",
    "data.head()"
   ]
  },
  {
   "cell_type": "code",
   "execution_count": 4,
   "metadata": {},
   "outputs": [
    {
     "name": "stdout",
     "output_type": "stream",
     "text": [
      "Shape : (675, 8), (675,)\n",
      "Training : (472, 8)\n",
      "Test : (203, 8)\n"
     ]
    }
   ],
   "source": [
    "# Convert to numpy\n",
    "X, y = data.values[:, :-1], data.values[:, -1].astype('int')\n",
    "print(f'Shape : {X.shape}, {y.shape}')\n",
    "\n",
    "# Split the data\n",
    "X_train, X_test, y_train, y_test = train_test_split(X, y, test_size=0.3, stratify=y, random_state=1)\n",
    "print(f'Training : {X_train.shape}')\n",
    "print(f'Test : {X_test.shape}')"
   ]
  },
  {
   "cell_type": "code",
   "execution_count": 5,
   "metadata": {},
   "outputs": [
    {
     "data": {
      "image/png": "[encoded data removed]",
      "text/plain": [
       "<Figure size 576x432 with 1 Axes>"
      ]
     },
     "metadata": {},
     "output_type": "display_data"
    }
   ],
   "source": [
    "# Plot class distribution\n",
    "utils.plot_class_dist(y, ['non-violators', 'violators'])"
   ]
  },
  {
   "cell_type": "code",
   "execution_count": 6,
   "metadata": {},
   "outputs": [
    {
     "data": {
      "text/plain": [
       "PCA(copy=True, iterated_power='auto', n_components=None, random_state=None,\n",
       "  svd_solver='full', tol=0.0, whiten=False)"
      ]
     },
     "execution_count": 6,
     "metadata": {},
     "output_type": "execute_result"
    }
   ],
   "source": [
    "pca = PCA(n_components=None, svd_solver=\"full\")\n",
    "pca.fit(StandardScaler().fit_transform(X_train))"
   ]
  },
  {
   "cell_type": "code",
   "execution_count": 7,
   "metadata": {},
   "outputs": [
    {
     "data": {
      "image/png": "[encoded data removed]",
      "text/plain": [
       "<Figure size 864x432 with 1 Axes>"
      ]
     },
     "metadata": {},
     "output_type": "display_data"
    }
   ],
   "source": [
    "utils.plot_pca_var_explained(pca)"
   ]
  },
  {
   "cell_type": "code",
   "execution_count": 8,
   "metadata": {},
   "outputs": [
    {
     "name": "stdout",
     "output_type": "stream",
     "text": [
      "Training accuracy : 88.35%\n",
      "Training AUC : 50.00%\n"
     ]
    }
   ],
   "source": [
    "# Create dummy classifier\n",
    "dummy_clf = DummyClassifier(strategy='most_frequent')\n",
    "dummy_clf.fit(X_train, y_train)\n",
    "print(f'Training accuracy : {accuracy_score(y_train, dummy_clf.predict(X_train)):.2%}')\n",
    "print(f'Training AUC : {roc_auc_score(y_train, dummy_clf.predict(X_train)):.2%}')"
   ]
  },
  {
   "cell_type": "code",
   "execution_count": 9,
   "metadata": {},
   "outputs": [],
   "source": [
    "# Create CV objest\n",
    "kf = StratifiedKFold(5, shuffle=True, random_state=1)"
   ]
  },
  {
   "cell_type": "code",
   "execution_count": 10,
   "metadata": {},
   "outputs": [
    {
     "name": "stdout",
     "output_type": "stream",
     "text": [
      "10-fold cv AUC : 0.84\n"
     ]
    }
   ],
   "source": [
    "rf_clf = RandomForestClassifier(100, class_weight='balanced')\n",
    "cv_auc = cross_val_score(rf_clf, X_train, y_train,\n",
    "                         scoring='roc_auc', n_jobs=-1, cv=kf)\n",
    "print(f'10-fold cv AUC : {cv_auc.mean():.2f}')"
   ]
  },
  {
   "cell_type": "code",
   "execution_count": 11,
   "metadata": {},
   "outputs": [
    {
     "data": {
      "image/png": "[encoded data removed]",
      "text/plain": [
       "<Figure size 864x432 with 1 Axes>"
      ]
     },
     "metadata": {},
     "output_type": "display_data"
    }
   ],
   "source": [
    "rf_clf.fit(X_train, y_train)\n",
    "utils.plot_feature_imp(rf_clf, data.columns[:-1])"
   ]
  },
  {
   "cell_type": "code",
   "execution_count": 12,
   "metadata": {},
   "outputs": [
    {
     "name": "stdout",
     "output_type": "stream",
     "text": [
      "10-fold cv AUC : 0.84\n"
     ]
    }
   ],
   "source": [
    "rf_clf = make_pipeline(StandardScaler(),\n",
    "                       RandomForestClassifier(100, class_weight='balanced'))\n",
    "cv_auc = cross_val_score(rf_clf, X_train, y_train,\n",
    "                         scoring='roc_auc', n_jobs=-1, cv=kf)\n",
    "print(f'10-fold cv AUC : {cv_auc.mean():.2f}')"
   ]
  },
  {
   "cell_type": "code",
   "execution_count": 13,
   "metadata": {},
   "outputs": [
    {
     "data": {
      "text/plain": [
       "array([0.02717569, 0.03919286, 0.24753854, 0.19439852, 0.21425329,\n",
       "       0.15975601, 0.06307867, 0.05460642])"
      ]
     },
     "execution_count": 13,
     "metadata": {},
     "output_type": "execute_result"
    }
   ],
   "source": [
    "rf_clf.fit(X_train, y_train)\n",
    "rf_clf.named_steps['randomforestclassifier'].feature_importances_"
   ]
  },
  {
   "cell_type": "code",
   "execution_count": 14,
   "metadata": {},
   "outputs": [
    {
     "data": {
      "image/png": "[encoded data removed]",
      "text/plain": [
       "<Figure size 864x576 with 1 Axes>"
      ]
     },
     "metadata": {},
     "output_type": "display_data"
    }
   ],
   "source": [
    "rf_clf = make_pipeline(StandardScaler(),\n",
    "                       RandomForestClassifier(class_weight='balanced'))\n",
    "param_range = np.linspace(100, 1000, 10, dtype='int')\n",
    "train_scores, test_scores = validation_curve(rf_clf,\n",
    "                                             X_train, y_train,\n",
    "                                             param_name='randomforestclassifier__n_estimators',\n",
    "                                             param_range=param_range,\n",
    "                                             cv=10,\n",
    "                                             scoring='roc_auc',\n",
    "                                             n_jobs=-1)\n",
    "\n",
    "utils.plot_validation_curve(train_scores, test_scores, param_range, y_lim=[0.5, 1.01],\n",
    "                            x_label='n_estimators', title='Validation curve')"
   ]
  },
  {
   "cell_type": "code",
   "execution_count": null,
   "metadata": {},
   "outputs": [],
   "source": [
    "# Defining custom-scoring function to be used in CV\n",
    "def acc(y, y_pred):\n",
    "    return (y == y_pred).mean()\n",
    "scorer = make_scorer(acc)\n",
    "\n",
    "rf_clf = RandomForestClassifier(100, class_weight='balanced')\n",
    "cv_acc = cross_val_score(rf_clf, X_train, y_train,\n",
    "                         scoring=scorer, n_jobs=-1, cv=kf)\n",
    "print(f'10-fold cv accuracy : {cv_acc.mean():.2f}')"
   ]
  },
  {
   "cell_type": "code",
   "execution_count": 14,
   "metadata": {},
   "outputs": [],
   "source": [
    "hyperparam = {\n",
    "    'randomforestclassifier__n_estimators': np.linspace(100, 1000, 10, dtype='int'),\n",
    "    'randomforestclassifier__max_features': ['sqrt', 'log2', 0.5],\n",
    "    'randomforestclassifier__criterion': ['gini', 'entropy'],\n",
    "    'randomforestclassifier__min_samples_leaf': [1, 3, 5]\n",
    "}\n",
    "\n",
    "rf_clf = GridSearchCV(make_pipeline(StandardScaler(),\n",
    "                                    RandomForestClassifier(class_weight='balanced')),\n",
    "                      param_grid=hyperparam,\n",
    "                      scoring='roc_auc',\n",
    "                      cv=kf,\n",
    "                      n_jobs=-1)"
   ]
  },
  {
   "cell_type": "code",
   "execution_count": null,
   "metadata": {
    "code_folding": []
   },
   "outputs": [],
   "source": [
    "cv_auc = cross_val_score(rf_clf, X_train, y_train,\n",
    "                         scoring='roc_auc', n_jobs=-1, cv=kf)\n",
    "print(f'10-fold cv accuracy : {cv_auc.mean():.2f}')"
   ]
  },
  {
   "cell_type": "code",
   "execution_count": 18,
   "metadata": {},
   "outputs": [],
   "source": [
    "clf = Pipeline([('sc', StandardScaler()), ('clf', RandomForestClassifier())])\n",
    "hyperparam = [\n",
    "    {'clf': [RandomForestClassifier(100)],\n",
    "    'clf__max_features': ['sqrt', 'log2', 0.5],\n",
    "    },\n",
    "    {\n",
    "    'clf': [LogisticRegression()],\n",
    "    'clf__C': np.logspace(-4, 4, 10),\n",
    "    'clf__penalty': ['l1', 'l2']\n",
    "    }\n",
    "]\n",
    "\n",
    "rf_clf = GridSearchCV(clf,\n",
    "                      param_grid=hyperparam,\n",
    "                      scoring='roc_auc',\n",
    "                      cv=kf,\n",
    "                      n_jobs=-1)"
   ]
  },
  {
   "cell_type": "code",
   "execution_count": 19,
   "metadata": {},
   "outputs": [
    {
     "data": {
      "text/plain": [
       "GridSearchCV(cv=StratifiedKFold(n_splits=5, random_state=1, shuffle=True),\n",
       "       error_score='raise',\n",
       "       estimator=Pipeline(memory=None,\n",
       "     steps=[('sc', StandardScaler(copy=True, with_mean=True, with_std=True)), ('clf', RandomForestClassifier(bootstrap=True, class_weight=None, criterion='gini',\n",
       "            max_depth=None, max_features='auto', max_leaf_nodes=None,\n",
       "            min_impurity_decrease=0.0, min_impurity_split=None,\n",
       "         ...n_jobs=1,\n",
       "            oob_score=False, random_state=None, verbose=0,\n",
       "            warm_start=False))]),\n",
       "       fit_params=None, iid=True, n_jobs=-1,\n",
       "       param_grid=[{'clf': [RandomForestClassifier(bootstrap=True, class_weight=None, criterion='gini',\n",
       "            max_depth=None, max_features='log2', max_leaf_nodes=None,\n",
       "            min_impurity_decrease=0.0, min_impurity_split=None,\n",
       "            min_samples_leaf=1, min_samples_split=2,\n",
       "            min_...   2.78256e+00, 2.15443e+01, 1.66810e+02, 1.29155e+03, 1.00000e+04]), 'clf__penalty': ['l1', 'l2']}],\n",
       "       pre_dispatch='2*n_jobs', refit=True, return_train_score='warn',\n",
       "       scoring='roc_auc', verbose=0)"
      ]
     },
     "execution_count": 19,
     "metadata": {},
     "output_type": "execute_result"
    }
   ],
   "source": [
    "rf_clf.fit(X_train, y_train)"
   ]
  },
  {
   "cell_type": "code",
   "execution_count": 20,
   "metadata": {},
   "outputs": [
    {
     "data": {
      "text/plain": [
       "Pipeline(memory=None,\n",
       "     steps=[('sc', StandardScaler(copy=True, with_mean=True, with_std=True)), ('clf', RandomForestClassifier(bootstrap=True, class_weight=None, criterion='gini',\n",
       "            max_depth=None, max_features='log2', max_leaf_nodes=None,\n",
       "            min_impurity_decrease=0.0, min_impurity_split=None,\n",
       "         ...n_jobs=1,\n",
       "            oob_score=False, random_state=None, verbose=0,\n",
       "            warm_start=False))])"
      ]
     },
     "execution_count": 20,
     "metadata": {},
     "output_type": "execute_result"
    }
   ],
   "source": [
    "rf_clf.best_estimator_"
   ]
  },
  {
   "cell_type": "code",
   "execution_count": 21,
   "metadata": {},
   "outputs": [
    {
     "data": {
      "text/plain": [
       "{'memory': None,\n",
       " 'steps': [('sc', StandardScaler(copy=True, with_mean=True, with_std=True)),\n",
       "  ('clf',\n",
       "   RandomForestClassifier(bootstrap=True, class_weight=None, criterion='gini',\n",
       "               max_depth=None, max_features='log2', max_leaf_nodes=None,\n",
       "               min_impurity_decrease=0.0, min_impurity_split=None,\n",
       "               min_samples_leaf=1, min_samples_split=2,\n",
       "               min_weight_fraction_leaf=0.0, n_estimators=100, n_jobs=1,\n",
       "               oob_score=False, random_state=None, verbose=0,\n",
       "               warm_start=False))],\n",
       " 'sc': StandardScaler(copy=True, with_mean=True, with_std=True),\n",
       " 'clf': RandomForestClassifier(bootstrap=True, class_weight=None, criterion='gini',\n",
       "             max_depth=None, max_features='log2', max_leaf_nodes=None,\n",
       "             min_impurity_decrease=0.0, min_impurity_split=None,\n",
       "             min_samples_leaf=1, min_samples_split=2,\n",
       "             min_weight_fraction_leaf=0.0, n_estimators=100, n_jobs=1,\n",
       "             oob_score=False, random_state=None, verbose=0,\n",
       "             warm_start=False),\n",
       " 'sc__copy': True,\n",
       " 'sc__with_mean': True,\n",
       " 'sc__with_std': True,\n",
       " 'clf__bootstrap': True,\n",
       " 'clf__class_weight': None,\n",
       " 'clf__criterion': 'gini',\n",
       " 'clf__max_depth': None,\n",
       " 'clf__max_features': 'log2',\n",
       " 'clf__max_leaf_nodes': None,\n",
       " 'clf__min_impurity_decrease': 0.0,\n",
       " 'clf__min_impurity_split': None,\n",
       " 'clf__min_samples_leaf': 1,\n",
       " 'clf__min_samples_split': 2,\n",
       " 'clf__min_weight_fraction_leaf': 0.0,\n",
       " 'clf__n_estimators': 100,\n",
       " 'clf__n_jobs': 1,\n",
       " 'clf__oob_score': False,\n",
       " 'clf__random_state': None,\n",
       " 'clf__verbose': 0,\n",
       " 'clf__warm_start': False}"
      ]
     },
     "execution_count": 21,
     "metadata": {},
     "output_type": "execute_result"
    }
   ],
   "source": [
    "rf_clf.best_estimator_.get_params()"
   ]
  },
  {
   "cell_type": "code",
   "execution_count": 26,
   "metadata": {},
   "outputs": [
    {
     "data": {
      "text/plain": [
       "array([[-0.36653134,  0.49311905,  0.06914584,  1.03600422, -0.73025373],\n",
       "       [ 1.38867885, -1.78917353,  1.32044728, -1.01417168,  0.77943313],\n",
       "       [-0.73592617, -1.02106407, -1.35423687, -0.58545064, -0.28683168],\n",
       "       [ 2.07064918,  1.08871804, -2.33771996, -0.50906426, -0.43974994],\n",
       "       [-1.81002852,  0.27959689, -0.04235904,  0.6644657 ,  0.27479028]])"
      ]
     },
     "execution_count": 26,
     "metadata": {},
     "output_type": "execute_result"
    }
   ],
   "source": [
    "x = np.random.normal(size=(5, 5))\n",
    "x"
   ]
  },
  {
   "cell_type": "code",
   "execution_count": 32,
   "metadata": {},
   "outputs": [],
   "source": [
    "df = pd.read_json('https://raw.githubusercontent.com/selva86/datasets/master/newsgroups.json')"
   ]
  },
  {
   "cell_type": "code",
   "execution_count": 33,
   "metadata": {},
   "outputs": [],
   "source": [
    "df.to_csv('newsgroups.csv')"
   ]
  },
  {
   "cell_type": "code",
   "execution_count": 34,
   "metadata": {
    "collapsed": true
   },
   "outputs": [
    {
     "data": {
      "text/html": [
       "<div>\n",
       "<style scoped>\n",
       "    .dataframe tbody tr th:only-of-type {\n",
       "        vertical-align: middle;\n",
       "    }\n",
       "\n",
       "    .dataframe tbody tr th {\n",
       "        vertical-align: top;\n",
       "    }\n",
       "\n",
       "    .dataframe thead th {\n",
       "        text-align: right;\n",
       "    }\n",
       "</style>\n",
       "<table border=\"1\" class=\"dataframe\">\n",
       "  <thead>\n",
       "    <tr style=\"text-align: right;\">\n",
       "      <th></th>\n",
       "      <th>content</th>\n",
       "      <th>target</th>\n",
       "      <th>target_names</th>\n",
       "    </tr>\n",
       "  </thead>\n",
       "  <tbody>\n",
       "    <tr>\n",
       "      <th>0</th>\n",
       "      <td>From: lerxst@wam.umd.edu (where's my thing)\\nS...</td>\n",
       "      <td>7</td>\n",
       "      <td>rec.autos</td>\n",
       "    </tr>\n",
       "    <tr>\n",
       "      <th>1</th>\n",
       "      <td>From: guykuo@carson.u.washington.edu (Guy Kuo)...</td>\n",
       "      <td>4</td>\n",
       "      <td>comp.sys.mac.hardware</td>\n",
       "    </tr>\n",
       "    <tr>\n",
       "      <th>10</th>\n",
       "      <td>From: irwin@cmptrc.lonestar.org (Irwin Arnstei...</td>\n",
       "      <td>8</td>\n",
       "      <td>rec.motorcycles</td>\n",
       "    </tr>\n",
       "    <tr>\n",
       "      <th>100</th>\n",
       "      <td>From: tchen@magnus.acs.ohio-state.edu (Tsung-K...</td>\n",
       "      <td>6</td>\n",
       "      <td>misc.forsale</td>\n",
       "    </tr>\n",
       "    <tr>\n",
       "      <th>1000</th>\n",
       "      <td>From: dabl2@nlm.nih.gov (Don A.B. Lindbergh)\\n...</td>\n",
       "      <td>2</td>\n",
       "      <td>comp.os.ms-windows.misc</td>\n",
       "    </tr>\n",
       "    <tr>\n",
       "      <th>10000</th>\n",
       "      <td>From: a207706@moe.dseg.ti.com (Robert Loper)\\n...</td>\n",
       "      <td>7</td>\n",
       "      <td>rec.autos</td>\n",
       "    </tr>\n",
       "    <tr>\n",
       "      <th>10001</th>\n",
       "      <td>From: kimman@magnus.acs.ohio-state.edu (Kim Ri...</td>\n",
       "      <td>6</td>\n",
       "      <td>misc.forsale</td>\n",
       "    </tr>\n",
       "    <tr>\n",
       "      <th>10002</th>\n",
       "      <td>From: kwilson@casbah.acns.nwu.edu (Kirtley Wil...</td>\n",
       "      <td>2</td>\n",
       "      <td>comp.os.ms-windows.misc</td>\n",
       "    </tr>\n",
       "    <tr>\n",
       "      <th>10003</th>\n",
       "      <td>Subject: Re: Don't more innocents die without ...</td>\n",
       "      <td>0</td>\n",
       "      <td>alt.atheism</td>\n",
       "    </tr>\n",
       "    <tr>\n",
       "      <th>10004</th>\n",
       "      <td>From: livesey@solntze.wpd.sgi.com (Jon Livesey...</td>\n",
       "      <td>0</td>\n",
       "      <td>alt.atheism</td>\n",
       "    </tr>\n",
       "    <tr>\n",
       "      <th>10005</th>\n",
       "      <td>From: dls@aeg.dsto.gov.au (David Silver)\\nSubj...</td>\n",
       "      <td>1</td>\n",
       "      <td>comp.graphics</td>\n",
       "    </tr>\n",
       "    <tr>\n",
       "      <th>10006</th>\n",
       "      <td>Subject: Re: Mike Francesa's 1993 Predictions\\...</td>\n",
       "      <td>9</td>\n",
       "      <td>rec.sport.baseball</td>\n",
       "    </tr>\n",
       "    <tr>\n",
       "      <th>10007</th>\n",
       "      <td>From: jet@netcom.Netcom.COM (J. Eric Townsend)...</td>\n",
       "      <td>8</td>\n",
       "      <td>rec.motorcycles</td>\n",
       "    </tr>\n",
       "    <tr>\n",
       "      <th>10008</th>\n",
       "      <td>From: gld@cunixb.cc.columbia.edu (Gary L Dare)...</td>\n",
       "      <td>10</td>\n",
       "      <td>rec.sport.hockey</td>\n",
       "    </tr>\n",
       "    <tr>\n",
       "      <th>10009</th>\n",
       "      <td>From: sehari@iastate.edu (Babak Sehari)\\nSubje...</td>\n",
       "      <td>12</td>\n",
       "      <td>sci.electronics</td>\n",
       "    </tr>\n",
       "    <tr>\n",
       "      <th>1001</th>\n",
       "      <td>From: danmg@grok85.ColumbiaSC.NCR.COM (Daniel ...</td>\n",
       "      <td>7</td>\n",
       "      <td>rec.autos</td>\n",
       "    </tr>\n",
       "    <tr>\n",
       "      <th>10010</th>\n",
       "      <td>From: henry@zoo.toronto.edu (Henry Spencer)\\nS...</td>\n",
       "      <td>14</td>\n",
       "      <td>sci.space</td>\n",
       "    </tr>\n",
       "    <tr>\n",
       "      <th>10011</th>\n",
       "      <td>From: tzs@stein2.u.washington.edu (Tim Smith)\\...</td>\n",
       "      <td>18</td>\n",
       "      <td>talk.politics.misc</td>\n",
       "    </tr>\n",
       "    <tr>\n",
       "      <th>10012</th>\n",
       "      <td>From: U56149@uicvm.uic.edu\\nSubject: LCIII &amp; M...</td>\n",
       "      <td>4</td>\n",
       "      <td>comp.sys.mac.hardware</td>\n",
       "    </tr>\n",
       "    <tr>\n",
       "      <th>10013</th>\n",
       "      <td>From: nsmca@aurora.alaska.edu\\nSubject: Lunar ...</td>\n",
       "      <td>14</td>\n",
       "      <td>sci.space</td>\n",
       "    </tr>\n",
       "    <tr>\n",
       "      <th>10014</th>\n",
       "      <td>From: acooper@mac.cc.macalstr.edu\\nSubject: Re...</td>\n",
       "      <td>0</td>\n",
       "      <td>alt.atheism</td>\n",
       "    </tr>\n",
       "    <tr>\n",
       "      <th>10015</th>\n",
       "      <td>From: billc@col.hp.com (Bill Claussen)\\nSubjec...</td>\n",
       "      <td>13</td>\n",
       "      <td>sci.med</td>\n",
       "    </tr>\n",
       "    <tr>\n",
       "      <th>10016</th>\n",
       "      <td>From: vestman@cs.umu.se (Peter Vestman)\\nSubje...</td>\n",
       "      <td>2</td>\n",
       "      <td>comp.os.ms-windows.misc</td>\n",
       "    </tr>\n",
       "    <tr>\n",
       "      <th>10017</th>\n",
       "      <td>From: nstramer@supergas.dazixco.ingr.com (Naft...</td>\n",
       "      <td>17</td>\n",
       "      <td>talk.politics.mideast</td>\n",
       "    </tr>\n",
       "    <tr>\n",
       "      <th>10018</th>\n",
       "      <td>From: kohli@ecs.umass.edu\\nSubject: Mazda GLC ...</td>\n",
       "      <td>6</td>\n",
       "      <td>misc.forsale</td>\n",
       "    </tr>\n",
       "    <tr>\n",
       "      <th>10019</th>\n",
       "      <td>From: mussack@austin.ibm.com (Christopher Muss...</td>\n",
       "      <td>15</td>\n",
       "      <td>soc.religion.christian</td>\n",
       "    </tr>\n",
       "    <tr>\n",
       "      <th>1002</th>\n",
       "      <td>From: PA146008@utkvm1.utk.edu (David Veal)\\nSu...</td>\n",
       "      <td>18</td>\n",
       "      <td>talk.politics.misc</td>\n",
       "    </tr>\n",
       "    <tr>\n",
       "      <th>10020</th>\n",
       "      <td>From: noye@midway.uchicago.edu (vera shanti no...</td>\n",
       "      <td>15</td>\n",
       "      <td>soc.religion.christian</td>\n",
       "    </tr>\n",
       "    <tr>\n",
       "      <th>10021</th>\n",
       "      <td>From:  (Sean Garrison)\\nSubject: Re: WFAN\\nNnt...</td>\n",
       "      <td>9</td>\n",
       "      <td>rec.sport.baseball</td>\n",
       "    </tr>\n",
       "    <tr>\n",
       "      <th>10022</th>\n",
       "      <td>From: christy@cs.concordia.ca (Christy)\\nSubje...</td>\n",
       "      <td>5</td>\n",
       "      <td>comp.windows.x</td>\n",
       "    </tr>\n",
       "    <tr>\n",
       "      <th>...</th>\n",
       "      <td>...</td>\n",
       "      <td>...</td>\n",
       "      <td>...</td>\n",
       "    </tr>\n",
       "    <tr>\n",
       "      <th>9972</th>\n",
       "      <td>From: rash@access.digex.com (Wayne Rash)\\nSubj...</td>\n",
       "      <td>3</td>\n",
       "      <td>comp.sys.ibm.pc.hardware</td>\n",
       "    </tr>\n",
       "    <tr>\n",
       "      <th>9973</th>\n",
       "      <td>From: gt0523e@prism.gatech.EDU (Michael Andre ...</td>\n",
       "      <td>9</td>\n",
       "      <td>rec.sport.baseball</td>\n",
       "    </tr>\n",
       "    <tr>\n",
       "      <th>9974</th>\n",
       "      <td>From: dbernard@clesun.Central.Sun.COM (Dave Be...</td>\n",
       "      <td>16</td>\n",
       "      <td>talk.politics.guns</td>\n",
       "    </tr>\n",
       "    <tr>\n",
       "      <th>9975</th>\n",
       "      <td>From: smk5@quads.uchicago.edu (Steve Kramarsky...</td>\n",
       "      <td>11</td>\n",
       "      <td>sci.crypt</td>\n",
       "    </tr>\n",
       "    <tr>\n",
       "      <th>9976</th>\n",
       "      <td>From: ob00@ns1.cc.lehigh.edu (OLCAY BOZ)\\nSubj...</td>\n",
       "      <td>2</td>\n",
       "      <td>comp.os.ms-windows.misc</td>\n",
       "    </tr>\n",
       "    <tr>\n",
       "      <th>9977</th>\n",
       "      <td>From: sera@zuma.UUCP (Serdar Argic)\\nSubject: ...</td>\n",
       "      <td>17</td>\n",
       "      <td>talk.politics.mideast</td>\n",
       "    </tr>\n",
       "    <tr>\n",
       "      <th>9978</th>\n",
       "      <td>From: moskowit@panix.com (Len Moskowitz)\\nSubj...</td>\n",
       "      <td>19</td>\n",
       "      <td>talk.religion.misc</td>\n",
       "    </tr>\n",
       "    <tr>\n",
       "      <th>9979</th>\n",
       "      <td>From: rws2v@uvacs.cs.Virginia.EDU (Richard Sto...</td>\n",
       "      <td>1</td>\n",
       "      <td>comp.graphics</td>\n",
       "    </tr>\n",
       "    <tr>\n",
       "      <th>998</th>\n",
       "      <td>From: geb@cs.pitt.edu (Gordon Banks)\\nSubject:...</td>\n",
       "      <td>13</td>\n",
       "      <td>sci.med</td>\n",
       "    </tr>\n",
       "    <tr>\n",
       "      <th>9980</th>\n",
       "      <td>From: keith@cco.caltech.edu (Keith Allan Schne...</td>\n",
       "      <td>0</td>\n",
       "      <td>alt.atheism</td>\n",
       "    </tr>\n",
       "    <tr>\n",
       "      <th>9981</th>\n",
       "      <td>From: bredell@tdb.uu.se (Mats Bredell)\\nSubjec...</td>\n",
       "      <td>4</td>\n",
       "      <td>comp.sys.mac.hardware</td>\n",
       "    </tr>\n",
       "    <tr>\n",
       "      <th>9982</th>\n",
       "      <td>From: cantrell@sauron.msfc.nasa.gov (Eric Cant...</td>\n",
       "      <td>12</td>\n",
       "      <td>sci.electronics</td>\n",
       "    </tr>\n",
       "    <tr>\n",
       "      <th>9983</th>\n",
       "      <td>From: cosmo@pro-angmar.alfalfa.com (Frank Bens...</td>\n",
       "      <td>17</td>\n",
       "      <td>talk.politics.mideast</td>\n",
       "    </tr>\n",
       "    <tr>\n",
       "      <th>9984</th>\n",
       "      <td>From: as010b@uhura.cc.rochester.edu (Tree of S...</td>\n",
       "      <td>18</td>\n",
       "      <td>talk.politics.misc</td>\n",
       "    </tr>\n",
       "    <tr>\n",
       "      <th>9985</th>\n",
       "      <td>From: Thyagi@cup.portal.com (Thyagi Morgoth Na...</td>\n",
       "      <td>19</td>\n",
       "      <td>talk.religion.misc</td>\n",
       "    </tr>\n",
       "    <tr>\n",
       "      <th>9986</th>\n",
       "      <td>From: leech@cs.unc.edu (Jon Leech)\\nSubject: S...</td>\n",
       "      <td>14</td>\n",
       "      <td>sci.space</td>\n",
       "    </tr>\n",
       "    <tr>\n",
       "      <th>9987</th>\n",
       "      <td>From: dmp1@ukc.ac.uk (D.M.Procida)\\nSubject: R...</td>\n",
       "      <td>13</td>\n",
       "      <td>sci.med</td>\n",
       "    </tr>\n",
       "    <tr>\n",
       "      <th>9988</th>\n",
       "      <td>From: JBE5 &lt;JBE5@MUSICB.MCGILL.CA&gt;\\nSubject: W...</td>\n",
       "      <td>10</td>\n",
       "      <td>rec.sport.hockey</td>\n",
       "    </tr>\n",
       "    <tr>\n",
       "      <th>9989</th>\n",
       "      <td>From: kurt@oddjob.uchicago.edu (Kurt Henriksen...</td>\n",
       "      <td>8</td>\n",
       "      <td>rec.motorcycles</td>\n",
       "    </tr>\n",
       "    <tr>\n",
       "      <th>999</th>\n",
       "      <td>From: dxf12@po.cwru.edu (Douglas Fowler)\\nSubj...</td>\n",
       "      <td>15</td>\n",
       "      <td>soc.religion.christian</td>\n",
       "    </tr>\n",
       "    <tr>\n",
       "      <th>9990</th>\n",
       "      <td>From: dkfox@uxa.cso.uiuc.edu (fox darin k)\\nSu...</td>\n",
       "      <td>6</td>\n",
       "      <td>misc.forsale</td>\n",
       "    </tr>\n",
       "    <tr>\n",
       "      <th>9991</th>\n",
       "      <td>From: ez005997@othello.ucdavis.edu (Oppy)\\nSub...</td>\n",
       "      <td>3</td>\n",
       "      <td>comp.sys.ibm.pc.hardware</td>\n",
       "    </tr>\n",
       "    <tr>\n",
       "      <th>9992</th>\n",
       "      <td>From: mont@netcom.com (Mont Pierce)\\nSubject: ...</td>\n",
       "      <td>12</td>\n",
       "      <td>sci.electronics</td>\n",
       "    </tr>\n",
       "    <tr>\n",
       "      <th>9993</th>\n",
       "      <td>From: bskendig@netcom.com (Brian Kendig)\\nSubj...</td>\n",
       "      <td>19</td>\n",
       "      <td>talk.religion.misc</td>\n",
       "    </tr>\n",
       "    <tr>\n",
       "      <th>9994</th>\n",
       "      <td>From: carl@lvsun.com (Carl Shapiro)\\nSubject: ...</td>\n",
       "      <td>11</td>\n",
       "      <td>sci.crypt</td>\n",
       "    </tr>\n",
       "    <tr>\n",
       "      <th>9995</th>\n",
       "      <td>From: sanjay@kin.lap.upenn.edu (Sanjay Sinha)\\...</td>\n",
       "      <td>8</td>\n",
       "      <td>rec.motorcycles</td>\n",
       "    </tr>\n",
       "    <tr>\n",
       "      <th>9996</th>\n",
       "      <td>Organization: Central Michigan University\\nFro...</td>\n",
       "      <td>7</td>\n",
       "      <td>rec.autos</td>\n",
       "    </tr>\n",
       "    <tr>\n",
       "      <th>9997</th>\n",
       "      <td>From: cr292@cleveland.Freenet.Edu (Jim Schenk)...</td>\n",
       "      <td>10</td>\n",
       "      <td>rec.sport.hockey</td>\n",
       "    </tr>\n",
       "    <tr>\n",
       "      <th>9998</th>\n",
       "      <td>From: wbdst+@pitt.edu (William B Dwinnell)\\nSu...</td>\n",
       "      <td>1</td>\n",
       "      <td>comp.graphics</td>\n",
       "    </tr>\n",
       "    <tr>\n",
       "      <th>9999</th>\n",
       "      <td>From: ehung@ampex.com (Eric Hung)\\nSubject: Re...</td>\n",
       "      <td>3</td>\n",
       "      <td>comp.sys.ibm.pc.hardware</td>\n",
       "    </tr>\n",
       "  </tbody>\n",
       "</table>\n",
       "<p>11314 rows × 3 columns</p>\n",
       "</div>"
      ],
      "text/plain": [
       "                                                 content  target  \\\n",
       "0      From: lerxst@wam.umd.edu (where's my thing)\\nS...       7   \n",
       "1      From: guykuo@carson.u.washington.edu (Guy Kuo)...       4   \n",
       "10     From: irwin@cmptrc.lonestar.org (Irwin Arnstei...       8   \n",
       "100    From: tchen@magnus.acs.ohio-state.edu (Tsung-K...       6   \n",
       "1000   From: dabl2@nlm.nih.gov (Don A.B. Lindbergh)\\n...       2   \n",
       "10000  From: a207706@moe.dseg.ti.com (Robert Loper)\\n...       7   \n",
       "10001  From: kimman@magnus.acs.ohio-state.edu (Kim Ri...       6   \n",
       "10002  From: kwilson@casbah.acns.nwu.edu (Kirtley Wil...       2   \n",
       "10003  Subject: Re: Don't more innocents die without ...       0   \n",
       "10004  From: livesey@solntze.wpd.sgi.com (Jon Livesey...       0   \n",
       "10005  From: dls@aeg.dsto.gov.au (David Silver)\\nSubj...       1   \n",
       "10006  Subject: Re: Mike Francesa's 1993 Predictions\\...       9   \n",
       "10007  From: jet@netcom.Netcom.COM (J. Eric Townsend)...       8   \n",
       "10008  From: gld@cunixb.cc.columbia.edu (Gary L Dare)...      10   \n",
       "10009  From: sehari@iastate.edu (Babak Sehari)\\nSubje...      12   \n",
       "1001   From: danmg@grok85.ColumbiaSC.NCR.COM (Daniel ...       7   \n",
       "10010  From: henry@zoo.toronto.edu (Henry Spencer)\\nS...      14   \n",
       "10011  From: tzs@stein2.u.washington.edu (Tim Smith)\\...      18   \n",
       "10012  From: U56149@uicvm.uic.edu\\nSubject: LCIII & M...       4   \n",
       "10013  From: nsmca@aurora.alaska.edu\\nSubject: Lunar ...      14   \n",
       "10014  From: acooper@mac.cc.macalstr.edu\\nSubject: Re...       0   \n",
       "10015  From: billc@col.hp.com (Bill Claussen)\\nSubjec...      13   \n",
       "10016  From: vestman@cs.umu.se (Peter Vestman)\\nSubje...       2   \n",
       "10017  From: nstramer@supergas.dazixco.ingr.com (Naft...      17   \n",
       "10018  From: kohli@ecs.umass.edu\\nSubject: Mazda GLC ...       6   \n",
       "10019  From: mussack@austin.ibm.com (Christopher Muss...      15   \n",
       "1002   From: PA146008@utkvm1.utk.edu (David Veal)\\nSu...      18   \n",
       "10020  From: noye@midway.uchicago.edu (vera shanti no...      15   \n",
       "10021  From:  (Sean Garrison)\\nSubject: Re: WFAN\\nNnt...       9   \n",
       "10022  From: christy@cs.concordia.ca (Christy)\\nSubje...       5   \n",
       "...                                                  ...     ...   \n",
       "9972   From: rash@access.digex.com (Wayne Rash)\\nSubj...       3   \n",
       "9973   From: gt0523e@prism.gatech.EDU (Michael Andre ...       9   \n",
       "9974   From: dbernard@clesun.Central.Sun.COM (Dave Be...      16   \n",
       "9975   From: smk5@quads.uchicago.edu (Steve Kramarsky...      11   \n",
       "9976   From: ob00@ns1.cc.lehigh.edu (OLCAY BOZ)\\nSubj...       2   \n",
       "9977   From: sera@zuma.UUCP (Serdar Argic)\\nSubject: ...      17   \n",
       "9978   From: moskowit@panix.com (Len Moskowitz)\\nSubj...      19   \n",
       "9979   From: rws2v@uvacs.cs.Virginia.EDU (Richard Sto...       1   \n",
       "998    From: geb@cs.pitt.edu (Gordon Banks)\\nSubject:...      13   \n",
       "9980   From: keith@cco.caltech.edu (Keith Allan Schne...       0   \n",
       "9981   From: bredell@tdb.uu.se (Mats Bredell)\\nSubjec...       4   \n",
       "9982   From: cantrell@sauron.msfc.nasa.gov (Eric Cant...      12   \n",
       "9983   From: cosmo@pro-angmar.alfalfa.com (Frank Bens...      17   \n",
       "9984   From: as010b@uhura.cc.rochester.edu (Tree of S...      18   \n",
       "9985   From: Thyagi@cup.portal.com (Thyagi Morgoth Na...      19   \n",
       "9986   From: leech@cs.unc.edu (Jon Leech)\\nSubject: S...      14   \n",
       "9987   From: dmp1@ukc.ac.uk (D.M.Procida)\\nSubject: R...      13   \n",
       "9988   From: JBE5 <JBE5@MUSICB.MCGILL.CA>\\nSubject: W...      10   \n",
       "9989   From: kurt@oddjob.uchicago.edu (Kurt Henriksen...       8   \n",
       "999    From: dxf12@po.cwru.edu (Douglas Fowler)\\nSubj...      15   \n",
       "9990   From: dkfox@uxa.cso.uiuc.edu (fox darin k)\\nSu...       6   \n",
       "9991   From: ez005997@othello.ucdavis.edu (Oppy)\\nSub...       3   \n",
       "9992   From: mont@netcom.com (Mont Pierce)\\nSubject: ...      12   \n",
       "9993   From: bskendig@netcom.com (Brian Kendig)\\nSubj...      19   \n",
       "9994   From: carl@lvsun.com (Carl Shapiro)\\nSubject: ...      11   \n",
       "9995   From: sanjay@kin.lap.upenn.edu (Sanjay Sinha)\\...       8   \n",
       "9996   Organization: Central Michigan University\\nFro...       7   \n",
       "9997   From: cr292@cleveland.Freenet.Edu (Jim Schenk)...      10   \n",
       "9998   From: wbdst+@pitt.edu (William B Dwinnell)\\nSu...       1   \n",
       "9999   From: ehung@ampex.com (Eric Hung)\\nSubject: Re...       3   \n",
       "\n",
       "                   target_names  \n",
       "0                     rec.autos  \n",
       "1         comp.sys.mac.hardware  \n",
       "10              rec.motorcycles  \n",
       "100                misc.forsale  \n",
       "1000    comp.os.ms-windows.misc  \n",
       "10000                 rec.autos  \n",
       "10001              misc.forsale  \n",
       "10002   comp.os.ms-windows.misc  \n",
       "10003               alt.atheism  \n",
       "10004               alt.atheism  \n",
       "10005             comp.graphics  \n",
       "10006        rec.sport.baseball  \n",
       "10007           rec.motorcycles  \n",
       "10008          rec.sport.hockey  \n",
       "10009           sci.electronics  \n",
       "1001                  rec.autos  \n",
       "10010                 sci.space  \n",
       "10011        talk.politics.misc  \n",
       "10012     comp.sys.mac.hardware  \n",
       "10013                 sci.space  \n",
       "10014               alt.atheism  \n",
       "10015                   sci.med  \n",
       "10016   comp.os.ms-windows.misc  \n",
       "10017     talk.politics.mideast  \n",
       "10018              misc.forsale  \n",
       "10019    soc.religion.christian  \n",
       "1002         talk.politics.misc  \n",
       "10020    soc.religion.christian  \n",
       "10021        rec.sport.baseball  \n",
       "10022            comp.windows.x  \n",
       "...                         ...  \n",
       "9972   comp.sys.ibm.pc.hardware  \n",
       "9973         rec.sport.baseball  \n",
       "9974         talk.politics.guns  \n",
       "9975                  sci.crypt  \n",
       "9976    comp.os.ms-windows.misc  \n",
       "9977      talk.politics.mideast  \n",
       "9978         talk.religion.misc  \n",
       "9979              comp.graphics  \n",
       "998                     sci.med  \n",
       "9980                alt.atheism  \n",
       "9981      comp.sys.mac.hardware  \n",
       "9982            sci.electronics  \n",
       "9983      talk.politics.mideast  \n",
       "9984         talk.politics.misc  \n",
       "9985         talk.religion.misc  \n",
       "9986                  sci.space  \n",
       "9987                    sci.med  \n",
       "9988           rec.sport.hockey  \n",
       "9989            rec.motorcycles  \n",
       "999      soc.religion.christian  \n",
       "9990               misc.forsale  \n",
       "9991   comp.sys.ibm.pc.hardware  \n",
       "9992            sci.electronics  \n",
       "9993         talk.religion.misc  \n",
       "9994                  sci.crypt  \n",
       "9995            rec.motorcycles  \n",
       "9996                  rec.autos  \n",
       "9997           rec.sport.hockey  \n",
       "9998              comp.graphics  \n",
       "9999   comp.sys.ibm.pc.hardware  \n",
       "\n",
       "[11314 rows x 3 columns]"
      ]
     },
     "execution_count": 34,
     "metadata": {},
     "output_type": "execute_result"
    }
   ],
   "source": [
    "df"
   ]
  },
  {
   "cell_type": "code",
   "execution_count": 37,
   "metadata": {},
   "outputs": [],
   "source": [
    "pca = make_pipeline(StandardScaler(), PCA(2))\n",
    "X_pca = pca.fit_transform(X_train, y_train)"
   ]
  },
  {
   "cell_type": "code",
   "execution_count": 42,
   "metadata": {},
   "outputs": [
    {
     "data": {
      "text/plain": [
       "<matplotlib.collections.PathCollection at 0x2c4bb56f240>"
      ]
     },
     "execution_count": 42,
     "metadata": {},
     "output_type": "execute_result"
    },
    {
     "data": {
      "image/png": "[encoded data removed]",
      "text/plain": [
       "<Figure size 432x288 with 1 Axes>"
      ]
     },
     "metadata": {},
     "output_type": "display_data"
    }
   ],
   "source": [
    "plt.scatter(X_pca[:, 0], X_pca[:, 1])"
   ]
  },
  {
   "cell_type": "code",
   "execution_count": 57,
   "metadata": {},
   "outputs": [
    {
     "data": {
      "image/png": "[encoded data removed]",
      "text/plain": [
       "<Figure size 864x432 with 2 Axes>"
      ]
     },
     "metadata": {},
     "output_type": "display_data"
    }
   ],
   "source": [
    "plt.figure(figsize=(12, 6))\n",
    "plt.imshow(pca.named_steps['pca'].components_.T)\n",
    "plt.yticks(range(8), data.columns[:-1])\n",
    "plt.colorbar();"
   ]
  },
  {
   "cell_type": "code",
   "execution_count": 53,
   "metadata": {},
   "outputs": [
    {
     "data": {
      "text/plain": [
       "RandomizedSearchCV(cv=StratifiedKFold(n_splits=5, random_state=1, shuffle=True),\n",
       "          error_score='raise',\n",
       "          estimator=Pipeline(memory=None,\n",
       "     steps=[('robustscaler', RobustScaler(copy=True, quantile_range=(25.0, 75.0), with_centering=True,\n",
       "       with_scaling=True)), ('randomforestclassifier', RandomForestClassifier(bootstrap=True, class_weight='balanced',\n",
       "            criterion='gini', max_depth=None, max_features='auto',\n",
       "            max_...timators=10, n_jobs=1, oob_score=False, random_state=123,\n",
       "            verbose=0, warm_start=False))]),\n",
       "          fit_params=None, iid=True, n_iter=10, n_jobs=-1,\n",
       "          param_distributions={'randomforestclassifier__n_estimators': array([ 750,  650,  250,  400,  100,  700,  200,  550,  950,  400,  600,\n",
       "        250,  750,  500, 1000,  150,  100,  850,  700,  400]), 'randomforestclassifier__min_impurity_decrease': array([0.03928, 0.00143, 0.00115, 0.00176, 0.00028, 0....[18, 27, 22, 22, 16, 41, 21, 40, 15, 39, 2, 25, 18, 8, 23, 3, 19,\n",
       "       24, 27, 30], dtype=object)},\n",
       "          pre_dispatch='2*n_jobs', random_state=None, refit=True,\n",
       "          return_train_score='warn', scoring='roc_auc', verbose=0)"
      ]
     },
     "execution_count": 53,
     "metadata": {},
     "output_type": "execute_result"
    }
   ],
   "source": [
    "num_param_combinations = 20\n",
    "n_estimators = np.random.choice(\n",
    "    list(range(50, 1001, 50)), size=num_param_combinations)\n",
    "min_impurity_decrease = np.random.exponential(\n",
    "    scale=0.01, size=num_param_combinations)\n",
    "max_features = np.random.choice(list(np.arange(\n",
    "    0.01, 1., 0.01)), size=num_param_combinations)\n",
    "criterion = np.random.choice(\n",
    "    ['gini', 'entropy'], size=num_param_combinations)\n",
    "max_depth = np.random.choice(\n",
    "    list(range(1, 51)) + [None], size=num_param_combinations)\n",
    "\n",
    "hyperparam_space = {\n",
    "    'randomforestclassifier__n_estimators': n_estimators,\n",
    "    'randomforestclassifier__min_impurity_decrease': min_impurity_decrease,\n",
    "    'randomforestclassifier__max_features': max_features,\n",
    "    'randomforestclassifier__criterion': criterion,\n",
    "    'randomforestclassifier__max_depth': max_depth,\n",
    "    }\n",
    "\n",
    "rf_pipeline = make_pipeline(RobustScaler(),\n",
    "                            RandomForestClassifier(class_weight='balanced',\n",
    "                                                   random_state=123)\n",
    "                           )\n",
    "\n",
    "rf_clf = RandomizedSearchCV(rf_pipeline,\n",
    "                            param_distributions=hyperparam_space,\n",
    "                            n_iter=10,\n",
    "                            scoring='roc_auc',\n",
    "                            n_jobs=-1,\n",
    "                            cv=kf, )\n",
    "\n",
    "rf_clf.fit(X_train, y_train)"
   ]
  },
  {
   "cell_type": "code",
   "execution_count": 65,
   "metadata": {},
   "outputs": [
    {
     "data": {
      "text/plain": [
       "dict_keys(['mean_fit_time', 'std_fit_time', 'mean_score_time', 'std_score_time', 'param_randomforestclassifier__n_estimators', 'param_randomforestclassifier__min_impurity_decrease', 'param_randomforestclassifier__max_features', 'param_randomforestclassifier__max_depth', 'param_randomforestclassifier__criterion', 'params', 'split0_test_score', 'split1_test_score', 'split2_test_score', 'split3_test_score', 'split4_test_score', 'mean_test_score', 'std_test_score', 'rank_test_score', 'split0_train_score', 'split1_train_score', 'split2_train_score', 'split3_train_score', 'split4_train_score', 'mean_train_score', 'std_train_score'])"
      ]
     },
     "execution_count": 65,
     "metadata": {},
     "output_type": "execute_result"
    }
   ],
   "source": [
    "rf_clf.cv_results_.keys()"
   ]
  },
  {
   "cell_type": "code",
   "execution_count": 87,
   "metadata": {
    "collapsed": true
   },
   "outputs": [
    {
     "name": "stdout",
     "output_type": "stream",
     "text": [
      "Model rank 1\n",
      "------------\n",
      "Mean validation score: 0.853 (std: 0.070)\n",
      "Parameters: {'randomforestclassifier__n_estimators': 400, 'randomforestclassifier__min_impurity_decrease': 0.017487904797311028, 'randomforestclassifier__max_features': 0.6, 'randomforestclassifier__max_depth': 21, 'randomforestclassifier__criterion': 'entropy'}\n",
      "\n",
      "Model rank 2\n",
      "------------\n",
      "Mean validation score: 0.852 (std: 0.073)\n",
      "Parameters: {'randomforestclassifier__n_estimators': 500, 'randomforestclassifier__min_impurity_decrease': 0.005737325744106, 'randomforestclassifier__max_features': 0.59, 'randomforestclassifier__max_depth': 15, 'randomforestclassifier__criterion': 'entropy'}\n",
      "\n",
      "Model rank 3\n",
      "------------\n",
      "Mean validation score: 0.842 (std: 0.075)\n",
      "Parameters: {'randomforestclassifier__n_estimators': 200, 'randomforestclassifier__min_impurity_decrease': 0.004047562614227455, 'randomforestclassifier__max_features': 0.32, 'randomforestclassifier__max_depth': 22, 'randomforestclassifier__criterion': 'gini'}\n",
      "\n"
     ]
    }
   ],
   "source": [
    "utils.report_search_cv(rf_clf.cv_results_)"
   ]
  }
 ],
 "metadata": {
  "kernelspec": {
   "display_name": "Python 3",
   "language": "python",
   "name": "python3"
  },
  "language_info": {
   "codemirror_mode": {
    "name": "ipython",
    "version": 3
   },
   "file_extension": ".py",
   "mimetype": "text/x-python",
   "name": "python",
   "nbconvert_exporter": "python",
   "pygments_lexer": "ipython3",
   "version": "3.6.5"
  }
 },
 "nbformat": 4,
 "nbformat_minor": 2
}
