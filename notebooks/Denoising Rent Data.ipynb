{
 "cells": [
  {
   "cell_type": "code",
   "execution_count": 1,
   "metadata": {},
   "outputs": [],
   "source": [
    "import sys\n",
    "\n",
    "import matplotlib.pyplot as plt\n",
    "import numpy as np\n",
    "import pandas as pd\n",
    "import seaborn as sns\n",
    "from sklearn.model_selection import train_test_split, cross_val_score\n",
    "from sklearn.ensemble import RandomForestRegressor\n",
    "from sklearn.linear_model import Lasso\n",
    "from sklearn.metrics import mean_absolute_error\n",
    "\n",
    "sys.path.append('../utils/')\n",
    "import utils\n",
    "\n",
    "%matplotlib inline\n",
    "plt.style.use('fivethirtyeight')\n",
    "sns.set_context('notebook')"
   ]
  },
  {
   "cell_type": "code",
   "execution_count": 2,
   "metadata": {},
   "outputs": [],
   "source": [
    "%load_ext autoreload\n",
    "%autoreload 2"
   ]
  },
  {
   "cell_type": "code",
   "execution_count": 3,
   "metadata": {},
   "outputs": [
    {
     "data": {
      "text/plain": [
       "(49352, 15)"
      ]
     },
     "execution_count": 3,
     "metadata": {},
     "output_type": "execute_result"
    }
   ],
   "source": [
    "df = pd.read_csv('../data/rent.csv')\n",
    "df.shape"
   ]
  },
  {
   "cell_type": "code",
   "execution_count": 4,
   "metadata": {},
   "outputs": [
    {
     "data": {
      "text/html": [
       "<div>\n",
       "<style scoped>\n",
       "    .dataframe tbody tr th:only-of-type {\n",
       "        vertical-align: middle;\n",
       "    }\n",
       "\n",
       "    .dataframe tbody tr th {\n",
       "        vertical-align: top;\n",
       "    }\n",
       "\n",
       "    .dataframe thead th {\n",
       "        text-align: right;\n",
       "    }\n",
       "</style>\n",
       "<table border=\"1\" class=\"dataframe\">\n",
       "  <thead>\n",
       "    <tr style=\"text-align: right;\">\n",
       "      <th></th>\n",
       "      <th>0</th>\n",
       "      <th>1</th>\n",
       "    </tr>\n",
       "  </thead>\n",
       "  <tbody>\n",
       "    <tr>\n",
       "      <th>bathrooms</th>\n",
       "      <td>1.5</td>\n",
       "      <td>1</td>\n",
       "    </tr>\n",
       "    <tr>\n",
       "      <th>bedrooms</th>\n",
       "      <td>3</td>\n",
       "      <td>2</td>\n",
       "    </tr>\n",
       "    <tr>\n",
       "      <th>building_id</th>\n",
       "      <td>53a5b119ba8f7b61d4e010512e0dfc85</td>\n",
       "      <td>c5c8a357cba207596b04d1afd1e4f130</td>\n",
       "    </tr>\n",
       "    <tr>\n",
       "      <th>created</th>\n",
       "      <td>2016-06-24 07:54:24</td>\n",
       "      <td>2016-06-12 12:19:27</td>\n",
       "    </tr>\n",
       "    <tr>\n",
       "      <th>description</th>\n",
       "      <td>A Brand New 3 Bedroom 1.5 bath ApartmentEnjoy ...</td>\n",
       "      <td></td>\n",
       "    </tr>\n",
       "    <tr>\n",
       "      <th>display_address</th>\n",
       "      <td>Metropolitan Avenue</td>\n",
       "      <td>Columbus Avenue</td>\n",
       "    </tr>\n",
       "    <tr>\n",
       "      <th>features</th>\n",
       "      <td>[]</td>\n",
       "      <td>['Doorman', 'Elevator', 'Fitness Center', 'Cat...</td>\n",
       "    </tr>\n",
       "    <tr>\n",
       "      <th>interest_level</th>\n",
       "      <td>medium</td>\n",
       "      <td>low</td>\n",
       "    </tr>\n",
       "    <tr>\n",
       "      <th>latitude</th>\n",
       "      <td>40.7145</td>\n",
       "      <td>40.7947</td>\n",
       "    </tr>\n",
       "    <tr>\n",
       "      <th>listing_id</th>\n",
       "      <td>7211212</td>\n",
       "      <td>7150865</td>\n",
       "    </tr>\n",
       "    <tr>\n",
       "      <th>longitude</th>\n",
       "      <td>-73.9425</td>\n",
       "      <td>-73.9667</td>\n",
       "    </tr>\n",
       "    <tr>\n",
       "      <th>manager_id</th>\n",
       "      <td>5ba989232d0489da1b5f2c45f6688adc</td>\n",
       "      <td>7533621a882f71e25173b27e3139d83d</td>\n",
       "    </tr>\n",
       "    <tr>\n",
       "      <th>photos</th>\n",
       "      <td>['https://photos.renthop.com/2/7211212_1ed4542...</td>\n",
       "      <td>['https://photos.renthop.com/2/7150865_be3306c...</td>\n",
       "    </tr>\n",
       "    <tr>\n",
       "      <th>price</th>\n",
       "      <td>3000</td>\n",
       "      <td>5465</td>\n",
       "    </tr>\n",
       "    <tr>\n",
       "      <th>street_address</th>\n",
       "      <td>792 Metropolitan Avenue</td>\n",
       "      <td>808 Columbus Avenue</td>\n",
       "    </tr>\n",
       "  </tbody>\n",
       "</table>\n",
       "</div>"
      ],
      "text/plain": [
       "                                                                 0  \\\n",
       "bathrooms                                                      1.5   \n",
       "bedrooms                                                         3   \n",
       "building_id                       53a5b119ba8f7b61d4e010512e0dfc85   \n",
       "created                                        2016-06-24 07:54:24   \n",
       "description      A Brand New 3 Bedroom 1.5 bath ApartmentEnjoy ...   \n",
       "display_address                                Metropolitan Avenue   \n",
       "features                                                        []   \n",
       "interest_level                                              medium   \n",
       "latitude                                                   40.7145   \n",
       "listing_id                                                 7211212   \n",
       "longitude                                                 -73.9425   \n",
       "manager_id                        5ba989232d0489da1b5f2c45f6688adc   \n",
       "photos           ['https://photos.renthop.com/2/7211212_1ed4542...   \n",
       "price                                                         3000   \n",
       "street_address                             792 Metropolitan Avenue   \n",
       "\n",
       "                                                                 1  \n",
       "bathrooms                                                        1  \n",
       "bedrooms                                                         2  \n",
       "building_id                       c5c8a357cba207596b04d1afd1e4f130  \n",
       "created                                        2016-06-12 12:19:27  \n",
       "description                                                         \n",
       "display_address                                    Columbus Avenue  \n",
       "features         ['Doorman', 'Elevator', 'Fitness Center', 'Cat...  \n",
       "interest_level                                                 low  \n",
       "latitude                                                   40.7947  \n",
       "listing_id                                                 7150865  \n",
       "longitude                                                 -73.9667  \n",
       "manager_id                        7533621a882f71e25173b27e3139d83d  \n",
       "photos           ['https://photos.renthop.com/2/7150865_be3306c...  \n",
       "price                                                         5465  \n",
       "street_address                                 808 Columbus Avenue  "
      ]
     },
     "execution_count": 4,
     "metadata": {},
     "output_type": "execute_result"
    }
   ],
   "source": [
    "df.head(2).T"
   ]
  },
  {
   "cell_type": "code",
   "execution_count": 5,
   "metadata": {},
   "outputs": [
    {
     "name": "stdout",
     "output_type": "stream",
     "text": [
      "<class 'pandas.core.frame.DataFrame'>\n",
      "RangeIndex: 49352 entries, 0 to 49351\n",
      "Data columns (total 15 columns):\n",
      "bathrooms          49352 non-null float64\n",
      "bedrooms           49352 non-null int64\n",
      "building_id        49352 non-null object\n",
      "created            49352 non-null object\n",
      "description        47906 non-null object\n",
      "display_address    49217 non-null object\n",
      "features           49352 non-null object\n",
      "interest_level     49352 non-null object\n",
      "latitude           49352 non-null float64\n",
      "listing_id         49352 non-null int64\n",
      "longitude          49352 non-null float64\n",
      "manager_id         49352 non-null object\n",
      "photos             49352 non-null object\n",
      "price              49352 non-null int64\n",
      "street_address     49342 non-null object\n",
      "dtypes: float64(3), int64(3), object(9)\n",
      "memory usage: 5.6+ MB\n"
     ]
    }
   ],
   "source": [
    "df.info()"
   ]
  },
  {
   "cell_type": "code",
   "execution_count": 6,
   "metadata": {},
   "outputs": [
    {
     "data": {
      "text/html": [
       "<div>\n",
       "<style scoped>\n",
       "    .dataframe tbody tr th:only-of-type {\n",
       "        vertical-align: middle;\n",
       "    }\n",
       "\n",
       "    .dataframe tbody tr th {\n",
       "        vertical-align: top;\n",
       "    }\n",
       "\n",
       "    .dataframe thead th {\n",
       "        text-align: right;\n",
       "    }\n",
       "</style>\n",
       "<table border=\"1\" class=\"dataframe\">\n",
       "  <thead>\n",
       "    <tr style=\"text-align: right;\">\n",
       "      <th></th>\n",
       "      <th>bathrooms</th>\n",
       "      <th>bedrooms</th>\n",
       "      <th>longitude</th>\n",
       "      <th>latitude</th>\n",
       "      <th>price</th>\n",
       "    </tr>\n",
       "  </thead>\n",
       "  <tbody>\n",
       "    <tr>\n",
       "      <th>0</th>\n",
       "      <td>1.5</td>\n",
       "      <td>3</td>\n",
       "      <td>-73.9425</td>\n",
       "      <td>40.7145</td>\n",
       "      <td>3000</td>\n",
       "    </tr>\n",
       "    <tr>\n",
       "      <th>1</th>\n",
       "      <td>1.0</td>\n",
       "      <td>2</td>\n",
       "      <td>-73.9667</td>\n",
       "      <td>40.7947</td>\n",
       "      <td>5465</td>\n",
       "    </tr>\n",
       "  </tbody>\n",
       "</table>\n",
       "</div>"
      ],
      "text/plain": [
       "   bathrooms  bedrooms  longitude  latitude  price\n",
       "0        1.5         3   -73.9425   40.7145   3000\n",
       "1        1.0         2   -73.9667   40.7947   5465"
      ]
     },
     "execution_count": 6,
     "metadata": {},
     "output_type": "execute_result"
    }
   ],
   "source": [
    "df = df[['bathrooms', 'bedrooms', 'longitude', 'latitude', 'price']]\n",
    "df.head(2)"
   ]
  },
  {
   "cell_type": "code",
   "execution_count": 7,
   "metadata": {},
   "outputs": [],
   "source": [
    "# Split the data and save them to disk\n",
    "df_train, df_test = train_test_split(df, test_size=0.15)\n",
    "df_train.to_csv('../data/rent-train.csv')\n",
    "df_test.to_csv('../data/rent-test.csv')\n",
    "\n",
    "# Separate features and target\n",
    "X_train, y_train = df_train[['bathrooms', 'bedrooms', 'longitude', 'latitude']], df_train['price']\n",
    "X_test, y_test = df_test[['bathrooms', 'bedrooms', 'longitude', 'latitude']], df_test['price']"
   ]
  },
  {
   "cell_type": "code",
   "execution_count": 8,
   "metadata": {},
   "outputs": [
    {
     "name": "stdout",
     "output_type": "stream",
     "text": [
      "$305.40 average error on training data\n"
     ]
    }
   ],
   "source": [
    "# Run baseline RF model\n",
    "rf = RandomForestRegressor(n_estimators=100, n_jobs=-1)\n",
    "rf.fit(X_train, y_train)\n",
    "\n",
    "# Compute mean abs error\n",
    "train_pred = rf.predict(X_train)\n",
    "train_error = mean_absolute_error(y_train, train_pred)\n",
    "print(f'${train_error:.2f} average error on training data')"
   ]
  },
  {
   "cell_type": "code",
   "execution_count": 9,
   "metadata": {},
   "outputs": [
    {
     "name": "stdout",
     "output_type": "stream",
     "text": [
      "5-folds CV MAE: $561.36 +/- $275.99\n"
     ]
    }
   ],
   "source": [
    "# Run k-folds CV to get a better estimates of MAE\n",
    "rf = RandomForestRegressor(n_estimators=100, n_jobs=-1)\n",
    "k = 5\n",
    "cv_error = -cross_val_score(rf,\n",
    "                            X_train, y_train,\n",
    "                            cv=5,\n",
    "                            scoring='neg_mean_absolute_error',\n",
    "                            n_jobs=-1)\n",
    "\n",
    "# Avg and std of CV error\n",
    "avg_cv_error = cv_error.mean()\n",
    "std_cv_error = cv_error.std()\n",
    "print(f'{k}-folds CV MAE: ${avg_cv_error:.2f} +/- ${std_cv_error:.2f}')"
   ]
  },
  {
   "cell_type": "code",
   "execution_count": 10,
   "metadata": {},
   "outputs": [
    {
     "data": {
      "image/png": "[encoded data removed]",
      "text/plain": [
       "<Figure size 576x432 with 1 Axes>"
      ]
     },
     "metadata": {},
     "output_type": "display_data"
    }
   ],
   "source": [
    "utils.plot_cv_error(cv_error, metric_name='MAI', figsize=(8, 6))"
   ]
  },
  {
   "cell_type": "code",
   "execution_count": 11,
   "metadata": {},
   "outputs": [
    {
     "data": {
      "text/html": [
       "<div>\n",
       "<style scoped>\n",
       "    .dataframe tbody tr th:only-of-type {\n",
       "        vertical-align: middle;\n",
       "    }\n",
       "\n",
       "    .dataframe tbody tr th {\n",
       "        vertical-align: top;\n",
       "    }\n",
       "\n",
       "    .dataframe thead th {\n",
       "        text-align: right;\n",
       "    }\n",
       "</style>\n",
       "<table border=\"1\" class=\"dataframe\">\n",
       "  <thead>\n",
       "    <tr style=\"text-align: right;\">\n",
       "      <th></th>\n",
       "      <th>bathrooms</th>\n",
       "      <th>bedrooms</th>\n",
       "      <th>longitude</th>\n",
       "      <th>latitude</th>\n",
       "      <th>price</th>\n",
       "    </tr>\n",
       "  </thead>\n",
       "  <tbody>\n",
       "    <tr>\n",
       "      <th>count</th>\n",
       "      <td>49352.00000</td>\n",
       "      <td>49352.000000</td>\n",
       "      <td>49352.000000</td>\n",
       "      <td>49352.000000</td>\n",
       "      <td>4.935200e+04</td>\n",
       "    </tr>\n",
       "    <tr>\n",
       "      <th>mean</th>\n",
       "      <td>1.21218</td>\n",
       "      <td>1.541640</td>\n",
       "      <td>-73.955716</td>\n",
       "      <td>40.741545</td>\n",
       "      <td>3.830174e+03</td>\n",
       "    </tr>\n",
       "    <tr>\n",
       "      <th>std</th>\n",
       "      <td>0.50142</td>\n",
       "      <td>1.115018</td>\n",
       "      <td>1.177912</td>\n",
       "      <td>0.638535</td>\n",
       "      <td>2.206687e+04</td>\n",
       "    </tr>\n",
       "    <tr>\n",
       "      <th>min</th>\n",
       "      <td>0.00000</td>\n",
       "      <td>0.000000</td>\n",
       "      <td>-118.271000</td>\n",
       "      <td>0.000000</td>\n",
       "      <td>4.300000e+01</td>\n",
       "    </tr>\n",
       "    <tr>\n",
       "      <th>25%</th>\n",
       "      <td>1.00000</td>\n",
       "      <td>1.000000</td>\n",
       "      <td>-73.991700</td>\n",
       "      <td>40.728300</td>\n",
       "      <td>2.500000e+03</td>\n",
       "    </tr>\n",
       "    <tr>\n",
       "      <th>50%</th>\n",
       "      <td>1.00000</td>\n",
       "      <td>1.000000</td>\n",
       "      <td>-73.977900</td>\n",
       "      <td>40.751800</td>\n",
       "      <td>3.150000e+03</td>\n",
       "    </tr>\n",
       "    <tr>\n",
       "      <th>75%</th>\n",
       "      <td>1.00000</td>\n",
       "      <td>2.000000</td>\n",
       "      <td>-73.954800</td>\n",
       "      <td>40.774300</td>\n",
       "      <td>4.100000e+03</td>\n",
       "    </tr>\n",
       "    <tr>\n",
       "      <th>max</th>\n",
       "      <td>10.00000</td>\n",
       "      <td>8.000000</td>\n",
       "      <td>0.000000</td>\n",
       "      <td>44.883500</td>\n",
       "      <td>4.490000e+06</td>\n",
       "    </tr>\n",
       "  </tbody>\n",
       "</table>\n",
       "</div>"
      ],
      "text/plain": [
       "         bathrooms      bedrooms     longitude      latitude         price\n",
       "count  49352.00000  49352.000000  49352.000000  49352.000000  4.935200e+04\n",
       "mean       1.21218      1.541640    -73.955716     40.741545  3.830174e+03\n",
       "std        0.50142      1.115018      1.177912      0.638535  2.206687e+04\n",
       "min        0.00000      0.000000   -118.271000      0.000000  4.300000e+01\n",
       "25%        1.00000      1.000000    -73.991700     40.728300  2.500000e+03\n",
       "50%        1.00000      1.000000    -73.977900     40.751800  3.150000e+03\n",
       "75%        1.00000      2.000000    -73.954800     40.774300  4.100000e+03\n",
       "max       10.00000      8.000000      0.000000     44.883500  4.490000e+06"
      ]
     },
     "execution_count": 11,
     "metadata": {},
     "output_type": "execute_result"
    }
   ],
   "source": [
    "# EDA\n",
    "df.describe()"
   ]
  },
  {
   "cell_type": "code",
   "execution_count": 12,
   "metadata": {},
   "outputs": [
    {
     "data": {
      "text/plain": [
       "1.0     39422\n",
       "2.0      7660\n",
       "3.0       745\n",
       "1.5       645\n",
       "0.0       313\n",
       "2.5       277\n",
       "4.0       159\n",
       "3.5        70\n",
       "4.5        29\n",
       "5.0        20\n",
       "5.5         5\n",
       "6.0         4\n",
       "6.5         1\n",
       "10.0        1\n",
       "7.0         1\n",
       "Name: bathrooms, dtype: int64"
      ]
     },
     "execution_count": 12,
     "metadata": {},
     "output_type": "execute_result"
    }
   ],
   "source": [
    "df.bathrooms.value_counts()"
   ]
  },
  {
   "cell_type": "code",
   "execution_count": 13,
   "metadata": {},
   "outputs": [
    {
     "data": {
      "text/plain": [
       "1    15752\n",
       "2    14623\n",
       "0     9475\n",
       "3     7276\n",
       "4     1929\n",
       "5      247\n",
       "6       46\n",
       "8        2\n",
       "7        2\n",
       "Name: bedrooms, dtype: int64"
      ]
     },
     "execution_count": 13,
     "metadata": {},
     "output_type": "execute_result"
    }
   ],
   "source": [
    "df.bedrooms.value_counts()"
   ]
  },
  {
   "cell_type": "code",
   "execution_count": 14,
   "metadata": {},
   "outputs": [
    {
     "data": {
      "text/plain": [
       "19558    4490000\n",
       "9590     1150000\n",
       "30689    1070000\n",
       "29665    1070000\n",
       "10581     135000\n",
       "25538     111111\n",
       "45674     100000\n",
       "29082      90000\n",
       "7336       85000\n",
       "47995      80000\n",
       "Name: price, dtype: int64"
      ]
     },
     "execution_count": 14,
     "metadata": {},
     "output_type": "execute_result"
    }
   ],
   "source": [
    "df.price.sort_values(ascending=False).head(10)"
   ]
  },
  {
   "cell_type": "markdown",
   "metadata": {},
   "source": [
    "- Looks like the majority of the apartments have less than 6 bedrooms and/or 6 bathrooms.\n",
    "- Also, looks like $4,490,000 rent/month is an outlier.\n",
    "- Moreover, most likely longitude 0 and latitude 0 are errors."
   ]
  },
  {
   "cell_type": "code",
   "execution_count": 15,
   "metadata": {},
   "outputs": [
    {
     "data": {
      "text/plain": [
       "bathrooms    0\n",
       "bedrooms     0\n",
       "longitude    0\n",
       "latitude     0\n",
       "price        0\n",
       "dtype: int64"
      ]
     },
     "execution_count": 15,
     "metadata": {},
     "output_type": "execute_result"
    }
   ],
   "source": [
    "df.isnull().sum()"
   ]
  },
  {
   "cell_type": "code",
   "execution_count": 16,
   "metadata": {},
   "outputs": [
    {
     "data": {
      "image/png": "[encoded data removed]",
      "text/plain": [
       "<Figure size 432x288 with 1 Axes>"
      ]
     },
     "metadata": {},
     "output_type": "display_data"
    }
   ],
   "source": [
    "plt.hist(df.bedrooms);"
   ]
  },
  {
   "cell_type": "code",
   "execution_count": 17,
   "metadata": {},
   "outputs": [],
   "source": [
    "# Create clean df that excludes prices < 1000 and prices > 10000\n",
    "df_clean = df[(df.price > 1000) & (df.price < 10000)]"
   ]
  },
  {
   "cell_type": "code",
   "execution_count": 18,
   "metadata": {},
   "outputs": [
    {
     "data": {
      "image/png": "[encoded data removed]",
      "text/plain": [
       "<Figure size 432x288 with 1 Axes>"
      ]
     },
     "metadata": {},
     "output_type": "display_data"
    }
   ],
   "source": [
    "plt.hist(df_clean.price, bins=45);"
   ]
  },
  {
   "cell_type": "code",
   "execution_count": 19,
   "metadata": {},
   "outputs": [
    {
     "data": {
      "image/png": "[encoded data removed]",
      "text/plain": [
       "<Figure size 432x288 with 1 Axes>"
      ]
     },
     "metadata": {},
     "output_type": "display_data"
    }
   ],
   "source": [
    "# Exclude examples from both top/bottom 1%\n",
    "lower, upper = np.percentile(df.price, [1, 99])\n",
    "price_clipped = np.clip(df.price, lower, upper)\n",
    "plt.hist(price_clipped, bins=45);"
   ]
  },
  {
   "cell_type": "code",
   "execution_count": 20,
   "metadata": {},
   "outputs": [
    {
     "name": "stderr",
     "output_type": "stream",
     "text": [
      "/anaconda3/lib/python3.6/site-packages/ipykernel_launcher.py:5: UserWarning: Boolean Series key will be reindexed to match DataFrame index.\n",
      "  \"\"\"\n"
     ]
    }
   ],
   "source": [
    "# Create clean df that excludes prices < 1000 and prices > 10000\n",
    "df_clean = df[(df.price > 1000) & (df.price < 10000)]\n",
    "\n",
    "# Include only the data for NY using gps coordinates\n",
    "df_clean = df_clean[(df.longitude != 0) | (df.latitude != 0)]\n",
    "df_clean = df_clean[(df_clean['latitude'] > 40.55) & (df_clean['latitude'] < 40.94) &\n",
    "                    (df_clean['longitude'] > -74.1) & (df_clean['longitude'] < -73.67)]\n",
    "\n",
    "# Split the data\n",
    "df_train, df_test = train_test_split(df_clean, test_size=0.15)\n",
    "\n",
    "# Separate features and target\n",
    "X_train = df_train[['bathrooms', 'bedrooms', 'longitude', 'latitude']]\n",
    "y_train = df_train['price']\n",
    "X_test = df_test[['bathrooms', 'bedrooms', 'longitude', 'latitude']]\n",
    "y_test = df_test['price']"
   ]
  },
  {
   "cell_type": "code",
   "execution_count": 21,
   "metadata": {},
   "outputs": [
    {
     "name": "stdout",
     "output_type": "stream",
     "text": [
      "5-folds CV MAE: $302.09 +/- $4.84\n"
     ]
    }
   ],
   "source": [
    "# Run k-folds CV to get a better estimates of MAE\n",
    "rf = RandomForestRegressor(n_estimators=100, n_jobs=-1)\n",
    "k = 5\n",
    "cv_error = -cross_val_score(rf,\n",
    "                            X_train, y_train,\n",
    "                            cv=5,\n",
    "                            scoring='neg_mean_absolute_error',\n",
    "                            n_jobs=-1)\n",
    "\n",
    "# Avg and std of CV error\n",
    "avg_cv_error = cv_error.mean()\n",
    "std_cv_error = cv_error.std()\n",
    "print(f'{k}-folds CV MAE: ${avg_cv_error:.2f} +/- ${std_cv_error:.2f}')"
   ]
  },
  {
   "cell_type": "markdown",
   "metadata": {},
   "source": [
    "Got a lot lower mean CV error with also much less variability with only $4.56 std"
   ]
  },
  {
   "cell_type": "code",
   "execution_count": 22,
   "metadata": {},
   "outputs": [
    {
     "data": {
      "image/png": "[encoded data removed]",
      "text/plain": [
       "<Figure size 576x432 with 1 Axes>"
      ]
     },
     "metadata": {},
     "output_type": "display_data"
    }
   ],
   "source": [
    "# Plot CV error\n",
    "utils.plot_cv_error(cv_error, metric_name='MAE', figsize=(8, 6))"
   ]
  },
  {
   "cell_type": "code",
   "execution_count": 23,
   "metadata": {},
   "outputs": [
    {
     "name": "stdout",
     "output_type": "stream",
     "text": [
      "average OOB R2 : 0.8616 +/- 0.0002\n"
     ]
    }
   ],
   "source": [
    "# Use OOB R2\n",
    "rf = RandomForestRegressor(n_estimators=100, oob_score=True, n_jobs=-1)\n",
    "rf.fit(X_train, y_train)\n",
    "utils.compute_stable_oob_score(rf, X_train, y_train, metric_name='R2')"
   ]
  },
  {
   "cell_type": "code",
   "execution_count": 24,
   "metadata": {},
   "outputs": [
    {
     "data": {
      "image/png": "[encoded data removed]",
      "text/plain": [
       "<Figure size 864x432 with 1 Axes>"
      ]
     },
     "metadata": {},
     "output_type": "display_data"
    }
   ],
   "source": [
    "utils.plot_feature_imp_v1(\n",
    "    rf, X_train.values, y_train.values, X_train.columns, mode='permutation')"
   ]
  },
  {
   "cell_type": "code",
   "execution_count": 25,
   "metadata": {},
   "outputs": [
    {
     "name": "stdout",
     "output_type": "stream",
     "text": [
      "training score : 0.5766\n"
     ]
    }
   ],
   "source": [
    "# Build Lasso model as a baseline model\n",
    "lm = Lasso(alpha=0.5)\n",
    "lm.fit(X_train, y_train)\n",
    "print(f'training score : {lm.score(X_train, y_train):.4f}')"
   ]
  },
  {
   "cell_type": "markdown",
   "metadata": {},
   "source": [
    "A lot less than R2 from RF model. Means Lasso can't capture relationship"
   ]
  },
  {
   "cell_type": "code",
   "execution_count": 26,
   "metadata": {},
   "outputs": [
    {
     "name": "stdout",
     "output_type": "stream",
     "text": [
      "Apt  1 : true price = $2145, predicted price = $2182 +/- $63\n",
      "Apt  2 : true price = $3095, predicted price = $3243 +/- $572\n",
      "Apt  3 : true price = $2525, predicted price = $2266 +/- $13\n",
      "Apt  4 : true price = $5000, predicted price = $5759 +/- $274\n",
      "Apt  5 : true price = $3600, predicted price = $3896 +/- $313\n",
      "Apt  6 : true price = $3625, predicted price = $3188 +/- $141\n",
      "Apt  7 : true price = $4250, predicted price = $3786 +/- $193\n",
      "Apt  8 : true price = $2200, predicted price = $2038 +/- $56\n",
      "Apt  9 : true price = $5500, predicted price = $5443 +/- $68\n",
      "Apt 10 : true price = $2995, predicted price = $2985 +/- $10\n"
     ]
    }
   ],
   "source": [
    "# Measure how confident the ensemble is in predicting individual examples\n",
    "X_test = df_test[['bathrooms', 'bedrooms', 'longitude', 'latitude']]\n",
    "y_test = df_test['price']\n",
    "for i in range(1, 11):\n",
    "    preds = np.array([tree.predict([X_test.iloc[i]])\n",
    "                      for tree in rf.estimators_])\n",
    "    avg = preds.mean()\n",
    "    std = preds.std()\n",
    "    y = y_test.iloc[i]\n",
    "    print(\n",
    "        f'Apt {i:>2} : true price = ${y}, predicted price = ${avg:.0f} +/- ${std:.0f}')"
   ]
  },
  {
   "cell_type": "markdown",
   "metadata": {},
   "source": [
    "Looks like std for predictions of individual samples are unstable."
   ]
  },
  {
   "cell_type": "code",
   "execution_count": 27,
   "metadata": {},
   "outputs": [
    {
     "data": {
      "text/html": [
       "<div>\n",
       "<style scoped>\n",
       "    .dataframe tbody tr th:only-of-type {\n",
       "        vertical-align: middle;\n",
       "    }\n",
       "\n",
       "    .dataframe tbody tr th {\n",
       "        vertical-align: top;\n",
       "    }\n",
       "\n",
       "    .dataframe thead th {\n",
       "        text-align: right;\n",
       "    }\n",
       "</style>\n",
       "<table border=\"1\" class=\"dataframe\">\n",
       "  <thead>\n",
       "    <tr style=\"text-align: right;\">\n",
       "      <th></th>\n",
       "      <th>bathrooms</th>\n",
       "      <th>bedrooms</th>\n",
       "      <th>longitude</th>\n",
       "      <th>latitude</th>\n",
       "      <th>features</th>\n",
       "      <th>price</th>\n",
       "    </tr>\n",
       "  </thead>\n",
       "  <tbody>\n",
       "    <tr>\n",
       "      <th>0</th>\n",
       "      <td>1.5</td>\n",
       "      <td>3</td>\n",
       "      <td>-73.9425</td>\n",
       "      <td>40.7145</td>\n",
       "      <td>[]</td>\n",
       "      <td>3000</td>\n",
       "    </tr>\n",
       "    <tr>\n",
       "      <th>1</th>\n",
       "      <td>1.0</td>\n",
       "      <td>2</td>\n",
       "      <td>-73.9667</td>\n",
       "      <td>40.7947</td>\n",
       "      <td>['Doorman', 'Elevator', 'Fitness Center', 'Cat...</td>\n",
       "      <td>5465</td>\n",
       "    </tr>\n",
       "    <tr>\n",
       "      <th>2</th>\n",
       "      <td>1.0</td>\n",
       "      <td>1</td>\n",
       "      <td>-74.0018</td>\n",
       "      <td>40.7388</td>\n",
       "      <td>['Laundry In Building', 'Dishwasher', 'Hardwoo...</td>\n",
       "      <td>2850</td>\n",
       "    </tr>\n",
       "    <tr>\n",
       "      <th>3</th>\n",
       "      <td>1.0</td>\n",
       "      <td>1</td>\n",
       "      <td>-73.9677</td>\n",
       "      <td>40.7539</td>\n",
       "      <td>['Hardwood Floors', 'No Fee']</td>\n",
       "      <td>3275</td>\n",
       "    </tr>\n",
       "    <tr>\n",
       "      <th>4</th>\n",
       "      <td>1.0</td>\n",
       "      <td>4</td>\n",
       "      <td>-73.9493</td>\n",
       "      <td>40.8241</td>\n",
       "      <td>['Pre-War']</td>\n",
       "      <td>3350</td>\n",
       "    </tr>\n",
       "  </tbody>\n",
       "</table>\n",
       "</div>"
      ],
      "text/plain": [
       "   bathrooms  bedrooms  longitude  latitude  \\\n",
       "0        1.5         3   -73.9425   40.7145   \n",
       "1        1.0         2   -73.9667   40.7947   \n",
       "2        1.0         1   -74.0018   40.7388   \n",
       "3        1.0         1   -73.9677   40.7539   \n",
       "4        1.0         4   -73.9493   40.8241   \n",
       "\n",
       "                                            features  price  \n",
       "0                                                 []   3000  \n",
       "1  ['Doorman', 'Elevator', 'Fitness Center', 'Cat...   5465  \n",
       "2  ['Laundry In Building', 'Dishwasher', 'Hardwoo...   2850  \n",
       "3                      ['Hardwood Floors', 'No Fee']   3275  \n",
       "4                                        ['Pre-War']   3350  "
      ]
     },
     "execution_count": 27,
     "metadata": {},
     "output_type": "execute_result"
    }
   ],
   "source": [
    "# Reimport the data to get additional fields\n",
    "df = pd.read_csv('../data/rent.csv')\n",
    "df = df[['bathrooms', 'bedrooms', 'longitude', 'latitude', 'features', 'price']]\n",
    "# Create clean df that excludes prices < 1000 and prices > 10000\n",
    "df_clean = df[(df.price > 1000) & (df.price < 10000)]\n",
    "\n",
    "# Include only the data for NY using gps coordinates\n",
    "df_clean = df_clean[(df_clean.longitude != 0) | (df_clean.latitude != 0)]\n",
    "df_clean = df_clean[(df_clean['latitude'] > 40.55) & (df_clean['latitude'] < 40.94) &\n",
    "                    (df_clean['longitude'] > -74.1) & (df_clean['longitude'] < -73.67)]\n",
    "\n",
    "df_clean.head()"
   ]
  },
  {
   "cell_type": "code",
   "execution_count": 28,
   "metadata": {},
   "outputs": [
    {
     "data": {
      "text/html": [
       "<div>\n",
       "<style scoped>\n",
       "    .dataframe tbody tr th:only-of-type {\n",
       "        vertical-align: middle;\n",
       "    }\n",
       "\n",
       "    .dataframe tbody tr th {\n",
       "        vertical-align: top;\n",
       "    }\n",
       "\n",
       "    .dataframe thead th {\n",
       "        text-align: right;\n",
       "    }\n",
       "</style>\n",
       "<table border=\"1\" class=\"dataframe\">\n",
       "  <thead>\n",
       "    <tr style=\"text-align: right;\">\n",
       "      <th></th>\n",
       "      <th>bathrooms</th>\n",
       "      <th>bedrooms</th>\n",
       "      <th>longitude</th>\n",
       "      <th>latitude</th>\n",
       "      <th>price</th>\n",
       "      <th>doorman</th>\n",
       "      <th>laundry</th>\n",
       "      <th>parking</th>\n",
       "    </tr>\n",
       "  </thead>\n",
       "  <tbody>\n",
       "    <tr>\n",
       "      <th>0</th>\n",
       "      <td>1.5</td>\n",
       "      <td>3</td>\n",
       "      <td>-73.9425</td>\n",
       "      <td>40.7145</td>\n",
       "      <td>3000</td>\n",
       "      <td>False</td>\n",
       "      <td>False</td>\n",
       "      <td>False</td>\n",
       "    </tr>\n",
       "    <tr>\n",
       "      <th>1</th>\n",
       "      <td>1.0</td>\n",
       "      <td>2</td>\n",
       "      <td>-73.9667</td>\n",
       "      <td>40.7947</td>\n",
       "      <td>5465</td>\n",
       "      <td>True</td>\n",
       "      <td>False</td>\n",
       "      <td>False</td>\n",
       "    </tr>\n",
       "    <tr>\n",
       "      <th>2</th>\n",
       "      <td>1.0</td>\n",
       "      <td>1</td>\n",
       "      <td>-74.0018</td>\n",
       "      <td>40.7388</td>\n",
       "      <td>2850</td>\n",
       "      <td>False</td>\n",
       "      <td>True</td>\n",
       "      <td>False</td>\n",
       "    </tr>\n",
       "    <tr>\n",
       "      <th>3</th>\n",
       "      <td>1.0</td>\n",
       "      <td>1</td>\n",
       "      <td>-73.9677</td>\n",
       "      <td>40.7539</td>\n",
       "      <td>3275</td>\n",
       "      <td>False</td>\n",
       "      <td>False</td>\n",
       "      <td>False</td>\n",
       "    </tr>\n",
       "    <tr>\n",
       "      <th>4</th>\n",
       "      <td>1.0</td>\n",
       "      <td>4</td>\n",
       "      <td>-73.9493</td>\n",
       "      <td>40.8241</td>\n",
       "      <td>3350</td>\n",
       "      <td>False</td>\n",
       "      <td>False</td>\n",
       "      <td>False</td>\n",
       "    </tr>\n",
       "  </tbody>\n",
       "</table>\n",
       "</div>"
      ],
      "text/plain": [
       "   bathrooms  bedrooms  longitude  latitude  price  doorman  laundry  parking\n",
       "0        1.5         3   -73.9425   40.7145   3000    False    False    False\n",
       "1        1.0         2   -73.9667   40.7947   5465     True    False    False\n",
       "2        1.0         1   -74.0018   40.7388   2850    False     True    False\n",
       "3        1.0         1   -73.9677   40.7539   3275    False    False    False\n",
       "4        1.0         4   -73.9493   40.8241   3350    False    False    False"
      ]
     },
     "execution_count": 28,
     "metadata": {},
     "output_type": "execute_result"
    }
   ],
   "source": [
    "# Fill NA for features col and convert it to lower\n",
    "df_clean['features'] = df_clean.features.fillna('')\n",
    "df_clean['features'] = df_clean.features.str.lower()\n",
    "\n",
    "# Add three features\n",
    "df_clean['doorman'] = df_clean['features'].str.contains('doorman')\n",
    "df_clean['laundry'] = df_clean['features'].str.contains('laundry')\n",
    "df_clean['parking'] = df_clean['features'].str.contains('parking|garage')\n",
    "df_clean = df_clean.drop(columns=['features'])\n",
    "df_clean.head()"
   ]
  },
  {
   "cell_type": "code",
   "execution_count": 29,
   "metadata": {},
   "outputs": [],
   "source": [
    "# Split the data\n",
    "df_train, df_test = train_test_split(df_clean, test_size=0.15)\n",
    "\n",
    "# Separate features and target\n",
    "X_train = df_train.drop(columns='price', axis=1)\n",
    "y_train = df_train['price']\n",
    "X_test = df_test.drop(columns='price', axis=1)\n",
    "y_test = df_test['price']"
   ]
  },
  {
   "cell_type": "code",
   "execution_count": 30,
   "metadata": {},
   "outputs": [
    {
     "name": "stdout",
     "output_type": "stream",
     "text": [
      " OOb R2 : 0.8640\n"
     ]
    }
   ],
   "source": [
    "# Use OOB R2\n",
    "rf = RandomForestRegressor(n_estimators=100, oob_score=True, n_jobs=-1)\n",
    "rf.fit(X_train, y_train)\n",
    "print(f' OOb R2 : {rf.oob_score_:.4f}')"
   ]
  },
  {
   "cell_type": "code",
   "execution_count": 31,
   "metadata": {},
   "outputs": [
    {
     "data": {
      "image/png": "[encoded data removed]",
      "text/plain": [
       "<Figure size 864x432 with 1 Axes>"
      ]
     },
     "metadata": {},
     "output_type": "display_data"
    }
   ],
   "source": [
    "utils.plot_feature_imp_v1(\n",
    "    rf, X_train.values, y_train.values, X_train.columns, mode='permutation')"
   ]
  },
  {
   "cell_type": "code",
   "execution_count": 32,
   "metadata": {},
   "outputs": [
    {
     "name": "stdout",
     "output_type": "stream",
     "text": [
      "average OOB R2 : 0.8649 +/- 0.0004\n"
     ]
    }
   ],
   "source": [
    "utils.compute_stable_oob_score(rf, X_train, y_train, metric_name='R2')"
   ]
  },
  {
   "cell_type": "code",
   "execution_count": 33,
   "metadata": {},
   "outputs": [
    {
     "name": "stdout",
     "output_type": "stream",
     "text": [
      "average OOB R2 : 0.8645 +/- 0.0002\n"
     ]
    }
   ],
   "source": [
    "# Drop parking\n",
    "utils.compute_stable_oob_score(rf, X_train.drop(columns=['parking'], axis=1), y_train, metric_name='R2')"
   ]
  },
  {
   "cell_type": "markdown",
   "metadata": {},
   "source": [
    "We may want to leave parking."
   ]
  }
 ],
 "metadata": {
  "kernelspec": {
   "display_name": "Python 3",
   "language": "python",
   "name": "python3"
  },
  "language_info": {
   "codemirror_mode": {
    "name": "ipython",
    "version": 3
   },
   "file_extension": ".py",
   "mimetype": "text/x-python",
   "name": "python",
   "nbconvert_exporter": "python",
   "pygments_lexer": "ipython3",
   "version": "3.6.5"
  }
 },
 "nbformat": 4,
 "nbformat_minor": 2
}
