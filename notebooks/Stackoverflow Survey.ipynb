{
 "cells": [
  {
   "cell_type": "code",
   "execution_count": 71,
   "metadata": {},
   "outputs": [],
   "source": [
    "import matplotlib.pyplot as plt\n",
    "import numpy as np\n",
    "import pandas as pd\n",
    "import seaborn as sns\n",
    "import warnings\n",
    "\n",
    "%matplotlib inline\n",
    "warnings.filterwarnings('ignore')"
   ]
  },
  {
   "cell_type": "code",
   "execution_count": 2,
   "metadata": {},
   "outputs": [
    {
     "data": {
      "text/plain": [
       "(98855, 129)"
      ]
     },
     "execution_count": 2,
     "metadata": {},
     "output_type": "execute_result"
    }
   ],
   "source": [
    "data = pd.read_csv('data/survey_results_public.csv', low_memory=False)\n",
    "data.shape"
   ]
  },
  {
   "cell_type": "code",
   "execution_count": 3,
   "metadata": {},
   "outputs": [],
   "source": [
    "# Features with multiple choice options\n",
    "MULTIPLE_CHOICE = [\n",
    "    'CommunicationTools', 'EducationTypes', 'SelfTaughtTypes', 'HackathonReasons',\n",
    "    'DatabaseWorkedWith', 'DatabaseDesireNextYear', 'PlatformWorkedWith',\n",
    "    'PlatformDesireNextYear', 'Methodology', 'VersionControl',\n",
    "    'AdBlockerReasons', 'AdsActions', 'ErgonomicDevices', 'Gender',\n",
    "    'SexualOrientation', 'RaceEthnicity', 'LanguageWorkedWith'\n",
    "]\n",
    "\n",
    "# Dev types - let's only look at data scientists\n",
    "DEV_TYPES = [\n",
    "    'Data or business analyst',\n",
    "    'Data scientist or machine learning specialist'\n",
    "]\n",
    "\n",
    "# Features which we are not interested in (predicting Python/R would be too easy with them)\n",
    "DROP_COLUMNS = [\n",
    "    'IDE', 'FrameworkWorkedWith', 'FrameworkDesireNextYear',\n",
    "    'LanguageDesireNextYear', 'DevType', 'CurrencySymbol',\n",
    "    'Salary', 'SalaryType', 'Respondent', 'Currency'\n",
    "]"
   ]
  },
  {
   "cell_type": "code",
   "execution_count": 130,
   "metadata": {},
   "outputs": [],
   "source": [
    "# Filter data to include only observations that have business analyst\n",
    "# or machine learning in DevType feature\n",
    "df = data.loc[data['DevType'].str.contains('|'.join(DEV_TYPES)).fillna(False)]\n",
    "\n",
    "# Drop unnecessary columns\n",
    "df.drop(DROP_COLUMNS, axis=1, inplace=True)\n",
    "\n",
    "# Iterate over all multiple choice features to create OneHot Encoding for each possible answer\n",
    "# of each feature\n",
    "for col in MULTIPLE_CHOICE:\n",
    "    temp = df[col].str.split(';', expand=True)\n",
    "    new_cols = pd.unique(temp.values.ravel())\n",
    "    for new_col in new_cols:\n",
    "        if new_col and new_col is not np.nan:\n",
    "            idxs = df[col].str.contains(new_col, regex=False).fillna(False)\n",
    "            df.loc[idxs, f'{col}_{new_col}'] = 1\n",
    "            df.loc[~idxs, f'{col}_{new_col}'] = 0\n",
    "    df.drop(col, axis=1, inplace=True)\n",
    "\n",
    "# Create dummy features for the rest of features that weren't multiple choice\n",
    "df = pd.get_dummies(df, drop_first=True)"
   ]
  },
  {
   "cell_type": "code",
   "execution_count": 134,
   "metadata": {},
   "outputs": [],
   "source": [
    "r_only_idxs = (df.LanguageWorkedWith_R == 1) & (df.LanguageWorkedWith_Python == 0)\n",
    "python_only_idxs = (df.LanguageWorkedWith_R == 0) & (df.LanguageWorkedWith_Python == 1)\n",
    "r_and_python_idxs = (df.LanguageWorkedWith_R == 1) & (df.LanguageWorkedWith_Python == 1)\n",
    "\n",
    "df.loc[r_only_idxs, 'R_or_Python'] = 1\n",
    "df.loc[python_only_idxs, 'R_or_Python'] = 1\n",
    "df.loc[r_and_python_idxs, 'R_or_Python'] = 1\n",
    "\n",
    "df.drop(['LanguageWorkedWith_R', 'LanguageWorkedWith_Python'])"
   ]
  },
  {
   "cell_type": "code",
   "execution_count": 136,
   "metadata": {},
   "outputs": [],
   "source": [
    "from sklearn.base import clone"
   ]
  },
  {
   "cell_type": "code",
   "execution_count": 138,
   "metadata": {},
   "outputs": [
    {
     "data": {
      "text/plain": [
       "41.95235392680606"
      ]
     },
     "execution_count": 138,
     "metadata": {},
     "output_type": "execute_result"
    }
   ],
   "source": [
    "np.sqrt(1760)"
   ]
  }
 ],
 "metadata": {
  "kernelspec": {
   "display_name": "Python 3",
   "language": "python",
   "name": "python3"
  },
  "language_info": {
   "codemirror_mode": {
    "name": "ipython",
    "version": 3
   },
   "file_extension": ".py",
   "mimetype": "text/x-python",
   "name": "python",
   "nbconvert_exporter": "python",
   "pygments_lexer": "ipython3",
   "version": "3.6.5"
  }
 },
 "nbformat": 4,
 "nbformat_minor": 2
}
