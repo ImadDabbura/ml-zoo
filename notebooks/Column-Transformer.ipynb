{
 "cells": [
  {
   "cell_type": "markdown",
   "metadata": {
    "heading_collapsed": true
   },
   "source": [
    "# Imports"
   ]
  },
  {
   "cell_type": "code",
   "execution_count": 1,
   "metadata": {
    "hidden": true
   },
   "outputs": [],
   "source": [
    "import sys\n",
    "import numpy as np\n",
    "import pandas as pd\n",
    "from pandas_profiling import ProfileReport\n",
    "from sklearn.model_selection import train_test_split\n",
    "from sklearn.compose import ColumnTransformer\n",
    "from sklearn.preprocessing import OneHotEncoder, StandardScaler\n",
    "from sklearn.impute import SimpleImputer\n",
    "from sklearn.pipeline import Pipeline\n",
    "from sklearn.linear_model import Ridge"
   ]
  },
  {
   "cell_type": "code",
   "execution_count": 2,
   "metadata": {
    "hidden": true
   },
   "outputs": [
    {
     "data": {
      "text/plain": [
       "'/Users/imad/anaconda3/envs/ml-zoo/bin/python'"
      ]
     },
     "execution_count": 2,
     "metadata": {},
     "output_type": "execute_result"
    }
   ],
   "source": [
    "sys.executable"
   ]
  },
  {
   "cell_type": "code",
   "execution_count": 3,
   "metadata": {
    "hidden": true
   },
   "outputs": [
    {
     "data": {
      "text/plain": [
       "'0.21.2'"
      ]
     },
     "execution_count": 3,
     "metadata": {},
     "output_type": "execute_result"
    }
   ],
   "source": [
    "import sklearn\n",
    "sklearn.__version__"
   ]
  },
  {
   "cell_type": "markdown",
   "metadata": {},
   "source": [
    "# Data"
   ]
  },
  {
   "cell_type": "code",
   "execution_count": 4,
   "metadata": {},
   "outputs": [
    {
     "data": {
      "text/html": [
       "<div>\n",
       "<style scoped>\n",
       "    .dataframe tbody tr th:only-of-type {\n",
       "        vertical-align: middle;\n",
       "    }\n",
       "\n",
       "    .dataframe tbody tr th {\n",
       "        vertical-align: top;\n",
       "    }\n",
       "\n",
       "    .dataframe thead th {\n",
       "        text-align: right;\n",
       "    }\n",
       "</style>\n",
       "<table border=\"1\" class=\"dataframe\">\n",
       "  <thead>\n",
       "    <tr style=\"text-align: right;\">\n",
       "      <th></th>\n",
       "      <th>Id</th>\n",
       "      <th>MSSubClass</th>\n",
       "      <th>MSZoning</th>\n",
       "      <th>LotFrontage</th>\n",
       "      <th>LotArea</th>\n",
       "      <th>Street</th>\n",
       "      <th>Alley</th>\n",
       "      <th>LotShape</th>\n",
       "      <th>LandContour</th>\n",
       "      <th>Utilities</th>\n",
       "      <th>...</th>\n",
       "      <th>PoolArea</th>\n",
       "      <th>PoolQC</th>\n",
       "      <th>Fence</th>\n",
       "      <th>MiscFeature</th>\n",
       "      <th>MiscVal</th>\n",
       "      <th>MoSold</th>\n",
       "      <th>YrSold</th>\n",
       "      <th>SaleType</th>\n",
       "      <th>SaleCondition</th>\n",
       "      <th>SalePrice</th>\n",
       "    </tr>\n",
       "  </thead>\n",
       "  <tbody>\n",
       "    <tr>\n",
       "      <td>0</td>\n",
       "      <td>1</td>\n",
       "      <td>60</td>\n",
       "      <td>RL</td>\n",
       "      <td>65.0</td>\n",
       "      <td>8450</td>\n",
       "      <td>Pave</td>\n",
       "      <td>NaN</td>\n",
       "      <td>Reg</td>\n",
       "      <td>Lvl</td>\n",
       "      <td>AllPub</td>\n",
       "      <td>...</td>\n",
       "      <td>0</td>\n",
       "      <td>NaN</td>\n",
       "      <td>NaN</td>\n",
       "      <td>NaN</td>\n",
       "      <td>0</td>\n",
       "      <td>2</td>\n",
       "      <td>2008</td>\n",
       "      <td>WD</td>\n",
       "      <td>Normal</td>\n",
       "      <td>208500</td>\n",
       "    </tr>\n",
       "    <tr>\n",
       "      <td>1</td>\n",
       "      <td>2</td>\n",
       "      <td>20</td>\n",
       "      <td>RL</td>\n",
       "      <td>80.0</td>\n",
       "      <td>9600</td>\n",
       "      <td>Pave</td>\n",
       "      <td>NaN</td>\n",
       "      <td>Reg</td>\n",
       "      <td>Lvl</td>\n",
       "      <td>AllPub</td>\n",
       "      <td>...</td>\n",
       "      <td>0</td>\n",
       "      <td>NaN</td>\n",
       "      <td>NaN</td>\n",
       "      <td>NaN</td>\n",
       "      <td>0</td>\n",
       "      <td>5</td>\n",
       "      <td>2007</td>\n",
       "      <td>WD</td>\n",
       "      <td>Normal</td>\n",
       "      <td>181500</td>\n",
       "    </tr>\n",
       "    <tr>\n",
       "      <td>2</td>\n",
       "      <td>3</td>\n",
       "      <td>60</td>\n",
       "      <td>RL</td>\n",
       "      <td>68.0</td>\n",
       "      <td>11250</td>\n",
       "      <td>Pave</td>\n",
       "      <td>NaN</td>\n",
       "      <td>IR1</td>\n",
       "      <td>Lvl</td>\n",
       "      <td>AllPub</td>\n",
       "      <td>...</td>\n",
       "      <td>0</td>\n",
       "      <td>NaN</td>\n",
       "      <td>NaN</td>\n",
       "      <td>NaN</td>\n",
       "      <td>0</td>\n",
       "      <td>9</td>\n",
       "      <td>2008</td>\n",
       "      <td>WD</td>\n",
       "      <td>Normal</td>\n",
       "      <td>223500</td>\n",
       "    </tr>\n",
       "    <tr>\n",
       "      <td>3</td>\n",
       "      <td>4</td>\n",
       "      <td>70</td>\n",
       "      <td>RL</td>\n",
       "      <td>60.0</td>\n",
       "      <td>9550</td>\n",
       "      <td>Pave</td>\n",
       "      <td>NaN</td>\n",
       "      <td>IR1</td>\n",
       "      <td>Lvl</td>\n",
       "      <td>AllPub</td>\n",
       "      <td>...</td>\n",
       "      <td>0</td>\n",
       "      <td>NaN</td>\n",
       "      <td>NaN</td>\n",
       "      <td>NaN</td>\n",
       "      <td>0</td>\n",
       "      <td>2</td>\n",
       "      <td>2006</td>\n",
       "      <td>WD</td>\n",
       "      <td>Abnorml</td>\n",
       "      <td>140000</td>\n",
       "    </tr>\n",
       "    <tr>\n",
       "      <td>4</td>\n",
       "      <td>5</td>\n",
       "      <td>60</td>\n",
       "      <td>RL</td>\n",
       "      <td>84.0</td>\n",
       "      <td>14260</td>\n",
       "      <td>Pave</td>\n",
       "      <td>NaN</td>\n",
       "      <td>IR1</td>\n",
       "      <td>Lvl</td>\n",
       "      <td>AllPub</td>\n",
       "      <td>...</td>\n",
       "      <td>0</td>\n",
       "      <td>NaN</td>\n",
       "      <td>NaN</td>\n",
       "      <td>NaN</td>\n",
       "      <td>0</td>\n",
       "      <td>12</td>\n",
       "      <td>2008</td>\n",
       "      <td>WD</td>\n",
       "      <td>Normal</td>\n",
       "      <td>250000</td>\n",
       "    </tr>\n",
       "  </tbody>\n",
       "</table>\n",
       "<p>5 rows × 81 columns</p>\n",
       "</div>"
      ],
      "text/plain": [
       "   Id  MSSubClass MSZoning  LotFrontage  LotArea Street Alley LotShape  \\\n",
       "0   1          60       RL         65.0     8450   Pave   NaN      Reg   \n",
       "1   2          20       RL         80.0     9600   Pave   NaN      Reg   \n",
       "2   3          60       RL         68.0    11250   Pave   NaN      IR1   \n",
       "3   4          70       RL         60.0     9550   Pave   NaN      IR1   \n",
       "4   5          60       RL         84.0    14260   Pave   NaN      IR1   \n",
       "\n",
       "  LandContour Utilities  ... PoolArea PoolQC Fence MiscFeature MiscVal MoSold  \\\n",
       "0         Lvl    AllPub  ...        0    NaN   NaN         NaN       0      2   \n",
       "1         Lvl    AllPub  ...        0    NaN   NaN         NaN       0      5   \n",
       "2         Lvl    AllPub  ...        0    NaN   NaN         NaN       0      9   \n",
       "3         Lvl    AllPub  ...        0    NaN   NaN         NaN       0      2   \n",
       "4         Lvl    AllPub  ...        0    NaN   NaN         NaN       0     12   \n",
       "\n",
       "  YrSold  SaleType  SaleCondition  SalePrice  \n",
       "0   2008        WD         Normal     208500  \n",
       "1   2007        WD         Normal     181500  \n",
       "2   2008        WD         Normal     223500  \n",
       "3   2006        WD        Abnorml     140000  \n",
       "4   2008        WD         Normal     250000  \n",
       "\n",
       "[5 rows x 81 columns]"
      ]
     },
     "execution_count": 4,
     "metadata": {},
     "output_type": "execute_result"
    }
   ],
   "source": [
    "train_df = pd.read_csv('../data/train.csv')\n",
    "train_df.head()"
   ]
  },
  {
   "cell_type": "code",
   "execution_count": 5,
   "metadata": {},
   "outputs": [],
   "source": [
    "house_style = train_df[['HouseStyle']].copy()\n",
    "ohe = OneHotEncoder(sparse=False)\n",
    "house_style_transformed = ohe.fit_transform(house_style)"
   ]
  },
  {
   "cell_type": "code",
   "execution_count": 6,
   "metadata": {},
   "outputs": [
    {
     "data": {
      "text/plain": [
       "array(['x0_1.5Fin', 'x0_1.5Unf', 'x0_1Story', 'x0_2.5Fin', 'x0_2.5Unf',\n",
       "       'x0_2Story', 'x0_SFoyer', 'x0_SLvl'], dtype=object)"
      ]
     },
     "execution_count": 6,
     "metadata": {},
     "output_type": "execute_result"
    }
   ],
   "source": [
    "ohe.get_feature_names()"
   ]
  },
  {
   "cell_type": "code",
   "execution_count": 7,
   "metadata": {},
   "outputs": [
    {
     "data": {
      "text/plain": [
       "array(['2Story', '1Story', '1.5Fin', '1.5Unf', 'SFoyer', 'SLvl', '2.5Unf',\n",
       "       '2.5Fin'], dtype=object)"
      ]
     },
     "execution_count": 7,
     "metadata": {},
     "output_type": "execute_result"
    }
   ],
   "source": [
    "pd.Series(house_style.values.flatten()).unique()"
   ]
  },
  {
   "cell_type": "code",
   "execution_count": 8,
   "metadata": {},
   "outputs": [
    {
     "data": {
      "text/plain": [
       "True"
      ]
     },
     "execution_count": 8,
     "metadata": {},
     "output_type": "execute_result"
    }
   ],
   "source": [
    "set(pd.Series(ohe.get_feature_names()).str.replace('x0_', '')) ==  set(pd.Series(house_style.values.flatten()).unique())"
   ]
  },
  {
   "cell_type": "code",
   "execution_count": 9,
   "metadata": {},
   "outputs": [],
   "source": [
    "y = train_df.pop('SalePrice').values"
   ]
  },
  {
   "cell_type": "code",
   "execution_count": 10,
   "metadata": {},
   "outputs": [
    {
     "data": {
      "text/plain": [
       "array(['i', 'i', 'O', 'f', 'i', 'O', 'O', 'O', 'O', 'O', 'O', 'O', 'O',\n",
       "       'O', 'O', 'O', 'O', 'i', 'i', 'i', 'i', 'O', 'O', 'O', 'O', 'O',\n",
       "       'f', 'O', 'O', 'O', 'O', 'O', 'O', 'O', 'i', 'O', 'i', 'i', 'i',\n",
       "       'O', 'O', 'O', 'O', 'i', 'i', 'i', 'i', 'i', 'i', 'i', 'i', 'i',\n",
       "       'i', 'O', 'i', 'O', 'i', 'O', 'O', 'f', 'O', 'i', 'i', 'O', 'O',\n",
       "       'O', 'i', 'i', 'i', 'i', 'i', 'i', 'O', 'O', 'O', 'i', 'i', 'i',\n",
       "       'O', 'O'], dtype='<U1')"
      ]
     },
     "execution_count": 10,
     "metadata": {},
     "output_type": "execute_result"
    }
   ],
   "source": [
    "# Get the kind of each feature\n",
    "kinds = np.array([dt.kind for dt in train_df.dtypes])\n",
    "kinds"
   ]
  },
  {
   "cell_type": "code",
   "execution_count": 11,
   "metadata": {},
   "outputs": [],
   "source": [
    "features = train_df.columns.values\n",
    "is_num = kinds != 'O'\n",
    "num_feat = features[is_num]\n",
    "cat_feat = features[~is_num]"
   ]
  },
  {
   "cell_type": "code",
   "execution_count": 12,
   "metadata": {},
   "outputs": [],
   "source": [
    "num_pipe = Pipeline([\n",
    "    ('imp', SimpleImputer(strategy='median')),\n",
    "    ('std', StandardScaler())\n",
    "])\n",
    "cat_pipe = Pipeline([\n",
    "    ('imp', SimpleImputer(strategy='constant', fill_value='MISSING')),\n",
    "    ('ohe', OneHotEncoder(sparse=False, handle_unknown='ignore'))\n",
    "])"
   ]
  },
  {
   "cell_type": "code",
   "execution_count": 13,
   "metadata": {},
   "outputs": [],
   "source": [
    "transformer = ColumnTransformer([\n",
    "    ('num', num_pipe, num_feat),\n",
    "    ('cat', cat_pipe, cat_feat)\n",
    "])"
   ]
  },
  {
   "cell_type": "code",
   "execution_count": 14,
   "metadata": {},
   "outputs": [],
   "source": [
    "ml_pipe = Pipeline([\n",
    "    ('transform', transformer),\n",
    "    ('model', Ridge())\n",
    "])"
   ]
  },
  {
   "cell_type": "code",
   "execution_count": 15,
   "metadata": {},
   "outputs": [
    {
     "data": {
      "text/plain": [
       "Pipeline(memory=None,\n",
       "         steps=[('transform',\n",
       "                 ColumnTransformer(n_jobs=None, remainder='drop',\n",
       "                                   sparse_threshold=0.3,\n",
       "                                   transformer_weights=None,\n",
       "                                   transformers=[('num',\n",
       "                                                  Pipeline(memory=None,\n",
       "                                                           steps=[('imp',\n",
       "                                                                   SimpleImputer(add_indicator=False,\n",
       "                                                                                 copy=True,\n",
       "                                                                                 fill_value=None,\n",
       "                                                                                 missing_values=nan,\n",
       "                                                                                 strategy='median',\n",
       "                                                                                 verbose=0)),\n",
       "                                                                  ('std',\n",
       "                                                                   StandardScaler(copy=True,\n",
       "                                                                                  with_mean=True,\n",
       "                                                                                  with...\n",
       "       'HeatingQC', 'CentralAir', 'Electrical', 'KitchenQual',\n",
       "       'Functional', 'FireplaceQu', 'GarageType', 'GarageFinish',\n",
       "       'GarageQual', 'GarageCond', 'PavedDrive', 'PoolQC', 'Fence',\n",
       "       'MiscFeature', 'SaleType', 'SaleCondition'], dtype=object))],\n",
       "                                   verbose=False)),\n",
       "                ('model',\n",
       "                 Ridge(alpha=1.0, copy_X=True, fit_intercept=True,\n",
       "                       max_iter=None, normalize=False, random_state=None,\n",
       "                       solver='auto', tol=0.001))],\n",
       "         verbose=False)"
      ]
     },
     "execution_count": 15,
     "metadata": {},
     "output_type": "execute_result"
    }
   ],
   "source": [
    "ml_pipe.fit(train_df, y)"
   ]
  },
  {
   "cell_type": "code",
   "execution_count": 16,
   "metadata": {},
   "outputs": [
    {
     "data": {
      "text/plain": [
       "0.9220545988101001"
      ]
     },
     "execution_count": 16,
     "metadata": {},
     "output_type": "execute_result"
    }
   ],
   "source": [
    "ml_pipe.score(train_df, y)"
   ]
  },
  {
   "cell_type": "code",
   "execution_count": 17,
   "metadata": {},
   "outputs": [
    {
     "data": {
      "text/plain": [
       "array(['x0_C (all)', 'x0_FV', 'x0_RH', 'x0_RL', 'x0_RM', 'x1_Grvl',\n",
       "       'x1_Pave', 'x2_Grvl', 'x2_MISSING', 'x2_Pave', 'x3_IR1', 'x3_IR2',\n",
       "       'x3_IR3', 'x3_Reg', 'x4_Bnk', 'x4_HLS', 'x4_Low', 'x4_Lvl',\n",
       "       'x5_AllPub', 'x5_NoSeWa', 'x6_Corner', 'x6_CulDSac', 'x6_FR2',\n",
       "       'x6_FR3', 'x6_Inside', 'x7_Gtl', 'x7_Mod', 'x7_Sev', 'x8_Blmngtn',\n",
       "       'x8_Blueste', 'x8_BrDale', 'x8_BrkSide', 'x8_ClearCr',\n",
       "       'x8_CollgCr', 'x8_Crawfor', 'x8_Edwards', 'x8_Gilbert',\n",
       "       'x8_IDOTRR', 'x8_MeadowV', 'x8_Mitchel', 'x8_NAmes', 'x8_NPkVill',\n",
       "       'x8_NWAmes', 'x8_NoRidge', 'x8_NridgHt', 'x8_OldTown', 'x8_SWISU',\n",
       "       'x8_Sawyer', 'x8_SawyerW', 'x8_Somerst', 'x8_StoneBr', 'x8_Timber',\n",
       "       'x8_Veenker', 'x9_Artery', 'x9_Feedr', 'x9_Norm', 'x9_PosA',\n",
       "       'x9_PosN', 'x9_RRAe', 'x9_RRAn', 'x9_RRNe', 'x9_RRNn',\n",
       "       'x10_Artery', 'x10_Feedr', 'x10_Norm', 'x10_PosA', 'x10_PosN',\n",
       "       'x10_RRAe', 'x10_RRAn', 'x10_RRNn', 'x11_1Fam', 'x11_2fmCon',\n",
       "       'x11_Duplex', 'x11_Twnhs', 'x11_TwnhsE', 'x12_1.5Fin',\n",
       "       'x12_1.5Unf', 'x12_1Story', 'x12_2.5Fin', 'x12_2.5Unf',\n",
       "       'x12_2Story', 'x12_SFoyer', 'x12_SLvl', 'x13_Flat', 'x13_Gable',\n",
       "       'x13_Gambrel', 'x13_Hip', 'x13_Mansard', 'x13_Shed', 'x14_ClyTile',\n",
       "       'x14_CompShg', 'x14_Membran', 'x14_Metal', 'x14_Roll',\n",
       "       'x14_Tar&Grv', 'x14_WdShake', 'x14_WdShngl', 'x15_AsbShng',\n",
       "       'x15_AsphShn', 'x15_BrkComm', 'x15_BrkFace', 'x15_CBlock',\n",
       "       'x15_CemntBd', 'x15_HdBoard', 'x15_ImStucc', 'x15_MetalSd',\n",
       "       'x15_Plywood', 'x15_Stone', 'x15_Stucco', 'x15_VinylSd',\n",
       "       'x15_Wd Sdng', 'x15_WdShing', 'x16_AsbShng', 'x16_AsphShn',\n",
       "       'x16_Brk Cmn', 'x16_BrkFace', 'x16_CBlock', 'x16_CmentBd',\n",
       "       'x16_HdBoard', 'x16_ImStucc', 'x16_MetalSd', 'x16_Other',\n",
       "       'x16_Plywood', 'x16_Stone', 'x16_Stucco', 'x16_VinylSd',\n",
       "       'x16_Wd Sdng', 'x16_Wd Shng', 'x17_BrkCmn', 'x17_BrkFace',\n",
       "       'x17_MISSING', 'x17_None', 'x17_Stone', 'x18_Ex', 'x18_Fa',\n",
       "       'x18_Gd', 'x18_TA', 'x19_Ex', 'x19_Fa', 'x19_Gd', 'x19_Po',\n",
       "       'x19_TA', 'x20_BrkTil', 'x20_CBlock', 'x20_PConc', 'x20_Slab',\n",
       "       'x20_Stone', 'x20_Wood', 'x21_Ex', 'x21_Fa', 'x21_Gd',\n",
       "       'x21_MISSING', 'x21_TA', 'x22_Fa', 'x22_Gd', 'x22_MISSING',\n",
       "       'x22_Po', 'x22_TA', 'x23_Av', 'x23_Gd', 'x23_MISSING', 'x23_Mn',\n",
       "       'x23_No', 'x24_ALQ', 'x24_BLQ', 'x24_GLQ', 'x24_LwQ',\n",
       "       'x24_MISSING', 'x24_Rec', 'x24_Unf', 'x25_ALQ', 'x25_BLQ',\n",
       "       'x25_GLQ', 'x25_LwQ', 'x25_MISSING', 'x25_Rec', 'x25_Unf',\n",
       "       'x26_Floor', 'x26_GasA', 'x26_GasW', 'x26_Grav', 'x26_OthW',\n",
       "       'x26_Wall', 'x27_Ex', 'x27_Fa', 'x27_Gd', 'x27_Po', 'x27_TA',\n",
       "       'x28_N', 'x28_Y', 'x29_FuseA', 'x29_FuseF', 'x29_FuseP',\n",
       "       'x29_MISSING', 'x29_Mix', 'x29_SBrkr', 'x30_Ex', 'x30_Fa',\n",
       "       'x30_Gd', 'x30_TA', 'x31_Maj1', 'x31_Maj2', 'x31_Min1', 'x31_Min2',\n",
       "       'x31_Mod', 'x31_Sev', 'x31_Typ', 'x32_Ex', 'x32_Fa', 'x32_Gd',\n",
       "       'x32_MISSING', 'x32_Po', 'x32_TA', 'x33_2Types', 'x33_Attchd',\n",
       "       'x33_Basment', 'x33_BuiltIn', 'x33_CarPort', 'x33_Detchd',\n",
       "       'x33_MISSING', 'x34_Fin', 'x34_MISSING', 'x34_RFn', 'x34_Unf',\n",
       "       'x35_Ex', 'x35_Fa', 'x35_Gd', 'x35_MISSING', 'x35_Po', 'x35_TA',\n",
       "       'x36_Ex', 'x36_Fa', 'x36_Gd', 'x36_MISSING', 'x36_Po', 'x36_TA',\n",
       "       'x37_N', 'x37_P', 'x37_Y', 'x38_Ex', 'x38_Fa', 'x38_Gd',\n",
       "       'x38_MISSING', 'x39_GdPrv', 'x39_GdWo', 'x39_MISSING', 'x39_MnPrv',\n",
       "       'x39_MnWw', 'x40_Gar2', 'x40_MISSING', 'x40_Othr', 'x40_Shed',\n",
       "       'x40_TenC', 'x41_COD', 'x41_CWD', 'x41_Con', 'x41_ConLD',\n",
       "       'x41_ConLI', 'x41_ConLw', 'x41_New', 'x41_Oth', 'x41_WD',\n",
       "       'x42_Abnorml', 'x42_AdjLand', 'x42_Alloca', 'x42_Family',\n",
       "       'x42_Normal', 'x42_Partial'], dtype=object)"
      ]
     },
     "execution_count": 17,
     "metadata": {},
     "output_type": "execute_result"
    }
   ],
   "source": [
    "ml_pipe.named_steps['transform'].named_transformers_['cat'].named_steps['ohe'].get_feature_names()"
   ]
  }
 ],
 "metadata": {
  "hide_input": false,
  "kernelspec": {
   "display_name": "Python 3",
   "language": "python",
   "name": "python3"
  },
  "language_info": {
   "codemirror_mode": {
    "name": "ipython",
    "version": 3
   },
   "file_extension": ".py",
   "mimetype": "text/x-python",
   "name": "python",
   "nbconvert_exporter": "python",
   "pygments_lexer": "ipython3",
   "version": "3.7.4"
  },
  "toc": {
   "base_numbering": 1,
   "nav_menu": {},
   "number_sections": true,
   "sideBar": true,
   "skip_h1_title": false,
   "title_cell": "Table of Contents",
   "title_sidebar": "Contents",
   "toc_cell": false,
   "toc_position": {},
   "toc_section_display": true,
   "toc_window_display": false
  }
 },
 "nbformat": 4,
 "nbformat_minor": 2
}
