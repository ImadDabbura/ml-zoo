{
 "cells": [
  {
   "cell_type": "markdown",
   "metadata": {
    "heading_collapsed": true
   },
   "source": [
    "# Imports"
   ]
  },
  {
   "cell_type": "code",
   "execution_count": 8,
   "metadata": {
    "hidden": true
   },
   "outputs": [],
   "source": [
    "import sys\n",
    "\n",
    "from category_encoders.target_encoder import TargetEncoder\n",
    "import matplotlib.pyplot as plt\n",
    "import numpy as np\n",
    "import pandas as pd\n",
    "# import rfpimp\n",
    "from rfpimp import *\n",
    "from sklearn.model_selection import train_test_split, cross_val_score\n",
    "from sklearn.ensemble import RandomForestRegressor\n",
    "from sklearn.metrics import mean_absolute_error\n",
    "\n",
    "sys.path.append('../')\n",
    "from utils import feature_imp"
   ]
  },
  {
   "cell_type": "code",
   "execution_count": 2,
   "metadata": {
    "hidden": true
   },
   "outputs": [],
   "source": [
    "%reload_ext autoreload\n",
    "%autoreload 2"
   ]
  },
  {
   "cell_type": "markdown",
   "metadata": {
    "heading_collapsed": true
   },
   "source": [
    "# Load Data"
   ]
  },
  {
   "cell_type": "code",
   "execution_count": 4,
   "metadata": {
    "hidden": true
   },
   "outputs": [
    {
     "data": {
      "text/html": [
       "<div>\n",
       "<style scoped>\n",
       "    .dataframe tbody tr th:only-of-type {\n",
       "        vertical-align: middle;\n",
       "    }\n",
       "\n",
       "    .dataframe tbody tr th {\n",
       "        vertical-align: top;\n",
       "    }\n",
       "\n",
       "    .dataframe thead th {\n",
       "        text-align: right;\n",
       "    }\n",
       "</style>\n",
       "<table border=\"1\" class=\"dataframe\">\n",
       "  <thead>\n",
       "    <tr style=\"text-align: right;\">\n",
       "      <th></th>\n",
       "      <th>bathrooms</th>\n",
       "      <th>bedrooms</th>\n",
       "      <th>building_id</th>\n",
       "      <th>created</th>\n",
       "      <th>description</th>\n",
       "      <th>display_address</th>\n",
       "      <th>features</th>\n",
       "      <th>interest_level</th>\n",
       "      <th>latitude</th>\n",
       "      <th>listing_id</th>\n",
       "      <th>longitude</th>\n",
       "      <th>manager_id</th>\n",
       "      <th>photos</th>\n",
       "      <th>price</th>\n",
       "      <th>street_address</th>\n",
       "    </tr>\n",
       "  </thead>\n",
       "  <tbody>\n",
       "    <tr>\n",
       "      <td>0</td>\n",
       "      <td>1.5</td>\n",
       "      <td>3</td>\n",
       "      <td>53a5b119ba8f7b61d4e010512e0dfc85</td>\n",
       "      <td>2016-06-24 07:54:24</td>\n",
       "      <td>A Brand New 3 Bedroom 1.5 bath ApartmentEnjoy ...</td>\n",
       "      <td>Metropolitan Avenue</td>\n",
       "      <td>[]</td>\n",
       "      <td>medium</td>\n",
       "      <td>40.7145</td>\n",
       "      <td>7211212</td>\n",
       "      <td>-73.9425</td>\n",
       "      <td>5ba989232d0489da1b5f2c45f6688adc</td>\n",
       "      <td>['https://photos.renthop.com/2/7211212_1ed4542...</td>\n",
       "      <td>3000</td>\n",
       "      <td>792 Metropolitan Avenue</td>\n",
       "    </tr>\n",
       "    <tr>\n",
       "      <td>1</td>\n",
       "      <td>1.0</td>\n",
       "      <td>2</td>\n",
       "      <td>c5c8a357cba207596b04d1afd1e4f130</td>\n",
       "      <td>2016-06-12 12:19:27</td>\n",
       "      <td></td>\n",
       "      <td>Columbus Avenue</td>\n",
       "      <td>['Doorman', 'Elevator', 'Fitness Center', 'Cat...</td>\n",
       "      <td>low</td>\n",
       "      <td>40.7947</td>\n",
       "      <td>7150865</td>\n",
       "      <td>-73.9667</td>\n",
       "      <td>7533621a882f71e25173b27e3139d83d</td>\n",
       "      <td>['https://photos.renthop.com/2/7150865_be3306c...</td>\n",
       "      <td>5465</td>\n",
       "      <td>808 Columbus Avenue</td>\n",
       "    </tr>\n",
       "    <tr>\n",
       "      <td>2</td>\n",
       "      <td>1.0</td>\n",
       "      <td>1</td>\n",
       "      <td>c3ba40552e2120b0acfc3cb5730bb2aa</td>\n",
       "      <td>2016-04-17 03:26:41</td>\n",
       "      <td>Top Top West Village location, beautiful Pre-w...</td>\n",
       "      <td>W 13 Street</td>\n",
       "      <td>['Laundry In Building', 'Dishwasher', 'Hardwoo...</td>\n",
       "      <td>high</td>\n",
       "      <td>40.7388</td>\n",
       "      <td>6887163</td>\n",
       "      <td>-74.0018</td>\n",
       "      <td>d9039c43983f6e564b1482b273bd7b01</td>\n",
       "      <td>['https://photos.renthop.com/2/6887163_de85c42...</td>\n",
       "      <td>2850</td>\n",
       "      <td>241 W 13 Street</td>\n",
       "    </tr>\n",
       "    <tr>\n",
       "      <td>3</td>\n",
       "      <td>1.0</td>\n",
       "      <td>1</td>\n",
       "      <td>28d9ad350afeaab8027513a3e52ac8d5</td>\n",
       "      <td>2016-04-18 02:22:02</td>\n",
       "      <td>Building Amenities - Garage - Garden - fitness...</td>\n",
       "      <td>East 49th Street</td>\n",
       "      <td>['Hardwood Floors', 'No Fee']</td>\n",
       "      <td>low</td>\n",
       "      <td>40.7539</td>\n",
       "      <td>6888711</td>\n",
       "      <td>-73.9677</td>\n",
       "      <td>1067e078446a7897d2da493d2f741316</td>\n",
       "      <td>['https://photos.renthop.com/2/6888711_6e660ce...</td>\n",
       "      <td>3275</td>\n",
       "      <td>333 East 49th Street</td>\n",
       "    </tr>\n",
       "    <tr>\n",
       "      <td>4</td>\n",
       "      <td>1.0</td>\n",
       "      <td>4</td>\n",
       "      <td>0</td>\n",
       "      <td>2016-04-28 01:32:41</td>\n",
       "      <td>Beautifully renovated 3 bedroom flex 4 bedroom...</td>\n",
       "      <td>West 143rd Street</td>\n",
       "      <td>['Pre-War']</td>\n",
       "      <td>low</td>\n",
       "      <td>40.8241</td>\n",
       "      <td>6934781</td>\n",
       "      <td>-73.9493</td>\n",
       "      <td>98e13ad4b495b9613cef886d79a6291f</td>\n",
       "      <td>['https://photos.renthop.com/2/6934781_1fa4b41...</td>\n",
       "      <td>3350</td>\n",
       "      <td>500 West 143rd Street</td>\n",
       "    </tr>\n",
       "  </tbody>\n",
       "</table>\n",
       "</div>"
      ],
      "text/plain": [
       "   bathrooms  bedrooms                       building_id             created  \\\n",
       "0        1.5         3  53a5b119ba8f7b61d4e010512e0dfc85 2016-06-24 07:54:24   \n",
       "1        1.0         2  c5c8a357cba207596b04d1afd1e4f130 2016-06-12 12:19:27   \n",
       "2        1.0         1  c3ba40552e2120b0acfc3cb5730bb2aa 2016-04-17 03:26:41   \n",
       "3        1.0         1  28d9ad350afeaab8027513a3e52ac8d5 2016-04-18 02:22:02   \n",
       "4        1.0         4                                 0 2016-04-28 01:32:41   \n",
       "\n",
       "                                         description      display_address  \\\n",
       "0  A Brand New 3 Bedroom 1.5 bath ApartmentEnjoy ...  Metropolitan Avenue   \n",
       "1                                                         Columbus Avenue   \n",
       "2  Top Top West Village location, beautiful Pre-w...          W 13 Street   \n",
       "3  Building Amenities - Garage - Garden - fitness...     East 49th Street   \n",
       "4  Beautifully renovated 3 bedroom flex 4 bedroom...    West 143rd Street   \n",
       "\n",
       "                                            features interest_level  latitude  \\\n",
       "0                                                 []         medium   40.7145   \n",
       "1  ['Doorman', 'Elevator', 'Fitness Center', 'Cat...            low   40.7947   \n",
       "2  ['Laundry In Building', 'Dishwasher', 'Hardwoo...           high   40.7388   \n",
       "3                      ['Hardwood Floors', 'No Fee']            low   40.7539   \n",
       "4                                        ['Pre-War']            low   40.8241   \n",
       "\n",
       "   listing_id  longitude                        manager_id  \\\n",
       "0     7211212   -73.9425  5ba989232d0489da1b5f2c45f6688adc   \n",
       "1     7150865   -73.9667  7533621a882f71e25173b27e3139d83d   \n",
       "2     6887163   -74.0018  d9039c43983f6e564b1482b273bd7b01   \n",
       "3     6888711   -73.9677  1067e078446a7897d2da493d2f741316   \n",
       "4     6934781   -73.9493  98e13ad4b495b9613cef886d79a6291f   \n",
       "\n",
       "                                              photos  price  \\\n",
       "0  ['https://photos.renthop.com/2/7211212_1ed4542...   3000   \n",
       "1  ['https://photos.renthop.com/2/7150865_be3306c...   5465   \n",
       "2  ['https://photos.renthop.com/2/6887163_de85c42...   2850   \n",
       "3  ['https://photos.renthop.com/2/6888711_6e660ce...   3275   \n",
       "4  ['https://photos.renthop.com/2/6934781_1fa4b41...   3350   \n",
       "\n",
       "            street_address  \n",
       "0  792 Metropolitan Avenue  \n",
       "1      808 Columbus Avenue  \n",
       "2          241 W 13 Street  \n",
       "3     333 East 49th Street  \n",
       "4    500 West 143rd Street  "
      ]
     },
     "execution_count": 4,
     "metadata": {},
     "output_type": "execute_result"
    }
   ],
   "source": [
    "df = pd.read_csv('../data/rent.csv', parse_dates=['created'])\n",
    "df.head()"
   ]
  },
  {
   "cell_type": "code",
   "execution_count": 5,
   "metadata": {
    "hidden": true
   },
   "outputs": [
    {
     "data": {
      "text/plain": [
       "(49352, 15)"
      ]
     },
     "execution_count": 5,
     "metadata": {},
     "output_type": "execute_result"
    }
   ],
   "source": [
    "df.shape"
   ]
  },
  {
   "cell_type": "markdown",
   "metadata": {
    "heading_collapsed": true
   },
   "source": [
    "# Cleaning"
   ]
  },
  {
   "cell_type": "code",
   "execution_count": 6,
   "metadata": {
    "hidden": true
   },
   "outputs": [
    {
     "data": {
      "text/plain": [
       "(48300, 15)"
      ]
     },
     "execution_count": 6,
     "metadata": {},
     "output_type": "execute_result"
    }
   ],
   "source": [
    "# Cleaning\n",
    "df_clean = df[(df['price'] > 1_000) & (df['price'] < 10_000)]\n",
    "df_clean = df_clean[(df_clean['longitude'] != 0) | (df_clean['latitude'] != 0)]\n",
    "criteria = ((df_clean['latitude'] > 40.55) &\n",
    "            (df_clean['latitude'] < 40.94) &\n",
    "            (df_clean['longitude'] > -74.1) &\n",
    "            (df_clean['longitude'] < -73.67))\n",
    "df_clean = df_clean[criteria]\n",
    "df = df_clean\n",
    "df.shape"
   ]
  },
  {
   "cell_type": "markdown",
   "metadata": {
    "heading_collapsed": true
   },
   "source": [
    "# Baseline"
   ]
  },
  {
   "cell_type": "code",
   "execution_count": 7,
   "metadata": {
    "hidden": true
   },
   "outputs": [],
   "source": [
    "num_feat = ['bathrooms', 'bedrooms', 'latitude', 'longitude']\n",
    "y = df.pop('price')\n",
    "X = df[num_feat]"
   ]
  },
  {
   "cell_type": "code",
   "execution_count": 12,
   "metadata": {
    "hidden": true
   },
   "outputs": [],
   "source": [
    "def test(X, y):\n",
    "    rf = RandomForestRegressor(n_estimators=100, n_jobs=-1, oob_score=True)\n",
    "    rf.fit(X, y)\n",
    "    oob_score = rf.oob_score_\n",
    "    num_nodes = rfpimp.rfnnodes(rf)\n",
    "    height = np.median(rfpimp.rfmaxdepths(rf))\n",
    "    print(f'OOB R^2 {oob_score:.5f} using {num_nodes:,d} tree nodes & '\n",
    "          f'{height} median tree height.')\n",
    "    return rf, oob_score"
   ]
  },
  {
   "cell_type": "code",
   "execution_count": 13,
   "metadata": {
    "hidden": true
   },
   "outputs": [
    {
     "name": "stdout",
     "output_type": "stream",
     "text": [
      "OOB R^2 0.86787 using 2,431,718 tree nodes & 35.0 median tree height.\n"
     ]
    }
   ],
   "source": [
    "rf, oob_score = test(X, y)"
   ]
  },
  {
   "cell_type": "code",
   "execution_count": 14,
   "metadata": {
    "hidden": true
   },
   "outputs": [],
   "source": [
    "def show_imp(rf, X, y):\n",
    "    feat = X.columns.values.tolist()\n",
    "    feat.remove('longitude')\n",
    "    feat.remove('latitude')\n",
    "    # Since both long and lat represents a location property\n",
    "    feat += [['longitude', 'latitude']]\n",
    "    imp = importances(rf, X, y, features=feat)\n",
    "    plot_importances(imp)"
   ]
  },
  {
   "cell_type": "code",
   "execution_count": 15,
   "metadata": {
    "hidden": true
   },
   "outputs": [
    {
     "data": {
      "image/png": "[encoded data removed]",
      "text/plain": [
       "<Figure size 288x108 with 1 Axes>"
      ]
     },
     "metadata": {
      "needs_background": "light"
     },
     "output_type": "display_data"
    }
   ],
   "source": [
    "show_imp(rf, X, y)"
   ]
  },
  {
   "cell_type": "markdown",
   "metadata": {
    "heading_collapsed": true
   },
   "source": [
    "# Encoding Categorical Features"
   ]
  },
  {
   "cell_type": "markdown",
   "metadata": {
    "hidden": true
   },
   "source": [
    "## Ordinal Categorical Features"
   ]
  },
  {
   "cell_type": "markdown",
   "metadata": {
    "hidden": true
   },
   "source": [
    "The feature ordinal is ordinal since we can rank and compare values."
   ]
  },
  {
   "cell_type": "code",
   "execution_count": 16,
   "metadata": {
    "hidden": true
   },
   "outputs": [
    {
     "data": {
      "text/plain": [
       "low       33270\n",
       "medium    11203\n",
       "high       3827\n",
       "Name: interest_level, dtype: int64"
      ]
     },
     "execution_count": 16,
     "metadata": {},
     "output_type": "execute_result"
    }
   ],
   "source": [
    "df['interest_level'].value_counts()"
   ]
  },
  {
   "cell_type": "code",
   "execution_count": 17,
   "metadata": {
    "hidden": true
   },
   "outputs": [
    {
     "data": {
      "text/plain": [
       "1    33270\n",
       "2    11203\n",
       "3     3827\n",
       "Name: interest_level, dtype: int64"
      ]
     },
     "execution_count": 17,
     "metadata": {},
     "output_type": "execute_result"
    }
   ],
   "source": [
    "# Convert to categorical then numericalize it\n",
    "df['interest_level'] = df['interest_level'].astype('category')\n",
    "df['interest_level'].cat.reorder_categories(['low', 'medium', 'high'], inplace=True)\n",
    "df['interest_level'] = df['interest_level'].cat.codes + 1\n",
    "df.interest_level.value_counts()"
   ]
  },
  {
   "cell_type": "code",
   "execution_count": 18,
   "metadata": {
    "hidden": true
   },
   "outputs": [
    {
     "name": "stdout",
     "output_type": "stream",
     "text": [
      "OOB R^2 0.87053 using 3,026,268 tree nodes & 35.0 median tree height.\n"
     ]
    }
   ],
   "source": [
    "X = df[num_feat + ['interest_level']]\n",
    "rf, oob_score = test(X, y)"
   ]
  },
  {
   "cell_type": "markdown",
   "metadata": {
    "hidden": true
   },
   "source": [
    "A little bit of improvement over the baseline while the complexity of the typical tree stayed the same (height of the tree). Note that this improvement may be random."
   ]
  },
  {
   "cell_type": "markdown",
   "metadata": {
    "heading_collapsed": true,
    "hidden": true
   },
   "source": [
    "## Nominal Categorical Features"
   ]
  },
  {
   "cell_type": "markdown",
   "metadata": {
    "hidden": true
   },
   "source": [
    "Nominal features are categorical features that don't have orders and no difference between the space of the each value"
   ]
  },
  {
   "cell_type": "code",
   "execution_count": 19,
   "metadata": {
    "hidden": true
   },
   "outputs": [
    {
     "data": {
      "text/plain": [
       "(3409, 7417, 8679)"
      ]
     },
     "execution_count": 19,
     "metadata": {},
     "output_type": "execute_result"
    }
   ],
   "source": [
    "df['manager_id'].nunique(), df['building_id'].nunique(), df['display_address'].nunique()"
   ]
  },
  {
   "cell_type": "markdown",
   "metadata": {
    "hidden": true
   },
   "source": [
    "As we can see, all the above feature have high cardinality (large number of unique values)."
   ]
  },
  {
   "cell_type": "markdown",
   "metadata": {
    "heading_collapsed": true,
    "hidden": true
   },
   "source": [
    "### Label Encoding"
   ]
  },
  {
   "cell_type": "markdown",
   "metadata": {
    "hidden": true
   },
   "source": [
    "Numericalize the features and ignoring the ordering of those features --> Don't interpret values as ordered."
   ]
  },
  {
   "cell_type": "code",
   "execution_count": 20,
   "metadata": {
    "hidden": true
   },
   "outputs": [],
   "source": [
    "# Convert to categorical then numericalize it\n",
    "df['display_address_cat'] = df['display_address'].astype('category').cat.as_ordered()\n",
    "df['display_address_cat'] = df['display_address_cat'].cat.codes + 1"
   ]
  },
  {
   "cell_type": "code",
   "execution_count": 21,
   "metadata": {
    "hidden": true
   },
   "outputs": [
    {
     "name": "stdout",
     "output_type": "stream",
     "text": [
      "OOB R^2 0.86583 using 3,121,248 tree nodes & 37.0 median tree height.\n"
     ]
    }
   ],
   "source": [
    "X = df[num_feat + ['display_address_cat']]\n",
    "rf, oob_score = test(X, y)"
   ]
  },
  {
   "cell_type": "markdown",
   "metadata": {
    "hidden": true
   },
   "source": [
    "There is no improvement in $R^2$ and the complexity of RF increased."
   ]
  },
  {
   "cell_type": "markdown",
   "metadata": {
    "heading_collapsed": true,
    "hidden": true
   },
   "source": [
    "### Frequency Encoding"
   ]
  },
  {
   "cell_type": "markdown",
   "metadata": {
    "hidden": true
   },
   "source": [
    "Convert the nominal features to the frequency of each category that they appeared in the training dataset."
   ]
  },
  {
   "cell_type": "code",
   "execution_count": 22,
   "metadata": {
    "hidden": true
   },
   "outputs": [],
   "source": [
    "mgrs_count = df['manager_id'].value_counts()\n",
    "df['mgr_apt_count'] = df['manager_id'].map(mgrs_count)"
   ]
  },
  {
   "cell_type": "code",
   "execution_count": 23,
   "metadata": {
    "hidden": true
   },
   "outputs": [
    {
     "data": {
      "text/plain": [
       "e6472c7237327dd3903b3d6f6a94515a    2509\n",
       "6e5c10246156ae5bdcd9b487ca99d96a     695\n",
       "8f5a9c893f6d602f4953fcc0b8e6e9b4     404\n",
       "62b685cc0d876c3a1a51d63a0d6a8082     396\n",
       "cb87dadbca78fad02b388dc9e8f25a5b     370\n",
       "                                    ... \n",
       "64b495eb63c39b0bd692c8b11d142048       1\n",
       "6f27a49688fea09958c6325fa09eb7f8       1\n",
       "81d08815507f8d30d6b23e951d4fbb7b       1\n",
       "e2ab97ca9d7619d7c6d040252260b9bf       1\n",
       "8e62f602c0a251577abeb2411f889401       1\n",
       "Name: manager_id, Length: 3409, dtype: int64"
      ]
     },
     "execution_count": 23,
     "metadata": {},
     "output_type": "execute_result"
    }
   ],
   "source": [
    "mgrs_count"
   ]
  },
  {
   "cell_type": "code",
   "execution_count": 24,
   "metadata": {
    "hidden": true
   },
   "outputs": [
    {
     "name": "stdout",
     "output_type": "stream",
     "text": [
      "OOB R^2 0.86409 using 4,569,082 tree nodes & 41.0 median tree height.\n"
     ]
    }
   ],
   "source": [
    "X = df[num_feat + ['display_address_cat', 'mgr_apt_count']]\n",
    "rf, oob_score = test(X, y)"
   ]
  },
  {
   "cell_type": "code",
   "execution_count": 25,
   "metadata": {
    "hidden": true
   },
   "outputs": [
    {
     "data": {
      "image/png": "[encoded data removed]",
      "text/plain": [
       "<Figure size 288x108 with 1 Axes>"
      ]
     },
     "metadata": {
      "needs_background": "light"
     },
     "output_type": "display_data"
    }
   ],
   "source": [
    "show_imp(rf, X, y)"
   ]
  },
  {
   "cell_type": "markdown",
   "metadata": {
    "hidden": true
   },
   "source": [
    "There is no improvement in $R^2$ and the complexity of RF increased. Don't include those features."
   ]
  },
  {
   "cell_type": "markdown",
   "metadata": {
    "heading_collapsed": true
   },
   "source": [
    "# Encoding Text/String Features"
   ]
  },
  {
   "cell_type": "markdown",
   "metadata": {
    "hidden": true
   },
   "source": [
    "Those kind of features are not numerical or categorical."
   ]
  },
  {
   "cell_type": "code",
   "execution_count": 26,
   "metadata": {
    "hidden": true
   },
   "outputs": [],
   "source": [
    "# Normalizing the features\n",
    "df['description'] = df['description'].fillna('')\n",
    "df['description'] = df['description'].str.lower() # normalize to lower case\n",
    "df['features'] = df['features'].fillna('') # fill missing w/blanks\n",
    "df['features'] = df['features'].str.lower() # normalize to lower case"
   ]
  },
  {
   "cell_type": "code",
   "execution_count": 27,
   "metadata": {
    "hidden": true
   },
   "outputs": [
    {
     "data": {
      "text/html": [
       "<div>\n",
       "<style scoped>\n",
       "    .dataframe tbody tr th:only-of-type {\n",
       "        vertical-align: middle;\n",
       "    }\n",
       "\n",
       "    .dataframe tbody tr th {\n",
       "        vertical-align: top;\n",
       "    }\n",
       "\n",
       "    .dataframe thead th {\n",
       "        text-align: right;\n",
       "    }\n",
       "</style>\n",
       "<table border=\"1\" class=\"dataframe\">\n",
       "  <thead>\n",
       "    <tr style=\"text-align: right;\">\n",
       "      <th></th>\n",
       "      <th>doorman</th>\n",
       "      <th>parking</th>\n",
       "      <th>garage</th>\n",
       "      <th>laundry</th>\n",
       "    </tr>\n",
       "  </thead>\n",
       "  <tbody>\n",
       "    <tr>\n",
       "      <td>0</td>\n",
       "      <td>False</td>\n",
       "      <td>False</td>\n",
       "      <td>False</td>\n",
       "      <td>False</td>\n",
       "    </tr>\n",
       "    <tr>\n",
       "      <td>1</td>\n",
       "      <td>True</td>\n",
       "      <td>False</td>\n",
       "      <td>False</td>\n",
       "      <td>False</td>\n",
       "    </tr>\n",
       "    <tr>\n",
       "      <td>2</td>\n",
       "      <td>False</td>\n",
       "      <td>False</td>\n",
       "      <td>False</td>\n",
       "      <td>True</td>\n",
       "    </tr>\n",
       "    <tr>\n",
       "      <td>3</td>\n",
       "      <td>False</td>\n",
       "      <td>False</td>\n",
       "      <td>False</td>\n",
       "      <td>False</td>\n",
       "    </tr>\n",
       "    <tr>\n",
       "      <td>4</td>\n",
       "      <td>False</td>\n",
       "      <td>False</td>\n",
       "      <td>False</td>\n",
       "      <td>False</td>\n",
       "    </tr>\n",
       "  </tbody>\n",
       "</table>\n",
       "</div>"
      ],
      "text/plain": [
       "   doorman  parking  garage  laundry\n",
       "0    False    False   False    False\n",
       "1     True    False   False    False\n",
       "2    False    False   False     True\n",
       "3    False    False   False    False\n",
       "4    False    False   False    False"
      ]
     },
     "execution_count": 27,
     "metadata": {},
     "output_type": "execute_result"
    }
   ],
   "source": [
    "# has apartment been renovated?\n",
    "df['renov'] = df['description'].str.contains('renov')\n",
    "\n",
    "for w in ['doorman', 'parking', 'garage', 'laundry', \n",
    "          'Elevator', 'fitness center', 'dishwasher']:\n",
    "    df[w] = df['features'].str.contains(w)\n",
    "df[['doorman', 'parking', 'garage', 'laundry']].head(5)"
   ]
  },
  {
   "cell_type": "code",
   "execution_count": 28,
   "metadata": {
    "hidden": true
   },
   "outputs": [],
   "source": [
    "df['num_desc_words'] = df['description'].apply(lambda x: len(x.split()))\n",
    "df['num_features'] = df['features'].apply(lambda x: len(x.split(',')))\n",
    "df['num_photos'] = df['photos'].apply(lambda x: len(x.split(',')))"
   ]
  },
  {
   "cell_type": "code",
   "execution_count": 29,
   "metadata": {
    "hidden": true
   },
   "outputs": [
    {
     "name": "stdout",
     "output_type": "stream",
     "text": [
      "OOB R^2 0.86220 using 4,767,554 tree nodes & 43.0 median tree height.\n"
     ]
    }
   ],
   "source": [
    "text_feat = [\n",
    "    'num_photos', 'num_desc_words', 'num_features',\n",
    "    'doorman', 'parking', 'garage', 'laundry', \n",
    "    'Elevator', 'fitness center', 'dishwasher',\n",
    "    'renov'\n",
    "]\n",
    "X = df[text_feat + num_feat]\n",
    "rf, oob = test(X, y)"
   ]
  },
  {
   "cell_type": "markdown",
   "metadata": {
    "hidden": true
   },
   "source": [
    "Again, the above generated features from text features did not improve (a little bit deteriorated) with noticeable complexity increase."
   ]
  },
  {
   "cell_type": "code",
   "execution_count": 30,
   "metadata": {
    "hidden": true
   },
   "outputs": [
    {
     "data": {
      "image/png": "[encoded data removed]",
      "text/plain": [
       "<Figure size 288x237.6 with 1 Axes>"
      ]
     },
     "metadata": {
      "needs_background": "light"
     },
     "output_type": "display_data"
    }
   ],
   "source": [
    "show_imp(rf, X, y)"
   ]
  },
  {
   "cell_type": "markdown",
   "metadata": {
    "heading_collapsed": true
   },
   "source": [
    "# Synthesizing Numeric Features"
   ]
  },
  {
   "cell_type": "code",
   "execution_count": 31,
   "metadata": {
    "hidden": true
   },
   "outputs": [
    {
     "name": "stdout",
     "output_type": "stream",
     "text": [
      "OOB R^2 0.86758 using 2,433,468 tree nodes & 35.0 median tree height.\n"
     ]
    }
   ],
   "source": [
    "df[\"beds_to_baths\"] = df[\"bedrooms\"] / (df[\"bathrooms\"] + 1)\n",
    "X = df[['beds_to_baths'] + num_feat]\n",
    "rf, oob_score = test(X, y)"
   ]
  },
  {
   "cell_type": "markdown",
   "metadata": {
    "heading_collapsed": true
   },
   "source": [
    "# Target Encoding Categorical Features"
   ]
  },
  {
   "cell_type": "markdown",
   "metadata": {
    "hidden": true
   },
   "source": [
    "The idea is to take the average of the target variable by category for any categorical feature."
   ]
  },
  {
   "cell_type": "code",
   "execution_count": 32,
   "metadata": {
    "hidden": true
   },
   "outputs": [],
   "source": [
    "# Split the data into train and test sets\n",
    "df_train, df_val, y_train, y_val = train_test_split(df, y, test_size=0.2)\n",
    "\n",
    "X_train = df_train[num_feat]\n",
    "X_val = df_val[num_feat]"
   ]
  },
  {
   "cell_type": "code",
   "execution_count": 33,
   "metadata": {
    "hidden": true
   },
   "outputs": [
    {
     "name": "stdout",
     "output_type": "stream",
     "text": [
      "validation R^2 = 0.860438. 2,131,064 tree nodes & 34.5 median tree height.\n"
     ]
    }
   ],
   "source": [
    "# Baseline\n",
    "rf = RandomForestRegressor(n_estimators=100, n_jobs=-1)\n",
    "rf.fit(X_train, y_train)\n",
    "val_score = rf.score(X_val, y_val)\n",
    "print(f'validation R^2 = {val_score:4f}. {rfnnodes(rf):,d} tree nodes & '\n",
    "      f'{np.median(rfmaxdepths(rf))} median tree height.')"
   ]
  },
  {
   "cell_type": "code",
   "execution_count": 35,
   "metadata": {
    "hidden": true
   },
   "outputs": [],
   "source": [
    "# Target Enconding\n",
    "df_train.reset_index(inplace=True)\n",
    "df_val.reset_index(inplace=True)\n",
    "encoder = TargetEncoder(cols=['building_id'])\n",
    "df_train_encoded = encoder.fit_transform(df_train, y_train)\n",
    "df_val_encoded = encoder.transform(df_val, y_val)"
   ]
  },
  {
   "cell_type": "code",
   "execution_count": 36,
   "metadata": {
    "hidden": true
   },
   "outputs": [
    {
     "data": {
      "text/html": [
       "<div>\n",
       "<style scoped>\n",
       "    .dataframe tbody tr th:only-of-type {\n",
       "        vertical-align: middle;\n",
       "    }\n",
       "\n",
       "    .dataframe tbody tr th {\n",
       "        vertical-align: top;\n",
       "    }\n",
       "\n",
       "    .dataframe thead th {\n",
       "        text-align: right;\n",
       "    }\n",
       "</style>\n",
       "<table border=\"1\" class=\"dataframe\">\n",
       "  <thead>\n",
       "    <tr style=\"text-align: right;\">\n",
       "      <th></th>\n",
       "      <th>index</th>\n",
       "      <th>bathrooms</th>\n",
       "      <th>bedrooms</th>\n",
       "      <th>building_id</th>\n",
       "      <th>created</th>\n",
       "      <th>description</th>\n",
       "      <th>display_address</th>\n",
       "      <th>features</th>\n",
       "      <th>interest_level</th>\n",
       "      <th>latitude</th>\n",
       "      <th>...</th>\n",
       "      <th>parking</th>\n",
       "      <th>garage</th>\n",
       "      <th>laundry</th>\n",
       "      <th>Elevator</th>\n",
       "      <th>fitness center</th>\n",
       "      <th>dishwasher</th>\n",
       "      <th>num_desc_words</th>\n",
       "      <th>num_features</th>\n",
       "      <th>num_photos</th>\n",
       "      <th>beds_to_baths</th>\n",
       "    </tr>\n",
       "  </thead>\n",
       "  <tbody>\n",
       "    <tr>\n",
       "      <td>0</td>\n",
       "      <td>13835</td>\n",
       "      <td>1.0</td>\n",
       "      <td>0</td>\n",
       "      <td>3232.823529</td>\n",
       "      <td>2016-06-09 01:39:07</td>\n",
       "      <td></td>\n",
       "      <td>West 34th Street</td>\n",
       "      <td>['doorman', 'fitness center', 'elevator', 'cat...</td>\n",
       "      <td>1</td>\n",
       "      <td>40.7494</td>\n",
       "      <td>...</td>\n",
       "      <td>False</td>\n",
       "      <td>False</td>\n",
       "      <td>True</td>\n",
       "      <td>False</td>\n",
       "      <td>True</td>\n",
       "      <td>False</td>\n",
       "      <td>0</td>\n",
       "      <td>7</td>\n",
       "      <td>1</td>\n",
       "      <td>0.000000</td>\n",
       "    </tr>\n",
       "    <tr>\n",
       "      <td>1</td>\n",
       "      <td>16035</td>\n",
       "      <td>2.0</td>\n",
       "      <td>3</td>\n",
       "      <td>2611.695210</td>\n",
       "      <td>2016-06-12 07:09:00</td>\n",
       "      <td></td>\n",
       "      <td>West End Avenue</td>\n",
       "      <td>['cats allowed', 'dogs allowed']</td>\n",
       "      <td>1</td>\n",
       "      <td>40.7901</td>\n",
       "      <td>...</td>\n",
       "      <td>False</td>\n",
       "      <td>False</td>\n",
       "      <td>False</td>\n",
       "      <td>False</td>\n",
       "      <td>False</td>\n",
       "      <td>False</td>\n",
       "      <td>0</td>\n",
       "      <td>2</td>\n",
       "      <td>1</td>\n",
       "      <td>1.000000</td>\n",
       "    </tr>\n",
       "    <tr>\n",
       "      <td>2</td>\n",
       "      <td>36346</td>\n",
       "      <td>1.0</td>\n",
       "      <td>0</td>\n",
       "      <td>3435.865735</td>\n",
       "      <td>2016-06-12 06:50:18</td>\n",
       "      <td>forest hills is a great little neighbo...</td>\n",
       "      <td>62nd Road</td>\n",
       "      <td>['elevator']</td>\n",
       "      <td>1</td>\n",
       "      <td>40.7271</td>\n",
       "      <td>...</td>\n",
       "      <td>False</td>\n",
       "      <td>False</td>\n",
       "      <td>False</td>\n",
       "      <td>False</td>\n",
       "      <td>False</td>\n",
       "      <td>False</td>\n",
       "      <td>76</td>\n",
       "      <td>1</td>\n",
       "      <td>3</td>\n",
       "      <td>0.000000</td>\n",
       "    </tr>\n",
       "    <tr>\n",
       "      <td>3</td>\n",
       "      <td>28218</td>\n",
       "      <td>2.0</td>\n",
       "      <td>4</td>\n",
       "      <td>3052.030193</td>\n",
       "      <td>2016-05-24 02:36:01</td>\n",
       "      <td>available for immediate occupancy. awesome tre...</td>\n",
       "      <td>Attorney St.</td>\n",
       "      <td>['pre-war', 'dogs allowed', 'cats allowed']</td>\n",
       "      <td>1</td>\n",
       "      <td>40.7200</td>\n",
       "      <td>...</td>\n",
       "      <td>False</td>\n",
       "      <td>False</td>\n",
       "      <td>False</td>\n",
       "      <td>False</td>\n",
       "      <td>False</td>\n",
       "      <td>False</td>\n",
       "      <td>85</td>\n",
       "      <td>3</td>\n",
       "      <td>6</td>\n",
       "      <td>1.333333</td>\n",
       "    </tr>\n",
       "    <tr>\n",
       "      <td>4</td>\n",
       "      <td>3509</td>\n",
       "      <td>1.0</td>\n",
       "      <td>2</td>\n",
       "      <td>3567.210718</td>\n",
       "      <td>2016-04-26 04:59:02</td>\n",
       "      <td></td>\n",
       "      <td>East 5th Street</td>\n",
       "      <td>['cats allowed', 'dogs allowed', 'exclusive']</td>\n",
       "      <td>1</td>\n",
       "      <td>40.7261</td>\n",
       "      <td>...</td>\n",
       "      <td>False</td>\n",
       "      <td>False</td>\n",
       "      <td>False</td>\n",
       "      <td>False</td>\n",
       "      <td>False</td>\n",
       "      <td>False</td>\n",
       "      <td>0</td>\n",
       "      <td>3</td>\n",
       "      <td>1</td>\n",
       "      <td>1.000000</td>\n",
       "    </tr>\n",
       "  </tbody>\n",
       "</table>\n",
       "<p>5 rows × 29 columns</p>\n",
       "</div>"
      ],
      "text/plain": [
       "   index  bathrooms  bedrooms  building_id             created  \\\n",
       "0  13835        1.0         0  3232.823529 2016-06-09 01:39:07   \n",
       "1  16035        2.0         3  2611.695210 2016-06-12 07:09:00   \n",
       "2  36346        1.0         0  3435.865735 2016-06-12 06:50:18   \n",
       "3  28218        2.0         4  3052.030193 2016-05-24 02:36:01   \n",
       "4   3509        1.0         2  3567.210718 2016-04-26 04:59:02   \n",
       "\n",
       "                                         description   display_address  \\\n",
       "0                                                     West 34th Street   \n",
       "1                                                      West End Avenue   \n",
       "2          forest hills is a great little neighbo...         62nd Road   \n",
       "3  available for immediate occupancy. awesome tre...      Attorney St.   \n",
       "4                                                      East 5th Street   \n",
       "\n",
       "                                            features  interest_level  \\\n",
       "0  ['doorman', 'fitness center', 'elevator', 'cat...               1   \n",
       "1                   ['cats allowed', 'dogs allowed']               1   \n",
       "2                                       ['elevator']               1   \n",
       "3        ['pre-war', 'dogs allowed', 'cats allowed']               1   \n",
       "4      ['cats allowed', 'dogs allowed', 'exclusive']               1   \n",
       "\n",
       "   latitude  ...  parking  garage laundry Elevator fitness center  dishwasher  \\\n",
       "0   40.7494  ...    False   False    True    False           True       False   \n",
       "1   40.7901  ...    False   False   False    False          False       False   \n",
       "2   40.7271  ...    False   False   False    False          False       False   \n",
       "3   40.7200  ...    False   False   False    False          False       False   \n",
       "4   40.7261  ...    False   False   False    False          False       False   \n",
       "\n",
       "   num_desc_words  num_features  num_photos  beds_to_baths  \n",
       "0               0             7           1       0.000000  \n",
       "1               0             2           1       1.000000  \n",
       "2              76             1           3       0.000000  \n",
       "3              85             3           6       1.333333  \n",
       "4               0             3           1       1.000000  \n",
       "\n",
       "[5 rows x 29 columns]"
      ]
     },
     "execution_count": 36,
     "metadata": {},
     "output_type": "execute_result"
    }
   ],
   "source": [
    "df_train_encoded.head()"
   ]
  },
  {
   "cell_type": "code",
   "execution_count": 37,
   "metadata": {
    "hidden": true
   },
   "outputs": [
    {
     "name": "stdout",
     "output_type": "stream",
     "text": [
      "validation R^2 = 0.862162. 2,369,340 tree nodes & 37.0 median tree height.\n"
     ]
    }
   ],
   "source": [
    "X_train = df_train_encoded[num_feat + ['building_id']]\n",
    "X_val = df_val_encoded[num_feat + ['building_id']]\n",
    "\n",
    "rf = RandomForestRegressor(n_estimators=100, n_jobs=-1)\n",
    "rf.fit(X_train, y_train)\n",
    "val_score = rf.score(X_val, y_val)\n",
    "print(f'validation R^2 = {val_score:4f}. {rfnnodes(rf):,d} tree nodes & '\n",
    "      f'{np.median(rfmaxdepths(rf))} median tree height.')"
   ]
  },
  {
   "cell_type": "code",
   "execution_count": 38,
   "metadata": {
    "hidden": true
   },
   "outputs": [
    {
     "data": {
      "image/png": "[encoded data removed]",
      "text/plain": [
       "<Figure size 288x108 with 1 Axes>"
      ]
     },
     "metadata": {
      "needs_background": "light"
     },
     "output_type": "display_data"
    }
   ],
   "source": [
    "show_imp(rf, X_train, y_train)"
   ]
  },
  {
   "cell_type": "code",
   "execution_count": 39,
   "metadata": {
    "hidden": true
   },
   "outputs": [
    {
     "data": {
      "image/png": "[encoded data removed]",
      "text/plain": [
       "<Figure size 288x108 with 1 Axes>"
      ]
     },
     "metadata": {
      "needs_background": "light"
     },
     "output_type": "display_data"
    }
   ],
   "source": [
    "show_imp(rf, X_val, y_val)"
   ]
  },
  {
   "cell_type": "markdown",
   "metadata": {
    "hidden": true
   },
   "source": [
    "The score improved a little bit and the importance figures showed that the target_encoded feature is the least important feature. However, many practitioners found it useful in other datasets."
   ]
  },
  {
   "cell_type": "markdown",
   "metadata": {
    "heading_collapsed": true
   },
   "source": [
    "# Adding External Data Sources"
   ]
  },
  {
   "cell_type": "markdown",
   "metadata": {
    "hidden": true
   },
   "source": [
    "We will use the proximity to the top 10 neighborhoods in NY city as numerical features. We will compute the Manhattan Distance to compute the proximity for each row from the top 10 neighborhoods."
   ]
  },
  {
   "cell_type": "code",
   "execution_count": 41,
   "metadata": {
    "hidden": true
   },
   "outputs": [],
   "source": [
    "top_10_neighborhoods = {\n",
    "    'hells' : [40.7622, -73.9924],\n",
    "    'astoria' : [40.7796684, -73.9215888],\n",
    "    'Evillage' : [40.723163774, -73.984829394],\n",
    "    'Wvillage' : [40.73578, -74.00357],\n",
    "    'LowerEast' : [40.715033, -73.9842724],\n",
    "    'UpperEast' : [40.768163594, -73.959329496],\n",
    "    'ParkSlope' : [40.672404, -73.977063],\n",
    "    'Prospect Park' : [40.93704, -74.17431],\n",
    "    'Crown Heights' : [40.657830702, -73.940162906],\n",
    "    'financial' : [40.703830518, -74.005666644],\n",
    "    'brooklynheights' : [40.7022621909, -73.9871760513],\n",
    "    'gowanus' : [40.673, -73.997]\n",
    "}"
   ]
  },
  {
   "cell_type": "code",
   "execution_count": 42,
   "metadata": {
    "hidden": true
   },
   "outputs": [],
   "source": [
    "for hood in top_10_neighborhoods:\n",
    "    for hood, loc in top_10_neighborhoods.items():\n",
    "        df[hood] = np.abs(df['latitude'] - loc[0]) + np.abs(df['longitude'] - loc[1])"
   ]
  },
  {
   "cell_type": "code",
   "execution_count": 43,
   "metadata": {
    "hidden": true
   },
   "outputs": [
    {
     "name": "stdout",
     "output_type": "stream",
     "text": [
      "OOB R^2 0.87218 using 2,412,936 tree nodes & 43.0 median tree height.\n"
     ]
    }
   ],
   "source": [
    "X = df[num_feat + list(top_10_neighborhoods.keys())]\n",
    "rf, oob_score = test(X, y)"
   ]
  },
  {
   "cell_type": "markdown",
   "metadata": {
    "hidden": true
   },
   "source": [
    "A little bit of improvement over the baseline with increased in complexity."
   ]
  },
  {
   "cell_type": "markdown",
   "metadata": {},
   "source": [
    "# Final Model"
   ]
  },
  {
   "cell_type": "markdown",
   "metadata": {},
   "source": [
    "Let's combine all the features we created and see how the model performs."
   ]
  },
  {
   "cell_type": "code",
   "execution_count": 44,
   "metadata": {},
   "outputs": [
    {
     "name": "stdout",
     "output_type": "stream",
     "text": [
      "OOB R^2 0.87951 using 4,836,552 tree nodes & 43.0 median tree height.\n"
     ]
    }
   ],
   "source": [
    "X = df[['interest_level'] + num_feat + text_feat + list(top_10_neighborhoods.keys())]\n",
    "rf, oob_score = test(X, y)"
   ]
  },
  {
   "cell_type": "code",
   "execution_count": 45,
   "metadata": {
    "scrolled": true
   },
   "outputs": [
    {
     "data": {
      "image/png": "[encoded data removed]",
      "text/plain": [
       "<Figure size 288x443.52 with 1 Axes>"
      ]
     },
     "metadata": {
      "needs_background": "light"
     },
     "output_type": "display_data"
    }
   ],
   "source": [
    "show_imp(rf, X, y)"
   ]
  },
  {
   "cell_type": "markdown",
   "metadata": {},
   "source": [
    "The improvement in relative accuracy of the final model over the just the numerical features (baseline model) is:"
   ]
  },
  {
   "cell_type": "code",
   "execution_count": 46,
   "metadata": {},
   "outputs": [
    {
     "name": "stdout",
     "output_type": "stream",
     "text": [
      "8.8739%\n"
     ]
    }
   ],
   "source": [
    "print(f'{(oob_score - 0.86778) / (1 - 0.86778):.4%}')"
   ]
  }
 ],
 "metadata": {
  "hide_input": false,
  "kernelspec": {
   "display_name": "Python 3",
   "language": "python",
   "name": "python3"
  },
  "language_info": {
   "codemirror_mode": {
    "name": "ipython",
    "version": 3
   },
   "file_extension": ".py",
   "mimetype": "text/x-python",
   "name": "python",
   "nbconvert_exporter": "python",
   "pygments_lexer": "ipython3",
   "version": "3.7.4"
  },
  "toc": {
   "base_numbering": 1,
   "nav_menu": {},
   "number_sections": true,
   "sideBar": true,
   "skip_h1_title": false,
   "title_cell": "Table of Contents",
   "title_sidebar": "Contents",
   "toc_cell": false,
   "toc_position": {
    "height": "calc(100% - 180px)",
    "left": "10px",
    "top": "150px",
    "width": "165px"
   },
   "toc_section_display": true,
   "toc_window_display": true
  }
 },
 "nbformat": 4,
 "nbformat_minor": 2
}
