{
 "cells": [
  {
   "cell_type": "code",
   "execution_count": 1,
   "metadata": {},
   "outputs": [],
   "source": [
    "import sys\n",
    "import matplotlib.pyplot as plt\n",
    "import numpy as np\n",
    "import pandas as pd\n",
    "import seaborn as sns\n",
    "import rfpimp\n",
    "import warnings\n",
    "from sklearn.preprocessing import StandardScaler\n",
    "from sklearn.pipeline import make_pipeline, make_union\n",
    "from sklearn.ensemble import RandomForestClassifier\n",
    "from sklearn.ensemble.forest import _generate_unsampled_indices\n",
    "from sklearn.metrics import (accuracy_score,\n",
    "                             roc_auc_score,\n",
    "                             confusion_matrix,\n",
    "                             classification_report,\n",
    "                             r2_score)\n",
    "from sklearn.model_selection import (train_test_split,\n",
    "                                     cross_val_score,\n",
    "                                     StratifiedKFold,\n",
    "                                     GridSearchCV,\n",
    "                                     RandomizedSearchCV)\n",
    "sys.path.append('../')\n",
    "import utils\n",
    "\n",
    "%matplotlib inline\n",
    "sns.set_context('notebook')\n",
    "plt.style.use('fivethirtyeight')"
   ]
  },
  {
   "cell_type": "code",
   "execution_count": 2,
   "metadata": {},
   "outputs": [],
   "source": [
    "%load_ext autoreload\n",
    "%autoreload 2"
   ]
  },
  {
   "cell_type": "code",
   "execution_count": 3,
   "metadata": {},
   "outputs": [
    {
     "data": {
      "text/html": [
       "<div>\n",
       "<style scoped>\n",
       "    .dataframe tbody tr th:only-of-type {\n",
       "        vertical-align: middle;\n",
       "    }\n",
       "\n",
       "    .dataframe tbody tr th {\n",
       "        vertical-align: top;\n",
       "    }\n",
       "\n",
       "    .dataframe thead th {\n",
       "        text-align: right;\n",
       "    }\n",
       "</style>\n",
       "<table border=\"1\" class=\"dataframe\">\n",
       "  <thead>\n",
       "    <tr style=\"text-align: right;\">\n",
       "      <th></th>\n",
       "      <th>bathrooms</th>\n",
       "      <th>bedrooms</th>\n",
       "      <th>price</th>\n",
       "      <th>longitude</th>\n",
       "      <th>latitude</th>\n",
       "      <th>interest_level</th>\n",
       "    </tr>\n",
       "  </thead>\n",
       "  <tbody>\n",
       "    <tr>\n",
       "      <th>0</th>\n",
       "      <td>1.5</td>\n",
       "      <td>3</td>\n",
       "      <td>3000</td>\n",
       "      <td>-73.9425</td>\n",
       "      <td>40.7145</td>\n",
       "      <td>2</td>\n",
       "    </tr>\n",
       "    <tr>\n",
       "      <th>1</th>\n",
       "      <td>1.0</td>\n",
       "      <td>2</td>\n",
       "      <td>5465</td>\n",
       "      <td>-73.9667</td>\n",
       "      <td>40.7947</td>\n",
       "      <td>1</td>\n",
       "    </tr>\n",
       "    <tr>\n",
       "      <th>2</th>\n",
       "      <td>1.0</td>\n",
       "      <td>1</td>\n",
       "      <td>2850</td>\n",
       "      <td>-74.0018</td>\n",
       "      <td>40.7388</td>\n",
       "      <td>3</td>\n",
       "    </tr>\n",
       "    <tr>\n",
       "      <th>3</th>\n",
       "      <td>1.0</td>\n",
       "      <td>1</td>\n",
       "      <td>3275</td>\n",
       "      <td>-73.9677</td>\n",
       "      <td>40.7539</td>\n",
       "      <td>1</td>\n",
       "    </tr>\n",
       "    <tr>\n",
       "      <th>4</th>\n",
       "      <td>1.0</td>\n",
       "      <td>4</td>\n",
       "      <td>3350</td>\n",
       "      <td>-73.9493</td>\n",
       "      <td>40.8241</td>\n",
       "      <td>1</td>\n",
       "    </tr>\n",
       "  </tbody>\n",
       "</table>\n",
       "</div>"
      ],
      "text/plain": [
       "   bathrooms  bedrooms  price  longitude  latitude  interest_level\n",
       "0        1.5         3   3000   -73.9425   40.7145               2\n",
       "1        1.0         2   5465   -73.9667   40.7947               1\n",
       "2        1.0         1   2850   -74.0018   40.7388               3\n",
       "3        1.0         1   3275   -73.9677   40.7539               1\n",
       "4        1.0         4   3350   -73.9493   40.8241               1"
      ]
     },
     "execution_count": 3,
     "metadata": {},
     "output_type": "execute_result"
    }
   ],
   "source": [
    "df = pd.read_csv('../data/rent.txt')\n",
    "df.head()"
   ]
  },
  {
   "cell_type": "code",
   "execution_count": 4,
   "metadata": {},
   "outputs": [
    {
     "name": "stdout",
     "output_type": "stream",
     "text": [
      "Shape : (49352, 5), (49352,)\n"
     ]
    }
   ],
   "source": [
    "# Convert to numpy\n",
    "X_train = df.drop(['interest_level'], axis=1).values\n",
    "y_train = df['interest_level'].values\n",
    "y_train = pd.Series(y_train).map({1: 0, 2: 1, 3: 2}).values\n",
    "features = df.columns[:-1]\n",
    "print(f'Shape : {X_train.shape}, {y_train.shape}')"
   ]
  },
  {
   "cell_type": "code",
   "execution_count": 5,
   "metadata": {},
   "outputs": [],
   "source": [
    "# Create CV object\n",
    "kf = StratifiedKFold(n_splits=5, shuffle=True, random_state=1)"
   ]
  },
  {
   "cell_type": "code",
   "execution_count": 6,
   "metadata": {},
   "outputs": [
    {
     "data": {
      "image/png": "[encoded data removed]",
      "text/plain": [
       "<Figure size 864x432 with 1 Axes>"
      ]
     },
     "metadata": {},
     "output_type": "display_data"
    }
   ],
   "source": [
    "rf_clf = RandomForestClassifier(n_estimators=100,\n",
    "                                class_weight='balanced',\n",
    "                                random_state=1,\n",
    "                                oob_score=True)\n",
    "rf_clf.fit(X_train, y_train)\n",
    "utils.utils.plot_feature_imp(rf_clf, feature_names=features)"
   ]
  },
  {
   "cell_type": "code",
   "execution_count": 93,
   "metadata": {},
   "outputs": [],
   "source": [
    "def oob_accuracy(rf_clf, X_train, y_train):\n",
    "    n_samples = X_train.shape[0]\n",
    "    n_classes = len(np.bincount(y_train))\n",
    "    preds_matrix = np.zeros((n_samples, n_classes))\n",
    "    \n",
    "    # Iterate over all trees\n",
    "    for tree in rf_clf.estimators_:\n",
    "        # Generate unsampled indices\n",
    "        unsampled_idxs = _generate_unsampled_indices(tree.random_state, n_samples)\n",
    "        preds = tree.predict_proba(X_train[unsampled_idxs, :])\n",
    "        preds_matrix[unsampled_idxs, :] += preds\n",
    "    \n",
    "    preds_classes = np.argmax(preds_matrix, axis=1)\n",
    "    oob_score = (y_train == preds_classes).mean()\n",
    "    return oob_score\n",
    "\n",
    "\n",
    "def oob_r2(rf_reg, X_train, y_train):\n",
    "    n_samples = X_train.shape[0]\n",
    "    n_preds = np.zeros(n_samples)\n",
    "    preds_matrix = np.zeros((n_samples))\n",
    "    \n",
    "    # Iterate over all trees\n",
    "    for tree in rf_reg.estimators_:\n",
    "        # Generate unsampled indices\n",
    "        unsampled_idxs = _generate_unsampled_indices(tree.random_state, n_samples)\n",
    "        preds = tree.predict(X_train[unsampled_idxs, :])\n",
    "        preds_matrix[unsampled_idxs] += preds\n",
    "        n_preds[unsampled_idxs] += 1\n",
    "    \n",
    "    # Avoid dividing by zero if some samples weren't included\n",
    "    if (n_preds == 0).any():\n",
    "        warnings.warn(\"Some features didn't have OOB samples.\")\n",
    "        # Discard samples weren't OOB in any feature\n",
    "        y_train = y_train[n_preds != 0]\n",
    "        preds_matrix = preds_matrix[n_preds != 0]\n",
    "        avg_preds = preds_matrix / n_preds\n",
    "        oob_score = r2_score(y_train, avg_preds, )\n",
    "        return oob_score\n",
    "\n",
    "\n",
    "def permutation_importances(rf_clf, X_train, y_train, scorer):\n",
    "    feat_imp = []\n",
    "    baseline_score = scorer(rf_clf, X_train, y_train)\n",
    "    for j in range(X_train.shape[1]):\n",
    "        temp = X_train[:, j].copy()\n",
    "        X_train[:, j] = np.random.permutation(X_train[:, j])\n",
    "        score = scorer(rf_clf, X_train, y_train)\n",
    "        feat_imp.append(baseline_score - score)\n",
    "        X_train[:, j] = temp\n",
    "    return np.array(feat_imp)"
   ]
  },
  {
   "cell_type": "code",
   "execution_count": 19,
   "metadata": {},
   "outputs": [],
   "source": [
    "import warnings"
   ]
  },
  {
   "cell_type": "code",
   "execution_count": 112,
   "metadata": {},
   "outputs": [
    {
     "data": {
      "text/plain": [
       "0.8792372881355932"
      ]
     },
     "execution_count": 112,
     "metadata": {},
     "output_type": "execute_result"
    }
   ],
   "source": [
    "oob_accuracy(rf_clf, X_train, y_train)"
   ]
  },
  {
   "cell_type": "code",
   "execution_count": 113,
   "metadata": {},
   "outputs": [],
   "source": [
    "perm_imp = permutation_importances(rf_clf, X_train, y_train, oob_accuracy)\n",
    "perm_imp"
   ]
  },
  {
   "cell_type": "code",
   "execution_count": 137,
   "metadata": {},
   "outputs": [
    {
     "data": {
      "image/png": "[encoded data removed]",
      "text/plain": [
       "<Figure size 864x576 with 1 Axes>"
      ]
     },
     "metadata": {},
     "output_type": "display_data"
    }
   ],
   "source": [
    "idxs = np.argsort(perm_imp)[::-1]\n",
    "plt.figure(figsize=(12, 8))\n",
    "plt.barh(range(9), perm_imp[idxs])\n",
    "plt.yticks(range(9), features[idxs]);"
   ]
  },
  {
   "cell_type": "code",
   "execution_count": 171,
   "metadata": {},
   "outputs": [
    {
     "name": "stdout",
     "output_type": "stream",
     "text": [
      "oob accuracy 0.7177824606905495\n"
     ]
    }
   ],
   "source": [
    "base_rf = RandomForestClassifier(n_estimators=100,\n",
    "                                 min_samples_leaf=5,\n",
    "                                 n_jobs=-1,\n",
    "                                 oob_score=True)\n",
    "rf_clf = clone(base_rf)\n",
    "rf_clf.fit(X_train, y_train)\n",
    "oob = oob_accuracy(rf_clf, X_train, y_train)\n",
    "print(\"oob accuracy\",oob)\n",
    "\n",
    "imp = permutation_importances(rf_clf, X_train, y_train,\n",
    "                              oob_accuracy)"
   ]
  },
  {
   "cell_type": "code",
   "execution_count": 172,
   "metadata": {},
   "outputs": [
    {
     "data": {
      "text/plain": [
       "array([0.00382963, 0.10165748, 0.14175717, 0.03363592, 0.03250122])"
      ]
     },
     "execution_count": 172,
     "metadata": {},
     "output_type": "execute_result"
    }
   ],
   "source": [
    "imp"
   ]
  },
  {
   "cell_type": "code",
   "execution_count": 156,
   "metadata": {},
   "outputs": [
    {
     "data": {
      "text/plain": [
       "array([0, 1, 2])"
      ]
     },
     "execution_count": 156,
     "metadata": {},
     "output_type": "execute_result"
    }
   ],
   "source": [
    "np.unique(pd.Series(y_train).map({1: 0, 2: 1, 3: 2}))"
   ]
  },
  {
   "cell_type": "code",
   "execution_count": 180,
   "metadata": {},
   "outputs": [
    {
     "data": {
      "image/png": "[encoded data removed]",
      "text/plain": [
       "<Figure size 864x576 with 1 Axes>"
      ]
     },
     "metadata": {},
     "output_type": "display_data"
    }
   ],
   "source": [
    "idxs = np.argsort(imp)\n",
    "plt.figure(figsize=(12, 8))\n",
    "plt.barh(range(5), imp[idxs])\n",
    "plt.yticks(range(5), df.columns[:-1][idxs]);"
   ]
  }
 ],
 "metadata": {
  "kernelspec": {
   "display_name": "Python 3",
   "language": "python",
   "name": "python3"
  },
  "language_info": {
   "codemirror_mode": {
    "name": "ipython",
    "version": 3
   },
   "file_extension": ".py",
   "mimetype": "text/x-python",
   "name": "python",
   "nbconvert_exporter": "python",
   "pygments_lexer": "ipython3",
   "version": "3.6.5"
  }
 },
 "nbformat": 4,
 "nbformat_minor": 2
}
