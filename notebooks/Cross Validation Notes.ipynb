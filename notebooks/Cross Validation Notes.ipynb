{
 "cells": [
  {
   "cell_type": "code",
   "execution_count": 1,
   "metadata": {},
   "outputs": [],
   "source": [
    "import sys\n",
    "\n",
    "import matplotlib.pyplot as plt\n",
    "import numpy as np\n",
    "import pandas as pd\n",
    "import seaborn as sns\n",
    "from sklearn.utils import shuffle\n",
    "from sklearn.datasets import load_iris\n",
    "from sklearn.dummy import DummyClassifier\n",
    "from sklearn.discriminant_analysis import LinearDiscriminantAnalysis\n",
    "from sklearn.model_selection import cross_val_score, permutation_test_score\n",
    "from scipy.stats import binom\n",
    "\n",
    "sys.path.append('../')\n",
    "from utils import utils\n",
    "\n",
    "%matplotlib inline"
   ]
  },
  {
   "cell_type": "code",
   "execution_count": 2,
   "metadata": {},
   "outputs": [],
   "source": [
    "# Load the data\n",
    "iris = load_iris()\n",
    "\n",
    "# Shuffle the data\n",
    "X, y = shuffle(iris.data, iris.target)"
   ]
  },
  {
   "cell_type": "code",
   "execution_count": 3,
   "metadata": {},
   "outputs": [
    {
     "data": {
      "text/plain": [
       "array([1.        , 0.94117647, 1.        ])"
      ]
     },
     "execution_count": 3,
     "metadata": {},
     "output_type": "execute_result"
    }
   ],
   "source": [
    "# Build lda clf\n",
    "lda = LinearDiscriminantAnalysis()\n",
    "cross_val_score(lda, X, y)"
   ]
  },
  {
   "cell_type": "code",
   "execution_count": 4,
   "metadata": {},
   "outputs": [
    {
     "name": "stdout",
     "output_type": "stream",
     "text": [
      "[1.         0.96078431 0.97916667]\n",
      "[0.98039216 0.98039216 1.        ]\n",
      "[0.98039216 0.98039216 0.9375    ]\n",
      "[0.98039216 0.96078431 1.        ]\n",
      "[1.         0.96078431 0.97916667]\n",
      "[0.96078431 0.98039216 1.        ]\n",
      "[0.98039216 0.98039216 0.97916667]\n",
      "[0.94117647 1.         1.        ]\n",
      "[1.         0.96078431 0.97916667]\n",
      "[0.96078431 0.98039216 1.        ]\n"
     ]
    }
   ],
   "source": [
    "# explore variation in CV scores\n",
    "for i in range(10):\n",
    "    X, y = shuffle(iris.data, iris.target)\n",
    "    print(cross_val_score(lda, X, y))"
   ]
  },
  {
   "cell_type": "markdown",
   "metadata": {},
   "source": [
    "Looks like CV accuracy varies between 0.92-1. We can think of this as binomial distribution experiment where for each sample, the prob. of success = p and we repeat this for all samples. Let's plot binomial PMF using p = 0.7"
   ]
  },
  {
   "cell_type": "code",
   "execution_count": 5,
   "metadata": {},
   "outputs": [
    {
     "data": {
      "text/plain": [
       "[<matplotlib.lines.Line2D at 0x18d1b416358>]"
      ]
     },
     "execution_count": 5,
     "metadata": {},
     "output_type": "execute_result"
    },
    {
     "data": {
      "image/png": "[encoded data removed]",
      "text/plain": [
       "<Figure size 432x288 with 1 Axes>"
      ]
     },
     "metadata": {},
     "output_type": "display_data"
    }
   ],
   "source": [
    "# Plot binomial pdf\n",
    "n = len(iris.data)\n",
    "distrib = binom(n=n, p=0.7)\n",
    "plt.plot(np.linspace(0, 1, n), distrib.pmf(np.arange(n)))"
   ]
  },
  {
   "cell_type": "markdown",
   "metadata": {},
   "source": [
    "The PMF is centered around 0.7, but it's width (variance) is not small which is the sampling noise and we can't do much about it."
   ]
  },
  {
   "cell_type": "code",
   "execution_count": 6,
   "metadata": {},
   "outputs": [
    {
     "name": "stdout",
     "output_type": "stream",
     "text": [
      "Size :     100 | Interval : 18.00%\n",
      "Size :    1000 | Interval : 5.70%\n",
      "Size :   10000 | Interval : 1.80%\n",
      "Size :  100000 | Interval : 0.57%\n"
     ]
    }
   ],
   "source": [
    "# Plot binomial pdf\n",
    "for n in [100, 1000, 10000, 100000]:\n",
    "    distrib = binom(n=n, p=0.7)\n",
    "    # Use 95% conf interval\n",
    "    interval = (distrib.isf(0.025) - distrib.isf(0.975)) / n\n",
    "    print(f'Size : {n: 7} | Interval : {interval:.2%}')"
   ]
  },
  {
   "cell_type": "code",
   "execution_count": 7,
   "metadata": {},
   "outputs": [
    {
     "data": {
      "text/plain": [
       "array([0.35294118, 0.45098039, 0.33333333])"
      ]
     },
     "execution_count": 7,
     "metadata": {},
     "output_type": "execute_result"
    }
   ],
   "source": [
    "# Dummy clf\n",
    "dummy = DummyClassifier(strategy='stratified')\n",
    "cross_val_score(dummy, X, y)"
   ]
  },
  {
   "cell_type": "code",
   "execution_count": 8,
   "metadata": {},
   "outputs": [
    {
     "name": "stdout",
     "output_type": "stream",
     "text": [
      "Score : 98.04%\n",
      "p_value : 0.0099\n",
      "Average permutation score : 33.21%\n",
      "Permutation :\n",
      "[0.38112745 0.33251634 0.2998366  0.3125     0.39338235 0.25939542\n",
      " 0.2998366  0.30106209 0.36683007 0.37867647 0.28022876 0.40155229\n",
      " 0.28594771 0.25367647 0.34027778 0.27941176 0.29861111 0.37377451\n",
      " 0.2871732  0.34681373 0.31413399 0.33455882 0.35866013 0.36723856\n",
      " 0.30678105 0.37214052 0.32638889 0.34599673 0.26756536 0.37908497\n",
      " 0.30637255 0.29901961 0.34640523 0.27328431 0.30759804 0.3129085\n",
      " 0.36764706 0.32026144 0.35334967 0.28594771 0.2871732  0.35253268\n",
      " 0.28635621 0.35294118 0.2879902  0.31944444 0.35906863 0.31413399\n",
      " 0.33864379 0.33864379 0.39215686 0.3120915  0.34722222 0.36887255\n",
      " 0.38031046 0.23243464 0.33986928 0.29289216 0.29289216 0.34681373\n",
      " 0.3255719  0.47303922 0.36111111 0.29084967 0.2994281  0.33986928\n",
      " 0.34763072 0.27328431 0.30596405 0.30555556 0.25816993 0.35334967\n",
      " 0.39379085 0.24591503 0.3002451  0.28635621 0.36111111 0.30555556\n",
      " 0.38643791 0.35947712 0.30759804 0.26756536 0.36151961 0.42116013\n",
      " 0.37949346 0.36601307 0.37377451 0.33333333 0.40563725 0.32026144\n",
      " 0.23284314 0.4003268  0.37295752 0.40604575 0.45179739 0.35988562\n",
      " 0.36764706 0.37214052 0.24673203 0.33333333]\n"
     ]
    }
   ],
   "source": [
    "# Use permutation to get a more robust baseline/chance score\n",
    "lda = LinearDiscriminantAnalysis()\n",
    "score, permutation, p_value = permutation_test_score(lda, X, y)\n",
    "print(f'Score : {score:.2%}')\n",
    "print(f'p_value : {p_value:.4f}')\n",
    "print(f'Average permutation score : {np.mean(permutation):.2%}')\n",
    "print(f'Permutation :\\n{permutation}')"
   ]
  },
  {
   "cell_type": "markdown",
   "metadata": {},
   "source": [
    "The above shows that even with sample size of 100,000, we still have close to 0.6% of observations fall out of the 95% confidence interval.\n",
    "\n",
    "**Bottom Line**: \n",
    "- CV score is not ground truth and it's just an estimation of the test error, i.e. it has its own error bars and uncertainty.\n",
    "- Computing the variance on the folds errors is not a great estimate of the noise because the folds are not independent; however, it still gives us a rough estimate.\n",
    "- Using CV to tune hyperparameters, Sklearn will refit the model using the best hyperparameters. However, we can get a more robust model if we pick the best hyperparameters on each fold and average them out --> become more like an ensemble.\n",
    "- To get baseline/chance model score use:\n",
    "    - Dummy classifier, it's more robust to use strategy=stratified to get more robust chance/baseline score.\n",
    "    - Use permutation_test_score to get even more robust score. It permutates the target value and build classifier on permutated data."
   ]
  }
 ],
 "metadata": {
  "kernelspec": {
   "display_name": "Python 3",
   "language": "python",
   "name": "python3"
  },
  "language_info": {
   "codemirror_mode": {
    "name": "ipython",
    "version": 3
   },
   "file_extension": ".py",
   "mimetype": "text/x-python",
   "name": "python",
   "nbconvert_exporter": "python",
   "pygments_lexer": "ipython3",
   "version": "3.6.5"
  }
 },
 "nbformat": 4,
 "nbformat_minor": 2
}
