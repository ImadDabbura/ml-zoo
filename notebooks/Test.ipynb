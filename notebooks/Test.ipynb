{
 "cells": [
  {
   "cell_type": "code",
   "execution_count": 88,
   "metadata": {},
   "outputs": [],
   "source": [
    "import matplotlib.pyplot as plt\n",
    "import numpy as np\n",
    "import pandas as pd\n",
    "import seaborn as sns\n",
    "import rfpimp\n",
    "from sklearn.preprocessing import StandardScaler\n",
    "from sklearn.decomposition import PCA\n",
    "from sklearn.pipeline import make_pipeline, make_union\n",
    "from sklearn.dummy import DummyClassifier\n",
    "from sklearn.ensemble import RandomForestClassifier\n",
    "from sklearn.ensemble.forest import _generate_unsampled_indices\n",
    "from sklearn.metrics import (accuracy_score,\n",
    "                             roc_auc_score,\n",
    "                             confusion_matrix,\n",
    "                             classification_report,\n",
    "                             make_scorer)\n",
    "from sklearn.model_selection import (train_test_split,\n",
    "                                     cross_val_score,\n",
    "                                     KFold,\n",
    "                                     StratifiedKFold,\n",
    "                                     learning_curve,\n",
    "                                     validation_curve,\n",
    "                                     GridSearchCV,\n",
    "                                     RandomizedSearchCV)\n",
    "from sklearn.feature_selection import SelectFromModel, SelectKBest\n",
    "\n",
    "import utils\n",
    "\n",
    "%matplotlib inline\n",
    "sns.set_context('notebook')\n",
    "plt.style.use('fivethirtyeight')"
   ]
  },
  {
   "cell_type": "code",
   "execution_count": 2,
   "metadata": {},
   "outputs": [],
   "source": [
    "%load_ext autoreload\n",
    "%autoreload 2"
   ]
  },
  {
   "cell_type": "code",
   "execution_count": 3,
   "metadata": {},
   "outputs": [
    {
     "data": {
      "text/html": [
       "<div>\n",
       "<style scoped>\n",
       "    .dataframe tbody tr th:only-of-type {\n",
       "        vertical-align: middle;\n",
       "    }\n",
       "\n",
       "    .dataframe tbody tr th {\n",
       "        vertical-align: top;\n",
       "    }\n",
       "\n",
       "    .dataframe thead th {\n",
       "        text-align: right;\n",
       "    }\n",
       "</style>\n",
       "<table border=\"1\" class=\"dataframe\">\n",
       "  <thead>\n",
       "    <tr style=\"text-align: right;\">\n",
       "      <th></th>\n",
       "      <th>male</th>\n",
       "      <th>race</th>\n",
       "      <th>age</th>\n",
       "      <th>state</th>\n",
       "      <th>time.served</th>\n",
       "      <th>max.sentence</th>\n",
       "      <th>multiple.offenses</th>\n",
       "      <th>crime</th>\n",
       "      <th>violator</th>\n",
       "    </tr>\n",
       "  </thead>\n",
       "  <tbody>\n",
       "    <tr>\n",
       "      <th>0</th>\n",
       "      <td>1</td>\n",
       "      <td>1</td>\n",
       "      <td>33.2</td>\n",
       "      <td>1</td>\n",
       "      <td>5.5</td>\n",
       "      <td>18</td>\n",
       "      <td>0</td>\n",
       "      <td>4</td>\n",
       "      <td>0</td>\n",
       "    </tr>\n",
       "    <tr>\n",
       "      <th>1</th>\n",
       "      <td>0</td>\n",
       "      <td>1</td>\n",
       "      <td>39.7</td>\n",
       "      <td>1</td>\n",
       "      <td>5.4</td>\n",
       "      <td>12</td>\n",
       "      <td>0</td>\n",
       "      <td>3</td>\n",
       "      <td>0</td>\n",
       "    </tr>\n",
       "    <tr>\n",
       "      <th>2</th>\n",
       "      <td>1</td>\n",
       "      <td>2</td>\n",
       "      <td>29.5</td>\n",
       "      <td>1</td>\n",
       "      <td>5.6</td>\n",
       "      <td>12</td>\n",
       "      <td>0</td>\n",
       "      <td>3</td>\n",
       "      <td>0</td>\n",
       "    </tr>\n",
       "    <tr>\n",
       "      <th>3</th>\n",
       "      <td>1</td>\n",
       "      <td>1</td>\n",
       "      <td>22.4</td>\n",
       "      <td>1</td>\n",
       "      <td>5.7</td>\n",
       "      <td>18</td>\n",
       "      <td>0</td>\n",
       "      <td>1</td>\n",
       "      <td>0</td>\n",
       "    </tr>\n",
       "    <tr>\n",
       "      <th>4</th>\n",
       "      <td>1</td>\n",
       "      <td>2</td>\n",
       "      <td>21.6</td>\n",
       "      <td>1</td>\n",
       "      <td>5.4</td>\n",
       "      <td>12</td>\n",
       "      <td>0</td>\n",
       "      <td>1</td>\n",
       "      <td>0</td>\n",
       "    </tr>\n",
       "  </tbody>\n",
       "</table>\n",
       "</div>"
      ],
      "text/plain": [
       "   male  race   age  state  time.served  max.sentence  multiple.offenses  \\\n",
       "0     1     1  33.2      1          5.5            18                  0   \n",
       "1     0     1  39.7      1          5.4            12                  0   \n",
       "2     1     2  29.5      1          5.6            12                  0   \n",
       "3     1     1  22.4      1          5.7            18                  0   \n",
       "4     1     2  21.6      1          5.4            12                  0   \n",
       "\n",
       "   crime  violator  \n",
       "0      4         0  \n",
       "1      3         0  \n",
       "2      3         0  \n",
       "3      1         0  \n",
       "4      1         0  "
      ]
     },
     "execution_count": 3,
     "metadata": {},
     "output_type": "execute_result"
    }
   ],
   "source": [
    "data = pd.read_csv('data/parole.csv', low_memory=False)\n",
    "data.head()"
   ]
  },
  {
   "cell_type": "code",
   "execution_count": 59,
   "metadata": {},
   "outputs": [
    {
     "data": {
      "text/html": [
       "<div>\n",
       "<style scoped>\n",
       "    .dataframe tbody tr th:only-of-type {\n",
       "        vertical-align: middle;\n",
       "    }\n",
       "\n",
       "    .dataframe tbody tr th {\n",
       "        vertical-align: top;\n",
       "    }\n",
       "\n",
       "    .dataframe thead th {\n",
       "        text-align: right;\n",
       "    }\n",
       "</style>\n",
       "<table border=\"1\" class=\"dataframe\">\n",
       "  <thead>\n",
       "    <tr style=\"text-align: right;\">\n",
       "      <th></th>\n",
       "      <th>male</th>\n",
       "      <th>race</th>\n",
       "      <th>age</th>\n",
       "      <th>state</th>\n",
       "      <th>time.served</th>\n",
       "      <th>max.sentence</th>\n",
       "      <th>multiple.offenses</th>\n",
       "      <th>crime</th>\n",
       "      <th>violator</th>\n",
       "      <th>random</th>\n",
       "    </tr>\n",
       "  </thead>\n",
       "  <tbody>\n",
       "    <tr>\n",
       "      <th>0</th>\n",
       "      <td>1</td>\n",
       "      <td>1</td>\n",
       "      <td>33.2</td>\n",
       "      <td>1</td>\n",
       "      <td>5.5</td>\n",
       "      <td>18</td>\n",
       "      <td>0</td>\n",
       "      <td>4</td>\n",
       "      <td>0</td>\n",
       "      <td>0.566672</td>\n",
       "    </tr>\n",
       "    <tr>\n",
       "      <th>1</th>\n",
       "      <td>0</td>\n",
       "      <td>1</td>\n",
       "      <td>39.7</td>\n",
       "      <td>1</td>\n",
       "      <td>5.4</td>\n",
       "      <td>12</td>\n",
       "      <td>0</td>\n",
       "      <td>3</td>\n",
       "      <td>0</td>\n",
       "      <td>0.115158</td>\n",
       "    </tr>\n",
       "    <tr>\n",
       "      <th>2</th>\n",
       "      <td>1</td>\n",
       "      <td>2</td>\n",
       "      <td>29.5</td>\n",
       "      <td>1</td>\n",
       "      <td>5.6</td>\n",
       "      <td>12</td>\n",
       "      <td>0</td>\n",
       "      <td>3</td>\n",
       "      <td>0</td>\n",
       "      <td>0.350335</td>\n",
       "    </tr>\n",
       "    <tr>\n",
       "      <th>3</th>\n",
       "      <td>1</td>\n",
       "      <td>1</td>\n",
       "      <td>22.4</td>\n",
       "      <td>1</td>\n",
       "      <td>5.7</td>\n",
       "      <td>18</td>\n",
       "      <td>0</td>\n",
       "      <td>1</td>\n",
       "      <td>0</td>\n",
       "      <td>0.526150</td>\n",
       "    </tr>\n",
       "    <tr>\n",
       "      <th>4</th>\n",
       "      <td>1</td>\n",
       "      <td>2</td>\n",
       "      <td>21.6</td>\n",
       "      <td>1</td>\n",
       "      <td>5.4</td>\n",
       "      <td>12</td>\n",
       "      <td>0</td>\n",
       "      <td>1</td>\n",
       "      <td>0</td>\n",
       "      <td>0.920031</td>\n",
       "    </tr>\n",
       "  </tbody>\n",
       "</table>\n",
       "</div>"
      ],
      "text/plain": [
       "   male  race   age  state  time.served  max.sentence  multiple.offenses  \\\n",
       "0     1     1  33.2      1          5.5            18                  0   \n",
       "1     0     1  39.7      1          5.4            12                  0   \n",
       "2     1     2  29.5      1          5.6            12                  0   \n",
       "3     1     1  22.4      1          5.7            18                  0   \n",
       "4     1     2  21.6      1          5.4            12                  0   \n",
       "\n",
       "   crime  violator    random  \n",
       "0      4         0  0.566672  \n",
       "1      3         0  0.115158  \n",
       "2      3         0  0.350335  \n",
       "3      1         0  0.526150  \n",
       "4      1         0  0.920031  "
      ]
     },
     "execution_count": 59,
     "metadata": {},
     "output_type": "execute_result"
    }
   ],
   "source": [
    "# Add random feature\n",
    "data['random'] = np.random.random(data.shape[0])\n",
    "data.head()"
   ]
  },
  {
   "cell_type": "code",
   "execution_count": 64,
   "metadata": {},
   "outputs": [
    {
     "name": "stdout",
     "output_type": "stream",
     "text": [
      "Shape : (675, 9), (675,)\n",
      "Training : (472, 9)\n",
      "Test : (203, 9)\n"
     ]
    }
   ],
   "source": [
    "# Convert to numpy\n",
    "X = data.drop(['violator'], axis=1).values\n",
    "y = data['violator'].values\n",
    "print(f'Shape : {X.shape}, {y.shape}')\n",
    "\n",
    "# Split the data\n",
    "X_train, X_test, y_train, y_test = train_test_split(X, y, test_size=0.3, stratify=y, random_state=1)\n",
    "print(f'Training : {X_train.shape}')\n",
    "print(f'Test : {X_test.shape}')"
   ]
  },
  {
   "cell_type": "code",
   "execution_count": 65,
   "metadata": {},
   "outputs": [
    {
     "data": {
      "image/png": "[encoded data removed]",
      "text/plain": [
       "<Figure size 576x432 with 1 Axes>"
      ]
     },
     "metadata": {},
     "output_type": "display_data"
    }
   ],
   "source": [
    "# Plot class distribution\n",
    "utils.plot_class_dist(y, ['non-violators', 'violators'])"
   ]
  },
  {
   "cell_type": "code",
   "execution_count": 66,
   "metadata": {},
   "outputs": [
    {
     "data": {
      "text/plain": [
       "PCA(copy=True, iterated_power='auto', n_components=None, random_state=None,\n",
       "  svd_solver='full', tol=0.0, whiten=False)"
      ]
     },
     "execution_count": 66,
     "metadata": {},
     "output_type": "execute_result"
    }
   ],
   "source": [
    "pca = PCA(n_components=None, svd_solver=\"full\")\n",
    "pca.fit(StandardScaler().fit_transform(X_train))"
   ]
  },
  {
   "cell_type": "code",
   "execution_count": 67,
   "metadata": {},
   "outputs": [
    {
     "data": {
      "image/png": "[encoded data removed]",
      "text/plain": [
       "<Figure size 864x432 with 1 Axes>"
      ]
     },
     "metadata": {},
     "output_type": "display_data"
    }
   ],
   "source": [
    "utils.plot_pca_var_explained(pca)"
   ]
  },
  {
   "cell_type": "code",
   "execution_count": 68,
   "metadata": {},
   "outputs": [
    {
     "name": "stdout",
     "output_type": "stream",
     "text": [
      "Training accuracy : 88.35%\n",
      "Training AUC : 50.00%\n"
     ]
    }
   ],
   "source": [
    "# Create dummy classifier\n",
    "dummy_clf = DummyClassifier(strategy='most_frequent')\n",
    "dummy_clf.fit(X_train, y_train)\n",
    "print(f'Training accuracy : {accuracy_score(y_train, dummy_clf.predict(X_train)):.2%}')\n",
    "print(f'Training AUC : {roc_auc_score(y_train, dummy_clf.predict(X_train)):.2%}')"
   ]
  },
  {
   "cell_type": "code",
   "execution_count": 69,
   "metadata": {},
   "outputs": [],
   "source": [
    "# Create CV object\n",
    "kf = StratifiedKFold(5, shuffle=True, random_state=1)"
   ]
  },
  {
   "cell_type": "code",
   "execution_count": 83,
   "metadata": {},
   "outputs": [
    {
     "data": {
      "text/plain": [
       "array(['male', 'race', 'age', 'state', 'time.served', 'max.sentence',\n",
       "       'multiple.offenses', 'crime', 'random'], dtype=object)"
      ]
     },
     "execution_count": 83,
     "metadata": {},
     "output_type": "execute_result"
    }
   ],
   "source": [
    "features = np.concatenate([data.columns[:-2], data.columns[-1:]])\n",
    "features"
   ]
  },
  {
   "cell_type": "code",
   "execution_count": 84,
   "metadata": {},
   "outputs": [
    {
     "data": {
      "image/png": "[encoded data removed]",
      "text/plain": [
       "<Figure size 864x432 with 1 Axes>"
      ]
     },
     "metadata": {},
     "output_type": "display_data"
    }
   ],
   "source": [
    "rf_clf = RandomForestClassifier(n_estimators=100,\n",
    "                                class_weight='balanced',\n",
    "                                random_state=1,\n",
    "                                oob_score=True)\n",
    "rf_clf.fit(X_train, y_train)\n",
    "utils.plot_feature_imp(rf_clf, feature_names=features)"
   ]
  },
  {
   "cell_type": "code",
   "execution_count": 86,
   "metadata": {},
   "outputs": [
    {
     "data": {
      "text/plain": [
       "-0.6321205588285577"
      ]
     },
     "execution_count": 86,
     "metadata": {},
     "output_type": "execute_result"
    }
   ],
   "source": [
    "1 / np.exp(1) - 1"
   ]
  },
  {
   "cell_type": "code",
   "execution_count": 87,
   "metadata": {},
   "outputs": [
    {
     "data": {
      "text/plain": [
       "array([8, 1, 2, 7, 9, 3, 4, 0, 6, 5])"
      ]
     },
     "execution_count": 87,
     "metadata": {},
     "output_type": "execute_result"
    }
   ],
   "source": [
    "np.random.permutation(10)"
   ]
  },
  {
   "cell_type": "code",
   "execution_count": 90,
   "metadata": {},
   "outputs": [],
   "source": [
    "_generate_unsampled_indices??"
   ]
  },
  {
   "cell_type": "code",
   "execution_count": null,
   "metadata": {},
   "outputs": [],
   "source": [
    "np.bincount()"
   ]
  },
  {
   "cell_type": "code",
   "execution_count": 91,
   "metadata": {},
   "outputs": [
    {
     "data": {
      "text/plain": [
       "array([0, 1])"
      ]
     },
     "execution_count": 91,
     "metadata": {},
     "output_type": "execute_result"
    }
   ],
   "source": [
    "rf_clf.classes_"
   ]
  },
  {
   "cell_type": "code",
   "execution_count": 93,
   "metadata": {},
   "outputs": [],
   "source": [
    "def oob_accuracy(rf_clf, X_train, y_train):\n",
    "    n_samples = X_train.shape[0]\n",
    "    n_classes = len(np.bincount(y_train))\n",
    "    preds_matrix = np.zeros((n_samples, n_classes))\n",
    "    \n",
    "    # Iterate over all trees\n",
    "    for tree in rf_clf.estimators_:\n",
    "        # Generate unsampled indices\n",
    "        unsampled_idxs = _generate_unsampled_indices(tree.random_state, n_samples)\n",
    "        preds = tree.predict_proba(X_train[unsampled_idxs, :])\n",
    "        preds_matrix[unsampled_idxs, :] += preds\n",
    "    \n",
    "    preds_classes = np.argmax(preds_matrix, axis=1)\n",
    "    oob_score = (y_train == preds_classes).mean()\n",
    "    return oob_score\n",
    "\n",
    "def permutation_importances(rf_clf, X_train, y_train, scorer):\n",
    "    feat_imp = []\n",
    "    baseline_score = scorer(rf_clf, X_train, y_train)\n",
    "    for j in range(X_train.shape[1]):\n",
    "        temp = X_train[:, j].copy()\n",
    "        X_train[:, j] = np.random.permutation(X_train[:, j])\n",
    "        score = scorer(rf_clf, X_train, y_train)\n",
    "        feat_imp.append(baseline_score - score)\n",
    "        X_train[:, j] = temp\n",
    "    return np.array(feat_imp)"
   ]
  },
  {
   "cell_type": "code",
   "execution_count": 112,
   "metadata": {},
   "outputs": [
    {
     "data": {
      "text/plain": [
       "0.8792372881355932"
      ]
     },
     "execution_count": 112,
     "metadata": {},
     "output_type": "execute_result"
    }
   ],
   "source": [
    "oob_accuracy(rf_clf, X_train, y_train)"
   ]
  },
  {
   "cell_type": "code",
   "execution_count": 113,
   "metadata": {},
   "outputs": [],
   "source": [
    "perm_imp = permutation_importances(rf_clf, X_train, y_train, oob_accuracy)"
   ]
  },
  {
   "cell_type": "code",
   "execution_count": 114,
   "metadata": {},
   "outputs": [
    {
     "data": {
      "text/plain": [
       "array([-0.00211864,  0.        ,  0.01483051,  0.00847458,  0.        ,\n",
       "       -0.00423729,  0.01271186, -0.00635593, -0.01059322])"
      ]
     },
     "execution_count": 114,
     "metadata": {},
     "output_type": "execute_result"
    }
   ],
   "source": [
    "perm_imp"
   ]
  },
  {
   "cell_type": "code",
   "execution_count": 116,
   "metadata": {},
   "outputs": [
    {
     "data": {
      "image/png": "[encoded data removed]",
      "text/plain": [
       "<Figure size 864x720 with 1 Axes>"
      ]
     },
     "metadata": {},
     "output_type": "display_data"
    }
   ],
   "source": [
    "idxs = np.argsort(perm_imp)[::-1]\n",
    "plt.figure(figsize=(12, 10))\n",
    "plt.bar(range(9), perm_imp[idxs])\n",
    "plt.xticks(range(9), features[idxs]);"
   ]
  },
  {
   "cell_type": "code",
   "execution_count": 110,
   "metadata": {},
   "outputs": [
    {
     "data": {
      "text/plain": [
       "array([ 0.01059322,  0.00635593,  0.00211864,  0.00211864,  0.00211864,\n",
       "        0.00211864,  0.        , -0.00423729, -0.00847458])"
      ]
     },
     "execution_count": 110,
     "metadata": {},
     "output_type": "execute_result"
    }
   ],
   "source": [
    "np.array(perm_imp)[idxs]"
   ]
  },
  {
   "cell_type": "code",
   "execution_count": 117,
   "metadata": {},
   "outputs": [
    {
     "data": {
      "text/plain": [
       "array(['male', 'race', 'age', 'state', 'time.served', 'max.sentence',\n",
       "       'multiple.offenses', 'crime', 'random'], dtype=object)"
      ]
     },
     "execution_count": 117,
     "metadata": {},
     "output_type": "execute_result"
    }
   ],
   "source": [
    "features"
   ]
  },
  {
   "cell_type": "code",
   "execution_count": 119,
   "metadata": {},
   "outputs": [
    {
     "data": {
      "text/plain": [
       "0.844753038126532"
      ]
     },
     "execution_count": 119,
     "metadata": {},
     "output_type": "execute_result"
    }
   ],
   "source": [
    "cross_val_score(rf_clf, X_train, y_train, scoring='roc_auc', cv=kf, n_jobs=-1).mean()"
   ]
  },
  {
   "cell_type": "code",
   "execution_count": 120,
   "metadata": {},
   "outputs": [
    {
     "data": {
      "text/plain": [
       "0.7672768998070202"
      ]
     },
     "execution_count": 120,
     "metadata": {},
     "output_type": "execute_result"
    }
   ],
   "source": [
    "rf_clf = RandomForestClassifier(n_estimators=100,\n",
    "                                class_weight='balanced',\n",
    "                                random_state=1,\n",
    "                                oob_score=True)\n",
    "cross_val_score(rf_clf, X_train[:, [2, 3, 6]], y_train, scoring='roc_auc', cv=kf, n_jobs=-1).mean()"
   ]
  },
  {
   "cell_type": "code",
   "execution_count": 137,
   "metadata": {},
   "outputs": [
    {
     "data": {
      "image/png": "[encoded data removed]",
      "text/plain": [
       "<Figure size 864x576 with 1 Axes>"
      ]
     },
     "metadata": {},
     "output_type": "display_data"
    }
   ],
   "source": [
    "idxs = np.argsort(perm_imp)[::-1]\n",
    "plt.figure(figsize=(12, 8))\n",
    "plt.barh(range(9), perm_imp[idxs])\n",
    "plt.yticks(range(9), features[idxs]);"
   ]
  },
  {
   "cell_type": "code",
   "execution_count": 139,
   "metadata": {},
   "outputs": [
    {
     "data": {
      "text/plain": [
       "(49352, 6)"
      ]
     },
     "execution_count": 139,
     "metadata": {},
     "output_type": "execute_result"
    }
   ],
   "source": [
    "df = pd.read_csv('data/rent.txt')\n",
    "df.shape"
   ]
  },
  {
   "cell_type": "code",
   "execution_count": 140,
   "metadata": {
    "code_folding": [
     10,
     16
    ]
   },
   "outputs": [],
   "source": [
    "import pandas as pd\n",
    "import matplotlib.pyplot as plt\n",
    "import numpy as np\n",
    "from sklearn.ensemble import RandomForestClassifier\n",
    "from sklearn.model_selection import cross_val_score\n",
    "from sklearn.base import clone\n",
    "\n",
    "import warnings\n",
    "warnings.filterwarnings('ignore')\n",
    "\n",
    "def mkdf(columns, importances):\n",
    "    I = pd.DataFrame(data={'Feature':columns, 'Importance':importances})\n",
    "    I = I.set_index('Feature')\n",
    "    I = I.sort_values('Importance', ascending=True)\n",
    "    return I\n",
    "\n",
    "def plot_importances(df_importances, save=None, xrot=0, tickstep=3, scalefig=(1.0,1.0)):\n",
    "    \"\"\"\n",
    "    Given an array or data frame of importances, plot a horizontal bar chart\n",
    "    showing the importance values.\n",
    "    \"\"\"\n",
    "    I = df_importances\n",
    "\n",
    "    fig = plt.figure()\n",
    "    w, h = fig.get_size_inches()\n",
    "    fig.set_size_inches(w*scalefig[0], h*scalefig[1], forward=True)\n",
    "    ax = plt.gca()\n",
    "    ax.barh(np.arange(len(I.index)), I.Importance, height=.7, tick_label=I.index)\n",
    "\n",
    "    x0, x1 = ax.get_xlim()\n",
    "    y0, y1 = ax.get_ylim()\n",
    "    ax.set_aspect((x1 - x0) / (y1 - y0))\n",
    "\n",
    "    # rotate x-ticks\n",
    "    if xrot is not None:\n",
    "        plt.xticks(rotation=xrot)\n",
    "\n",
    "    # xticks freq\n",
    "    xticks = ax.get_xticks()\n",
    "    nticks = len(xticks)\n",
    "    new_ticks = xticks[np.arange(0, nticks, step=tickstep)]\n",
    "    ax.set_xticks(new_ticks)\n",
    "\n",
    "    plt.tight_layout()\n",
    "    if save:\n",
    "        plt.savefig(save, bbox_inches=\"tight\", pad_inches=0.03)\n",
    "    plt.show()"
   ]
  },
  {
   "cell_type": "code",
   "execution_count": 162,
   "metadata": {},
   "outputs": [
    {
     "data": {
      "text/html": [
       "<div>\n",
       "<style scoped>\n",
       "    .dataframe tbody tr th:only-of-type {\n",
       "        vertical-align: middle;\n",
       "    }\n",
       "\n",
       "    .dataframe tbody tr th {\n",
       "        vertical-align: top;\n",
       "    }\n",
       "\n",
       "    .dataframe thead th {\n",
       "        text-align: right;\n",
       "    }\n",
       "</style>\n",
       "<table border=\"1\" class=\"dataframe\">\n",
       "  <thead>\n",
       "    <tr style=\"text-align: right;\">\n",
       "      <th></th>\n",
       "      <th>bathrooms</th>\n",
       "      <th>bedrooms</th>\n",
       "      <th>price</th>\n",
       "      <th>longitude</th>\n",
       "      <th>latitude</th>\n",
       "      <th>interest_level</th>\n",
       "    </tr>\n",
       "  </thead>\n",
       "  <tbody>\n",
       "    <tr>\n",
       "      <th>0</th>\n",
       "      <td>1.5</td>\n",
       "      <td>3</td>\n",
       "      <td>3000</td>\n",
       "      <td>-73.9425</td>\n",
       "      <td>40.7145</td>\n",
       "      <td>2</td>\n",
       "    </tr>\n",
       "    <tr>\n",
       "      <th>1</th>\n",
       "      <td>1.0</td>\n",
       "      <td>2</td>\n",
       "      <td>5465</td>\n",
       "      <td>-73.9667</td>\n",
       "      <td>40.7947</td>\n",
       "      <td>1</td>\n",
       "    </tr>\n",
       "    <tr>\n",
       "      <th>2</th>\n",
       "      <td>1.0</td>\n",
       "      <td>1</td>\n",
       "      <td>2850</td>\n",
       "      <td>-74.0018</td>\n",
       "      <td>40.7388</td>\n",
       "      <td>3</td>\n",
       "    </tr>\n",
       "    <tr>\n",
       "      <th>3</th>\n",
       "      <td>1.0</td>\n",
       "      <td>1</td>\n",
       "      <td>3275</td>\n",
       "      <td>-73.9677</td>\n",
       "      <td>40.7539</td>\n",
       "      <td>1</td>\n",
       "    </tr>\n",
       "    <tr>\n",
       "      <th>4</th>\n",
       "      <td>1.0</td>\n",
       "      <td>4</td>\n",
       "      <td>3350</td>\n",
       "      <td>-73.9493</td>\n",
       "      <td>40.8241</td>\n",
       "      <td>1</td>\n",
       "    </tr>\n",
       "  </tbody>\n",
       "</table>\n",
       "</div>"
      ],
      "text/plain": [
       "   bathrooms  bedrooms  price  longitude  latitude  interest_level\n",
       "0        1.5         3   3000   -73.9425   40.7145               2\n",
       "1        1.0         2   5465   -73.9667   40.7947               1\n",
       "2        1.0         1   2850   -74.0018   40.7388               3\n",
       "3        1.0         1   3275   -73.9677   40.7539               1\n",
       "4        1.0         4   3350   -73.9493   40.8241               1"
      ]
     },
     "execution_count": 162,
     "metadata": {},
     "output_type": "execute_result"
    }
   ],
   "source": [
    "df = pd.read_csv(\"data/rent.txt\")\n",
    "features = ['bathrooms','bedrooms','price','longitude','latitude',\n",
    "            'interest_level']\n",
    "df = df[features].copy()\n",
    "df.to_csv(\"data/rent-numeric.csv\", index=False)\n",
    "df.head(5)"
   ]
  },
  {
   "cell_type": "code",
   "execution_count": 146,
   "metadata": {},
   "outputs": [
    {
     "name": "stdout",
     "output_type": "stream",
     "text": [
      "0.716424866266818\n"
     ]
    },
    {
     "data": {
      "image/png": "[encoded data removed]",
      "text/plain": [
       "<Figure size 432x144 with 1 Axes>"
      ]
     },
     "metadata": {},
     "output_type": "display_data"
    },
    {
     "name": "stdout",
     "output_type": "stream",
     "text": [
      "0.7132436375425515\n"
     ]
    },
    {
     "data": {
      "image/png": "[encoded data removed]",
      "text/plain": [
       "<Figure size 432x144 with 1 Axes>"
      ]
     },
     "metadata": {},
     "output_type": "display_data"
    }
   ],
   "source": [
    "base_rf = RandomForestClassifier(n_estimators=100,\n",
    "                                 min_samples_leaf=5,\n",
    "                                 n_jobs=-1,\n",
    "                                 oob_score=True)\n",
    "\n",
    "X_train, y_train = df.drop('interest_level',axis=1), df['interest_level']\n",
    "\n",
    "rf = clone(base_rf)\n",
    "rf.fit(X_train, y_train)\n",
    "print(rf.oob_score_)\n",
    "I = mkdf(X_train.columns,rf.feature_importances_)            \n",
    "plot_importances(I, scalefig=(1.0,0.5))\n",
    "\n",
    "X_train2 = X_train.copy()\n",
    "X_train2['random'] = np.random.random(size=len(X_train2))\n",
    "rf2 = clone(base_rf)\n",
    "rf2.fit(X_train2, y_train)\n",
    "print(rf2.oob_score_)\n",
    "I = mkdf(X_train2.columns,rf2.feature_importances_)\n",
    "plot_importances(I, scalefig=(1.0,0.5))"
   ]
  },
  {
   "cell_type": "code",
   "execution_count": 164,
   "metadata": {
    "code_folding": [
     4,
     22
    ]
   },
   "outputs": [],
   "source": [
    "from sklearn.ensemble.forest import _generate_unsampled_indices\n",
    "\n",
    "# TODO: add arg for subsample size to compute oob score\n",
    "\n",
    "def oob_classifier_accuracy(rf, X_train, y_train):\n",
    "    X = X_train.values\n",
    "    y = y_train.values\n",
    "\n",
    "    n_samples = len(X)\n",
    "    n_classes = len(np.unique(y))\n",
    "    predictions = np.zeros((n_samples, n_classes))\n",
    "    for tree in rf.estimators_:\n",
    "        unsampled_indices = _generate_unsampled_indices(tree.random_state, n_samples)\n",
    "        tree_preds = tree.predict_proba(X[unsampled_indices, :])\n",
    "        predictions[unsampled_indices] += tree_preds\n",
    "\n",
    "    predicted_class_indexes = np.argmax(predictions, axis=1)\n",
    "    predicted_classes = [rf.classes_[i] for i in predicted_class_indexes]\n",
    "\n",
    "    oob_score = np.mean(y == predicted_classes)\n",
    "    return oob_score\n",
    "\n",
    "def permutation_importances(rf, X_train, y_train, metric):\n",
    "    \"\"\"\n",
    "    Return importances from pre-fit rf; metric is function\n",
    "    that measures accuracy or R^2 or similar. This function\n",
    "    works for regressors and classifiers.\n",
    "    \"\"\"\n",
    "    baseline = metric(rf, X_train, y_train)\n",
    "    imp = []\n",
    "    for col in X_train.columns:\n",
    "        save = X_train[col].copy()\n",
    "        X_train[col] = np.random.permutation(X_train[col])\n",
    "        m = metric(rf, X_train, y_train)\n",
    "        X_train[col] = save\n",
    "        imp.append(baseline - m)\n",
    "    return np.array(imp)"
   ]
  },
  {
   "cell_type": "code",
   "execution_count": 165,
   "metadata": {},
   "outputs": [
    {
     "name": "stdout",
     "output_type": "stream",
     "text": [
      "oob accuracy 0.7180863997406387\n"
     ]
    },
    {
     "data": {
      "text/plain": [
       "array([0.00419436, 0.09559896, 0.14232453, 0.03242017, 0.03355487])"
      ]
     },
     "execution_count": 165,
     "metadata": {},
     "output_type": "execute_result"
    }
   ],
   "source": [
    "X_train, y_train = df.drop('interest_level',axis=1), df['interest_level']\n",
    "rf = clone(base_rf)\n",
    "rf.fit(X_train, y_train)\n",
    "oob = oob_classifier_accuracy(rf, X_train, y_train)\n",
    "print(\"oob accuracy\",oob)\n",
    "\n",
    "imp = permutation_importances(rf, X_train, y_train,\n",
    "                              oob_classifier_accuracy)\n",
    "imp"
   ]
  },
  {
   "cell_type": "code",
   "execution_count": 149,
   "metadata": {},
   "outputs": [
    {
     "name": "stdout",
     "output_type": "stream",
     "text": [
      "oob accuracy 0.7171543199870319\n"
     ]
    },
    {
     "data": {
      "image/png": "[encoded data removed]",
      "text/plain": [
       "<Figure size 432x144 with 1 Axes>"
      ]
     },
     "metadata": {},
     "output_type": "display_data"
    },
    {
     "data": {
      "image/png": "[encoded data removed]",
      "text/plain": [
       "<Figure size 432x144 with 1 Axes>"
      ]
     },
     "metadata": {},
     "output_type": "display_data"
    }
   ],
   "source": [
    "I = mkdf(X_train.columns,imp)\n",
    "plot_importances(I, scalefig=(1.0,0.5))\n",
    "\n",
    "X_train2 = X_train.copy()\n",
    "X_train2['random'] = np.random.random(size=len(X_train))\n",
    "rf2 = clone(base_rf)\n",
    "rf2.fit(X_train2, y_train)\n",
    "\n",
    "imp = permutation_importances(rf2, X_train2, y_train,\n",
    "                            oob_classifier_accuracy)\n",
    "I = mkdf(X_train2.columns,imp)\n",
    "plot_importances(I, scalefig=(1.0,0.5))"
   ]
  },
  {
   "cell_type": "code",
   "execution_count": 169,
   "metadata": {},
   "outputs": [],
   "source": [
    "def oob_accuracy(rf_clf, X_train, y_train):\n",
    "    n_samples = X_train.shape[0]\n",
    "    n_classes = len(np.bincount(y_train))\n",
    "    preds_matrix = np.zeros((n_samples, n_classes))\n",
    "    \n",
    "    # Iterate over all trees\n",
    "    for tree in rf_clf.estimators_:\n",
    "        # Generate unsampled indices\n",
    "        unsampled_idxs = _generate_unsampled_indices(tree.random_state, n_samples)\n",
    "        preds = tree.predict_proba(X_train[unsampled_idxs, :])\n",
    "        preds_matrix[unsampled_idxs, :] += preds\n",
    "    \n",
    "    preds_classes = np.argmax(preds_matrix, axis=1)\n",
    "    oob_score = (y_train == preds_classes).mean()\n",
    "    return oob_score\n",
    "\n",
    "def permutation_importances(rf_clf, X_train, y_train, scorer):\n",
    "    feat_imp = []\n",
    "    baseline_score = scorer(rf_clf, X_train, y_train)\n",
    "    for j in range(X_train.shape[1]):\n",
    "        temp = X_train[:, j].copy()\n",
    "        X_train[:, j] = np.random.permutation(X_train[:, j])\n",
    "        score = scorer(rf_clf, X_train, y_train)\n",
    "        feat_imp.append(baseline_score - score)\n",
    "        X_train[:, j] = temp\n",
    "    return np.array(feat_imp)"
   ]
  },
  {
   "cell_type": "code",
   "execution_count": 170,
   "metadata": {},
   "outputs": [
    {
     "name": "stdout",
     "output_type": "stream",
     "text": [
      "Shape : (49352, 5), (49352,)\n"
     ]
    }
   ],
   "source": [
    "# Convert to numpy\n",
    "X_train = df.drop(['interest_level'], axis=1).values\n",
    "y_train = df['interest_level'].values\n",
    "y_train = pd.Series(y_train).map({1: 0, 2: 1, 3: 2}).values\n",
    "print(f'Shape : {X_train.shape}, {y_train.shape}')"
   ]
  },
  {
   "cell_type": "code",
   "execution_count": 171,
   "metadata": {},
   "outputs": [
    {
     "name": "stdout",
     "output_type": "stream",
     "text": [
      "oob accuracy 0.7177824606905495\n"
     ]
    }
   ],
   "source": [
    "base_rf = RandomForestClassifier(n_estimators=100,\n",
    "                                 min_samples_leaf=5,\n",
    "                                 n_jobs=-1,\n",
    "                                 oob_score=True)\n",
    "rf_clf = clone(base_rf)\n",
    "rf_clf.fit(X_train, y_train)\n",
    "oob = oob_accuracy(rf_clf, X_train, y_train)\n",
    "print(\"oob accuracy\",oob)\n",
    "\n",
    "imp = permutation_importances(rf_clf, X_train, y_train,\n",
    "                              oob_accuracy)"
   ]
  },
  {
   "cell_type": "code",
   "execution_count": 172,
   "metadata": {},
   "outputs": [
    {
     "data": {
      "text/plain": [
       "array([0.00382963, 0.10165748, 0.14175717, 0.03363592, 0.03250122])"
      ]
     },
     "execution_count": 172,
     "metadata": {},
     "output_type": "execute_result"
    }
   ],
   "source": [
    "imp"
   ]
  },
  {
   "cell_type": "code",
   "execution_count": 156,
   "metadata": {},
   "outputs": [
    {
     "data": {
      "text/plain": [
       "array([0, 1, 2])"
      ]
     },
     "execution_count": 156,
     "metadata": {},
     "output_type": "execute_result"
    }
   ],
   "source": [
    "np.unique(pd.Series(y_train).map({1: 0, 2: 1, 3: 2}))"
   ]
  },
  {
   "cell_type": "code",
   "execution_count": 180,
   "metadata": {},
   "outputs": [
    {
     "data": {
      "image/png": "[encoded data removed]",
      "text/plain": [
       "<Figure size 864x576 with 1 Axes>"
      ]
     },
     "metadata": {},
     "output_type": "display_data"
    }
   ],
   "source": [
    "idxs = np.argsort(imp)\n",
    "plt.figure(figsize=(12, 8))\n",
    "plt.barh(range(5), imp[idxs])\n",
    "plt.yticks(range(5), df.columns[:-1][idxs]);"
   ]
  },
  {
   "cell_type": "code",
   "execution_count": null,
   "metadata": {},
   "outputs": [],
   "source": []
  }
 ],
 "metadata": {
  "kernelspec": {
   "display_name": "Python 3",
   "language": "python",
   "name": "python3"
  },
  "language_info": {
   "codemirror_mode": {
    "name": "ipython",
    "version": 3
   },
   "file_extension": ".py",
   "mimetype": "text/x-python",
   "name": "python",
   "nbconvert_exporter": "python",
   "pygments_lexer": "ipython3",
   "version": "3.6.5"
  }
 },
 "nbformat": 4,
 "nbformat_minor": 2
}
