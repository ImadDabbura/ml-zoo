{
 "cells": [
  {
   "cell_type": "markdown",
   "metadata": {},
   "source": [
    "# Imports"
   ]
  },
  {
   "cell_type": "code",
   "execution_count": 38,
   "metadata": {},
   "outputs": [],
   "source": [
    "from pathlib import Path\n",
    "\n",
    "import feather\n",
    "import joblib\n",
    "import matplotlib.pyplot as plt\n",
    "import numpy as np\n",
    "import pandas as pd\n",
    "from keras.preprocessing.text import Tokenizer\n",
    "from keras.preprocessing.sequence import pad_sequences\n",
    "from sklearn.compose import ColumnTransformer\n",
    "from sklearn.impute import SimpleImputer\n",
    "from sklearn.preprocessing import RobustScaler\n",
    "from sklearn.pipeline import Pipeline\n",
    "\n",
    "import utils"
   ]
  },
  {
   "cell_type": "markdown",
   "metadata": {},
   "source": [
    "# Load Data"
   ]
  },
  {
   "cell_type": "code",
   "execution_count": 2,
   "metadata": {},
   "outputs": [],
   "source": [
    "PATH = Path('data/processed/')"
   ]
  },
  {
   "cell_type": "code",
   "execution_count": 3,
   "metadata": {},
   "outputs": [
    {
     "name": "stdout",
     "output_type": "stream",
     "text": [
      "feature-matrix-stage1  train_num              valid_seq\r\n",
      "feature-matrix-stage2  train_seq\r\n",
      "labels-dummies         valid_num\r\n"
     ]
    }
   ],
   "source": [
    "%ls {PATH}"
   ]
  },
  {
   "cell_type": "code",
   "execution_count": 4,
   "metadata": {},
   "outputs": [
    {
     "data": {
      "text/html": [
       "<div>\n",
       "<style scoped>\n",
       "    .dataframe tbody tr th:only-of-type {\n",
       "        vertical-align: middle;\n",
       "    }\n",
       "\n",
       "    .dataframe tbody tr th {\n",
       "        vertical-align: top;\n",
       "    }\n",
       "\n",
       "    .dataframe thead th {\n",
       "        text-align: right;\n",
       "    }\n",
       "</style>\n",
       "<table border=\"1\" class=\"dataframe\">\n",
       "  <thead>\n",
       "    <tr style=\"text-align: right;\">\n",
       "      <th></th>\n",
       "      <th>FTE</th>\n",
       "      <th>Total</th>\n",
       "      <th>text</th>\n",
       "    </tr>\n",
       "    <tr>\n",
       "      <th></th>\n",
       "      <th></th>\n",
       "      <th></th>\n",
       "      <th></th>\n",
       "    </tr>\n",
       "  </thead>\n",
       "  <tbody>\n",
       "    <tr>\n",
       "      <th>134338</th>\n",
       "      <td>1.0</td>\n",
       "      <td>50471.810</td>\n",
       "      <td>General Fund Teacher-Elementary    KINDERGAR...</td>\n",
       "    </tr>\n",
       "    <tr>\n",
       "      <th>206341</th>\n",
       "      <td>NaN</td>\n",
       "      <td>3477.860</td>\n",
       "      <td>RGN  GOB  (blank)  CONTRACTOR SERVICES UNDESI...</td>\n",
       "    </tr>\n",
       "    <tr>\n",
       "      <th>326408</th>\n",
       "      <td>1.0</td>\n",
       "      <td>62237.130</td>\n",
       "      <td>General Purpose School TCHER 2ND GRADE  Pers...</td>\n",
       "    </tr>\n",
       "    <tr>\n",
       "      <th>364634</th>\n",
       "      <td>NaN</td>\n",
       "      <td>22.300</td>\n",
       "      <td>UNALLOC BUDGETS/SCHOOLS  Teacher, Short Term ...</td>\n",
       "    </tr>\n",
       "    <tr>\n",
       "      <th>47683</th>\n",
       "      <td>NaN</td>\n",
       "      <td>54.166</td>\n",
       "      <td>NON-PROJECT  Teacher, Secondary (High)   TEAC...</td>\n",
       "    </tr>\n",
       "  </tbody>\n",
       "</table>\n",
       "</div>"
      ],
      "text/plain": [
       "        FTE      Total                                               text\n",
       "                                                                         \n",
       "134338  1.0  50471.810    General Fund Teacher-Elementary    KINDERGAR...\n",
       "206341  NaN   3477.860   RGN  GOB  (blank)  CONTRACTOR SERVICES UNDESI...\n",
       "326408  1.0  62237.130    General Purpose School TCHER 2ND GRADE  Pers...\n",
       "364634  NaN     22.300   UNALLOC BUDGETS/SCHOOLS  Teacher, Short Term ...\n",
       "47683   NaN     54.166   NON-PROJECT  Teacher, Secondary (High)   TEAC..."
      ]
     },
     "execution_count": 4,
     "metadata": {},
     "output_type": "execute_result"
    }
   ],
   "source": [
    "X = feather.read_dataframe(PATH / 'feature-matrix-stage2').set_index('index')\n",
    "X.index.name = ''\n",
    "y = feather.read_dataframe(PATH / 'labels-dummies').set_index('index')\n",
    "X.index.name = ''\n",
    "X.head()"
   ]
  },
  {
   "cell_type": "code",
   "execution_count": 5,
   "metadata": {},
   "outputs": [
    {
     "data": {
      "text/html": [
       "<div>\n",
       "<style scoped>\n",
       "    .dataframe tbody tr th:only-of-type {\n",
       "        vertical-align: middle;\n",
       "    }\n",
       "\n",
       "    .dataframe tbody tr th {\n",
       "        vertical-align: top;\n",
       "    }\n",
       "\n",
       "    .dataframe thead th {\n",
       "        text-align: right;\n",
       "    }\n",
       "</style>\n",
       "<table border=\"1\" class=\"dataframe\">\n",
       "  <thead>\n",
       "    <tr style=\"text-align: right;\">\n",
       "      <th></th>\n",
       "      <th>Function__Aides Compensation</th>\n",
       "      <th>Function__Career &amp; Academic Counseling</th>\n",
       "      <th>Function__Communications</th>\n",
       "      <th>Function__Curriculum Development</th>\n",
       "      <th>Function__Data Processing &amp; Information Services</th>\n",
       "      <th>Function__Development &amp; Fundraising</th>\n",
       "      <th>Function__Enrichment</th>\n",
       "      <th>Function__Extended Time &amp; Tutoring</th>\n",
       "      <th>Function__Facilities &amp; Maintenance</th>\n",
       "      <th>Function__Facilities Planning</th>\n",
       "      <th>...</th>\n",
       "      <th>Student_Type__Special Education</th>\n",
       "      <th>Student_Type__Unspecified</th>\n",
       "      <th>Use__Business Services</th>\n",
       "      <th>Use__ISPD</th>\n",
       "      <th>Use__Instruction</th>\n",
       "      <th>Use__Leadership</th>\n",
       "      <th>Use__NO_LABEL</th>\n",
       "      <th>Use__O&amp;M</th>\n",
       "      <th>Use__Pupil Services &amp; Enrichment</th>\n",
       "      <th>Use__Untracked Budget Set-Aside</th>\n",
       "    </tr>\n",
       "    <tr>\n",
       "      <th>index</th>\n",
       "      <th></th>\n",
       "      <th></th>\n",
       "      <th></th>\n",
       "      <th></th>\n",
       "      <th></th>\n",
       "      <th></th>\n",
       "      <th></th>\n",
       "      <th></th>\n",
       "      <th></th>\n",
       "      <th></th>\n",
       "      <th></th>\n",
       "      <th></th>\n",
       "      <th></th>\n",
       "      <th></th>\n",
       "      <th></th>\n",
       "      <th></th>\n",
       "      <th></th>\n",
       "      <th></th>\n",
       "      <th></th>\n",
       "      <th></th>\n",
       "      <th></th>\n",
       "    </tr>\n",
       "  </thead>\n",
       "  <tbody>\n",
       "    <tr>\n",
       "      <th>134338</th>\n",
       "      <td>0</td>\n",
       "      <td>0</td>\n",
       "      <td>0</td>\n",
       "      <td>0</td>\n",
       "      <td>0</td>\n",
       "      <td>0</td>\n",
       "      <td>0</td>\n",
       "      <td>0</td>\n",
       "      <td>0</td>\n",
       "      <td>0</td>\n",
       "      <td>...</td>\n",
       "      <td>0</td>\n",
       "      <td>0</td>\n",
       "      <td>0</td>\n",
       "      <td>0</td>\n",
       "      <td>1</td>\n",
       "      <td>0</td>\n",
       "      <td>0</td>\n",
       "      <td>0</td>\n",
       "      <td>0</td>\n",
       "      <td>0</td>\n",
       "    </tr>\n",
       "    <tr>\n",
       "      <th>206341</th>\n",
       "      <td>0</td>\n",
       "      <td>0</td>\n",
       "      <td>0</td>\n",
       "      <td>0</td>\n",
       "      <td>0</td>\n",
       "      <td>0</td>\n",
       "      <td>0</td>\n",
       "      <td>0</td>\n",
       "      <td>0</td>\n",
       "      <td>0</td>\n",
       "      <td>...</td>\n",
       "      <td>0</td>\n",
       "      <td>0</td>\n",
       "      <td>0</td>\n",
       "      <td>0</td>\n",
       "      <td>0</td>\n",
       "      <td>0</td>\n",
       "      <td>1</td>\n",
       "      <td>0</td>\n",
       "      <td>0</td>\n",
       "      <td>0</td>\n",
       "    </tr>\n",
       "    <tr>\n",
       "      <th>326408</th>\n",
       "      <td>0</td>\n",
       "      <td>0</td>\n",
       "      <td>0</td>\n",
       "      <td>0</td>\n",
       "      <td>0</td>\n",
       "      <td>0</td>\n",
       "      <td>0</td>\n",
       "      <td>0</td>\n",
       "      <td>0</td>\n",
       "      <td>0</td>\n",
       "      <td>...</td>\n",
       "      <td>0</td>\n",
       "      <td>1</td>\n",
       "      <td>0</td>\n",
       "      <td>0</td>\n",
       "      <td>1</td>\n",
       "      <td>0</td>\n",
       "      <td>0</td>\n",
       "      <td>0</td>\n",
       "      <td>0</td>\n",
       "      <td>0</td>\n",
       "    </tr>\n",
       "    <tr>\n",
       "      <th>364634</th>\n",
       "      <td>0</td>\n",
       "      <td>0</td>\n",
       "      <td>0</td>\n",
       "      <td>0</td>\n",
       "      <td>0</td>\n",
       "      <td>0</td>\n",
       "      <td>0</td>\n",
       "      <td>0</td>\n",
       "      <td>0</td>\n",
       "      <td>0</td>\n",
       "      <td>...</td>\n",
       "      <td>0</td>\n",
       "      <td>1</td>\n",
       "      <td>0</td>\n",
       "      <td>0</td>\n",
       "      <td>1</td>\n",
       "      <td>0</td>\n",
       "      <td>0</td>\n",
       "      <td>0</td>\n",
       "      <td>0</td>\n",
       "      <td>0</td>\n",
       "    </tr>\n",
       "    <tr>\n",
       "      <th>47683</th>\n",
       "      <td>0</td>\n",
       "      <td>0</td>\n",
       "      <td>0</td>\n",
       "      <td>0</td>\n",
       "      <td>0</td>\n",
       "      <td>0</td>\n",
       "      <td>0</td>\n",
       "      <td>0</td>\n",
       "      <td>0</td>\n",
       "      <td>0</td>\n",
       "      <td>...</td>\n",
       "      <td>0</td>\n",
       "      <td>1</td>\n",
       "      <td>0</td>\n",
       "      <td>0</td>\n",
       "      <td>1</td>\n",
       "      <td>0</td>\n",
       "      <td>0</td>\n",
       "      <td>0</td>\n",
       "      <td>0</td>\n",
       "      <td>0</td>\n",
       "    </tr>\n",
       "  </tbody>\n",
       "</table>\n",
       "<p>5 rows × 104 columns</p>\n",
       "</div>"
      ],
      "text/plain": [
       "        Function__Aides Compensation  Function__Career & Academic Counseling  \\\n",
       "index                                                                          \n",
       "134338                             0                                       0   \n",
       "206341                             0                                       0   \n",
       "326408                             0                                       0   \n",
       "364634                             0                                       0   \n",
       "47683                              0                                       0   \n",
       "\n",
       "        Function__Communications  Function__Curriculum Development  \\\n",
       "index                                                                \n",
       "134338                         0                                 0   \n",
       "206341                         0                                 0   \n",
       "326408                         0                                 0   \n",
       "364634                         0                                 0   \n",
       "47683                          0                                 0   \n",
       "\n",
       "        Function__Data Processing & Information Services  \\\n",
       "index                                                      \n",
       "134338                                                 0   \n",
       "206341                                                 0   \n",
       "326408                                                 0   \n",
       "364634                                                 0   \n",
       "47683                                                  0   \n",
       "\n",
       "        Function__Development & Fundraising  Function__Enrichment  \\\n",
       "index                                                               \n",
       "134338                                    0                     0   \n",
       "206341                                    0                     0   \n",
       "326408                                    0                     0   \n",
       "364634                                    0                     0   \n",
       "47683                                     0                     0   \n",
       "\n",
       "        Function__Extended Time & Tutoring  \\\n",
       "index                                        \n",
       "134338                                   0   \n",
       "206341                                   0   \n",
       "326408                                   0   \n",
       "364634                                   0   \n",
       "47683                                    0   \n",
       "\n",
       "        Function__Facilities & Maintenance  Function__Facilities Planning  \\\n",
       "index                                                                       \n",
       "134338                                   0                              0   \n",
       "206341                                   0                              0   \n",
       "326408                                   0                              0   \n",
       "364634                                   0                              0   \n",
       "47683                                    0                              0   \n",
       "\n",
       "                     ...                 Student_Type__Special Education  \\\n",
       "index                ...                                                   \n",
       "134338               ...                                               0   \n",
       "206341               ...                                               0   \n",
       "326408               ...                                               0   \n",
       "364634               ...                                               0   \n",
       "47683                ...                                               0   \n",
       "\n",
       "        Student_Type__Unspecified  Use__Business Services  Use__ISPD  \\\n",
       "index                                                                  \n",
       "134338                          0                       0          0   \n",
       "206341                          0                       0          0   \n",
       "326408                          1                       0          0   \n",
       "364634                          1                       0          0   \n",
       "47683                           1                       0          0   \n",
       "\n",
       "        Use__Instruction  Use__Leadership  Use__NO_LABEL  Use__O&M  \\\n",
       "index                                                                \n",
       "134338                 1                0              0         0   \n",
       "206341                 0                0              1         0   \n",
       "326408                 1                0              0         0   \n",
       "364634                 1                0              0         0   \n",
       "47683                  1                0              0         0   \n",
       "\n",
       "        Use__Pupil Services & Enrichment  Use__Untracked Budget Set-Aside  \n",
       "index                                                                      \n",
       "134338                                 0                                0  \n",
       "206341                                 0                                0  \n",
       "326408                                 0                                0  \n",
       "364634                                 0                                0  \n",
       "47683                                  0                                0  \n",
       "\n",
       "[5 rows x 104 columns]"
      ]
     },
     "execution_count": 5,
     "metadata": {},
     "output_type": "execute_result"
    }
   ],
   "source": [
    "y.head()"
   ]
  },
  {
   "cell_type": "code",
   "execution_count": 6,
   "metadata": {
    "code_folding": [
     0
    ]
   },
   "outputs": [],
   "source": [
    "# Name of original features\n",
    "FEATURES = [\n",
    "    'FTE', 'Facility_or_Department', 'Function_Description', 'Fund_Description',\n",
    "    'Job_Title_Description', 'Location_Description', 'Object_Description',\n",
    "    'Position_Extra', 'Program_Description', 'SubFund_Description',\n",
    "    'Sub_Object_Description', 'Text_1', 'Text_2', 'Text_3', 'Text_4', 'Total'\n",
    "]\n",
    "\n",
    "NUMERICAL_FEATURES = [\n",
    "    'FTE', 'Total'\n",
    "]\n",
    "\n",
    "TEXT_FEATURES = [\n",
    "    'Facility_or_Department', 'Function_Description', 'Fund_Description',\n",
    "    'Job_Title_Description', 'Location_Description', 'Object_Description',\n",
    "    'Position_Extra', 'Program_Description', 'SubFund_Description',\n",
    "    'Sub_Object_Description', 'Text_1', 'Text_2', 'Text_3', 'Text_4',\n",
    "]\n",
    "LABELS = [\n",
    "    'Function', 'Object_Type', 'Operating_Status', 'Position_Type',\n",
    "    'Pre_K', 'Reporting', 'Sharing', 'Student_Type', 'Use'\n",
    "]"
   ]
  },
  {
   "cell_type": "code",
   "execution_count": 7,
   "metadata": {},
   "outputs": [
    {
     "data": {
      "text/plain": [
       "True"
      ]
     },
     "execution_count": 7,
     "metadata": {},
     "output_type": "execute_result"
    }
   ],
   "source": [
    "(X.index == y.index).all()"
   ]
  },
  {
   "cell_type": "code",
   "execution_count": 8,
   "metadata": {},
   "outputs": [],
   "source": [
    "X_train, X_valid, y_train, y_valid = utils.multilabel_train_test_split(X, y, size=0.1, min_count=14)"
   ]
  },
  {
   "cell_type": "code",
   "execution_count": 9,
   "metadata": {},
   "outputs": [
    {
     "data": {
      "text/plain": [
       "((360250, 3), (40027, 3))"
      ]
     },
     "execution_count": 9,
     "metadata": {},
     "output_type": "execute_result"
    }
   ],
   "source": [
    "X_train.shape, X_valid.shape"
   ]
  },
  {
   "cell_type": "markdown",
   "metadata": {},
   "source": [
    "# Tokenization"
   ]
  },
  {
   "cell_type": "code",
   "execution_count": 10,
   "metadata": {},
   "outputs": [],
   "source": [
    "MAX_LEN = 200"
   ]
  },
  {
   "cell_type": "code",
   "execution_count": 11,
   "metadata": {},
   "outputs": [],
   "source": [
    "# Create and fit tokenizer to texts\n",
    "tokenizer = Tokenizer()               # Will use all words\n",
    "tokenizer.fit_on_texts(X_train.text.values)\n",
    "\n",
    "train_seq = tokenizer.texts_to_sequences(X_train.text.values)\n",
    "train_seq = pad_sequences(train_seq, MAX_LEN)\n",
    "\n",
    "valid_seq = tokenizer.texts_to_sequences(X_valid.text.values)\n",
    "valid_seq = pad_sequences(valid_seq, MAX_LEN)"
   ]
  },
  {
   "cell_type": "code",
   "execution_count": 12,
   "metadata": {},
   "outputs": [
    {
     "data": {
      "text/plain": [
       "((360250, 200), (40027, 200))"
      ]
     },
     "execution_count": 12,
     "metadata": {},
     "output_type": "execute_result"
    }
   ],
   "source": [
    "train_seq.shape, valid_seq.shape"
   ]
  },
  {
   "cell_type": "code",
   "execution_count": 13,
   "metadata": {},
   "outputs": [
    {
     "name": "stdout",
     "output_type": "stream",
     "text": [
      "Vocab size : 3720\n"
     ]
    }
   ],
   "source": [
    "print(f'Vocab size : {len(tokenizer.word_index)}')"
   ]
  },
  {
   "cell_type": "code",
   "execution_count": 44,
   "metadata": {},
   "outputs": [],
   "source": [
    "pip_transformer = Pipeline([\n",
    "    ('imputer', SimpleImputer(strategy='median')),\n",
    "    ('std', RobustScaler())\n",
    "])"
   ]
  },
  {
   "cell_type": "code",
   "execution_count": 45,
   "metadata": {},
   "outputs": [],
   "source": [
    "train_num = pip_transformer.fit_transform(X_train[NUMERICAL_FEATURES].values)\n",
    "valid_num = pip_transformer.transform(X_valid[NUMERICAL_FEATURES].values)"
   ]
  },
  {
   "cell_type": "code",
   "execution_count": null,
   "metadata": {},
   "outputs": [],
   "source": [
    "joblib.dump(train_seq, PATH / 'train_seq')\n",
    "joblib.dump(valid_seq, PATH / 'valid_seq')"
   ]
  },
  {
   "cell_type": "code",
   "execution_count": 46,
   "metadata": {},
   "outputs": [
    {
     "data": {
      "text/plain": [
       "['data/processed/valid_num']"
      ]
     },
     "execution_count": 46,
     "metadata": {},
     "output_type": "execute_result"
    }
   ],
   "source": [
    "joblib.dump(train_num, PATH / 'train_num')\n",
    "joblib.dump(valid_num, PATH / 'valid_num')"
   ]
  },
  {
   "cell_type": "code",
   "execution_count": 54,
   "metadata": {},
   "outputs": [
    {
     "data": {
      "text/plain": [
       "['pip_transformer']"
      ]
     },
     "execution_count": 54,
     "metadata": {},
     "output_type": "execute_result"
    }
   ],
   "source": [
    "joblib.dump(pip_transformer, 'pip_transformer')"
   ]
  },
  {
   "cell_type": "code",
   "execution_count": 30,
   "metadata": {},
   "outputs": [
    {
     "data": {
      "text/plain": [
       "['tokenizer']"
      ]
     },
     "execution_count": 30,
     "metadata": {},
     "output_type": "execute_result"
    }
   ],
   "source": [
    "joblib.dump(tokenizer, 'tokenizer')"
   ]
  },
  {
   "cell_type": "code",
   "execution_count": 31,
   "metadata": {},
   "outputs": [
    {
     "data": {
      "text/plain": [
       "['data/processed/y_valid']"
      ]
     },
     "execution_count": 31,
     "metadata": {},
     "output_type": "execute_result"
    }
   ],
   "source": [
    "joblib.dump(y_train, PATH / 'y_train')\n",
    "joblib.dump(y_valid, PATH / 'y_valid')"
   ]
  },
  {
   "cell_type": "code",
   "execution_count": 32,
   "metadata": {},
   "outputs": [
    {
     "data": {
      "text/plain": [
       "(360250, 4)"
      ]
     },
     "execution_count": 32,
     "metadata": {},
     "output_type": "execute_result"
    }
   ],
   "source": [
    "train_num.shape"
   ]
  },
  {
   "cell_type": "code",
   "execution_count": 35,
   "metadata": {},
   "outputs": [
    {
     "data": {
      "text/plain": [
       "(360250, 2)"
      ]
     },
     "execution_count": 35,
     "metadata": {},
     "output_type": "execute_result"
    }
   ],
   "source": [
    "X_train[NUMERICAL_FEATURES].shape"
   ]
  },
  {
   "cell_type": "code",
   "execution_count": 36,
   "metadata": {},
   "outputs": [
    {
     "data": {
      "text/plain": [
       "array([[ 0.00000000e+00,  1.41579900e+02, -1.32355421e-01,\n",
       "        -8.90222791e-02],\n",
       "       [ 0.00000000e+00,  1.16676000e+03, -1.32355421e-01,\n",
       "         1.96239623e-01],\n",
       "       [ 1.00000000e+00,  3.36685374e+04,  8.68445216e-01,\n",
       "         9.24003480e+00],\n",
       "       ...,\n",
       "       [ 1.32249537e-01,  8.71930000e+02,             nan,\n",
       "         1.14201583e-01],\n",
       "       [ 1.32249537e-01,  5.65154700e+04,             nan,\n",
       "         1.55973173e+01],\n",
       "       [ 1.32249537e-01,  5.21624000e+03,             nan,\n",
       "         1.32302932e+00]])"
      ]
     },
     "execution_count": 36,
     "metadata": {},
     "output_type": "execute_result"
    }
   ],
   "source": [
    "col_transformer.transform(X_train[NUMERICAL_FEATURES].values)"
   ]
  },
  {
   "cell_type": "code",
   "execution_count": 37,
   "metadata": {},
   "outputs": [
    {
     "data": {
      "text/plain": [
       "array([[0.00000000e+00, 1.41579900e+02],\n",
       "       [0.00000000e+00, 1.16676000e+03],\n",
       "       [1.00000000e+00, 3.36685374e+04],\n",
       "       ...,\n",
       "       [           nan, 8.71930000e+02],\n",
       "       [           nan, 5.65154700e+04],\n",
       "       [           nan, 5.21624000e+03]])"
      ]
     },
     "execution_count": 37,
     "metadata": {},
     "output_type": "execute_result"
    }
   ],
   "source": [
    "X_train[NUMERICAL_FEATURES].values"
   ]
  }
 ],
 "metadata": {
  "kernelspec": {
   "display_name": "Python 3",
   "language": "python",
   "name": "python3"
  },
  "language_info": {
   "codemirror_mode": {
    "name": "ipython",
    "version": 3
   },
   "file_extension": ".py",
   "mimetype": "text/x-python",
   "name": "python",
   "nbconvert_exporter": "python",
   "pygments_lexer": "ipython3",
   "version": "3.6.5"
  },
  "toc": {
   "base_numbering": 1,
   "nav_menu": {},
   "number_sections": true,
   "sideBar": true,
   "skip_h1_title": false,
   "title_cell": "Table of Contents",
   "title_sidebar": "Contents",
   "toc_cell": false,
   "toc_position": {},
   "toc_section_display": true,
   "toc_window_display": false
  }
 },
 "nbformat": 4,
 "nbformat_minor": 2
}
