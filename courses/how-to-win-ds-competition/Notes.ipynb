{
 "cells": [
  {
   "cell_type": "markdown",
   "metadata": {
    "collapsed": "true"
   },
   "source": [
    "# Feature Preprocessing & Generation"
   ]
  },
  {
   "cell_type": "markdown",
   "metadata": {
    "hidden": true
   },
   "source": [
    "Feature preprocessing and generation depends on the type model we are using. For example, tree-based models require/behave differently than non-tree-based models (such as linear models, NN, and KNN) so we may change the preprocessing/generation of features given the type of the model we are working with.For example, we don't use one-hot encoding with decision trees but it is required with linear models."
   ]
  },
  {
   "cell_type": "markdown",
   "metadata": {
    "heading_collapsed": true,
    "hidden": true
   },
   "source": [
    "## Numerical Features"
   ]
  },
  {
   "cell_type": "markdown",
   "metadata": {
    "collapsed": "true",
    "heading_collapsed": true,
    "hidden": true
   },
   "source": [
    "### Feature Preprocessing"
   ]
  },
  {
   "cell_type": "markdown",
   "metadata": {
    "hidden": true
   },
   "source": [
    "1. Scaling:\n",
    "    - Tree-based models are not affected by the scale of the features because the decision tree uses rank of the feature to find the best split and doesn't care about the scale of the features.\n",
    "    - Non-tree-based models suffer from features that have different scaling especially models that use gradient descent and distance metrics. Also, regularization proportionally affected by scaling.\n",
    "\n",
    "Therefore, scaling is required for non-tree-based models.\n",
    "\n",
    "Note that there are many ways to scale features and they have different effects on the performance of the model.\n",
    "- Min-Max scaler = $\\frac{(X - min(X))}{(max(X) - min(X)}$. This will make the feature have the values [0,1]. This method; however, does not change the distribution of the values.\n",
    "- Standardization = $\\frac{(X - mean(X)}{std(X)}$. This will result in change in the distribution of the data to have mean = 0 and standard deviation = 1.\n",
    "\n",
    "2. Outliers:\n",
    "    - Outliers can be in features or target values. Outliers affect mainly non-tree-based models especially NN and linear models. It either changes the coefficient of that feature or shift the line up/down to get closer to the outliers.\n",
    "    - We can solve the issue of outliers by clipping the values of features to be either between 1th and 99th percentile or 5th and 95th percentile. We can remove rows that have huge values to get stable predictions.\n",
    "    - `Rank` the feature can help us solve for outliers and bringing the outliers closer to other values and make the values have equal distance from each other. It first sorts the values and then replace each value by its rank. This is crucial for non-tree-based models especially if we don't have time to work on outliers. We can use scipy.rankdata.\n",
    "    - Note that outliers affect the scaling of features.\n",
    "\n",
    "3. Transformation:\n",
    "    - Such as log(1 + x) or sqrt(x + 2/3).\n",
    "    - This will make outliers close to the average value and values close to zero more distinguishable. NN get better results with such transformations."
   ]
  },
  {
   "cell_type": "markdown",
   "metadata": {
    "collapsed": "true",
    "heading_collapsed": true,
    "hidden": true
   },
   "source": [
    "### Feature Generation"
   ]
  },
  {
   "cell_type": "markdown",
   "metadata": {
    "hidden": true
   },
   "source": [
    "It helps with all types of models even with tree-based models such as GBDT since it finds difficulty with multiplications and devisions. It requires prior knowledge and also EDA."
   ]
  },
  {
   "cell_type": "markdown",
   "metadata": {
    "collapsed": "true",
    "heading_collapsed": true,
    "hidden": true
   },
   "source": [
    "## Categorical Features"
   ]
  },
  {
   "cell_type": "markdown",
   "metadata": {
    "hidden": true
   },
   "source": [
    "We have two kinds of categorical features: Ordinal and Nominal.\n",
    "1. Ordinal:\n",
    "    - There is a meaning in the order of the categories such as small < big.\n",
    "2. Nominal:\n",
    "    - There is no order in the categories such as colors.\n",
    "3. Methods:\n",
    "    - LabelEncoding and FrequencyEncoding are helpful for tree-based models.\n",
    "    - OneHotEncoding is often used for non-tree-based models.\n",
    "    - Interactions of categorical features can help linear models and KNN."
   ]
  },
  {
   "cell_type": "markdown",
   "metadata": {
    "collapsed": "true",
    "heading_collapsed": true,
    "hidden": true
   },
   "source": [
    "## Datetime Features"
   ]
  },
  {
   "cell_type": "markdown",
   "metadata": {
    "hidden": true
   },
   "source": [
    "1. Periodicity:\n",
    "    - Day number in week, month, year, etc.\n",
    "    - It is helpful to figure out patterns in the data such as spikes on given days.\n",
    "2. Time since:\n",
    "    - Last holiday, event, etc.\n",
    "    - Row-independent moments such as days since something happened.\n",
    "    - Row-dependent moments such as days until next holiday or days past after last holiday.\n",
    "3. Difference between dates:\n",
    "    - Take the difference between dates."
   ]
  },
  {
   "cell_type": "markdown",
   "metadata": {
    "collapsed": "true",
    "heading_collapsed": true,
    "hidden": true
   },
   "source": [
    "## Coordinates"
   ]
  },
  {
   "cell_type": "markdown",
   "metadata": {
    "hidden": true
   },
   "source": [
    "- Interesting places in train/test data.\n",
    "- Center of clusters.\n",
    "- Aggregated statistics."
   ]
  },
  {
   "cell_type": "markdown",
   "metadata": {
    "collapsed": "true",
    "heading_collapsed": true,
    "hidden": true
   },
   "source": [
    "## Missing Values"
   ]
  },
  {
   "cell_type": "markdown",
   "metadata": {
    "hidden": true
   },
   "source": [
    "Missing values can be: empty string, NaNs, -1, 99, etc. Sometimes we can tell if the number is missing using histograms. Usually the peak that looks an outliers are missing values. \n",
    "\n",
    "Approaches:\n",
    "1. Replace with something like -999, -1, etc. It hurts the performance of NN and linear models.\n",
    "2. Mean/Median imputation. It is mainly beneficial for NN and linear models.\n",
    "3. Reconstruct value using IterativeImputer or KNNImputer.\n",
    "\n",
    "Usually missing values have info behind them so it is recommended to use an indicator that check if a row has missing value. XGBoost and CatBoost can handle missing values better than the approaches discussed earlier. Note that sometimes we may replace outliers with missing values. Try to avoid filling nans before feature generation."
   ]
  },
  {
   "cell_type": "markdown",
   "metadata": {
    "collapsed": "true"
   },
   "source": [
    "# Feature Extraction"
   ]
  },
  {
   "cell_type": "markdown",
   "metadata": {
    "collapsed": "true",
    "hidden": true
   },
   "source": [
    "## Text"
   ]
  },
  {
   "cell_type": "markdown",
   "metadata": {
    "hidden": true
   },
   "source": [
    "Some of the most used preprocessing on text are: lowercase, stemming, lemmatization, and stopwords (don't contain important information such as 'the'). We can decide on the minimum_freq, max_freq, and max_features when using feature extraction.\n",
    "1. Bag of words:\n",
    "    - Assumes words independent and create one column for each feature. We can use something like CountVectorizer, TfidfCountVectorizer to get such matrices.\n",
    "    - Since non-tree-based models depend on the scaling of features, we can do the following postprocessing after CountVectorizer:\n",
    "        - Normalize the rows to have sum of 1 by dividing the frequency by total frequency in the document (document-wise normalization).\n",
    "        - Normalize the columns (words) so that less frequent words have more importance than frequent words (column-wise normalization).\n",
    "        - We can achieve the above two normalization using TFIDF.\n",
    "    - We can also use n-grams using either words or chars. ngram_range and analyzer help us achieve that. N-grams allow us to discover relationships between words/chars using their local context.\n",
    "    - Pros: Meaning of each value is known.\n",
    "    - Cons: Very large vectors.\n",
    "  \n",
    "2. Embeddings:\n",
    "    - Convert documents into dense vectors such that similar words are close in the new space.\n",
    "    - Some examples are word2vec and GloVe, Doc2vec. We can use the pretrained models.\n",
    "    - We can either take the average/sum of the words vectors or use Doc2vec.\n",
    "    - Pros: Dense vectors, and similar words have similar embeddings.\n",
    "    - Cons: Meaning of values will be mostly lost."
   ]
  },
  {
   "cell_type": "markdown",
   "metadata": {
    "collapsed": "true",
    "heading_collapsed": true,
    "hidden": true
   },
   "source": [
    "## Images"
   ]
  },
  {
   "cell_type": "markdown",
   "metadata": {
    "hidden": true
   },
   "source": [
    "We can use either pre-trained models or train one from scratch. For most cases, using pre-trained models will be good enough. We can also fine-tune the pre-trained models to get a boost in performance."
   ]
  },
  {
   "cell_type": "markdown",
   "metadata": {
    "collapsed": "true"
   },
   "source": [
    "# EDA"
   ]
  },
  {
   "cell_type": "markdown",
   "metadata": {
    "hidden": true
   },
   "source": [
    "Advantages of EDA:\n",
    "- Better understand the data.\n",
    "- Build an intuition about the data.\n",
    "- Generate hypothesis.\n",
    "- Find insights."
   ]
  },
  {
   "cell_type": "markdown",
   "metadata": {
    "hidden": true
   },
   "source": [
    "Steps of EDA:\n",
    "1. Get domain knowledge - this means:\n",
    "    - Reading about the topic/problem we are trying to solve.\n",
    "    - Understand the meaning of the columns and what they measure.\n",
    "2. Check if the data is intuitive - this means:\n",
    "    - Checking if the values in each column are intuitive.\n",
    "3. Understand how the data was generated - it is crucial to understand the generation process to set up a proper validation scheme. For example, if the training data was generated by different algorithm than the test data, this will make it hard to use portion of the training data as a validation set because training and test have two different distributions. Therefore, in the worst cases, at least the validation and test sets have to come from the same distribution so that the scores on validation set would be a good proxy for the scores on the test set."
   ]
  },
  {
   "cell_type": "markdown",
   "metadata": {
    "collapsed": "true",
    "hidden": true
   },
   "source": [
    "## Visualizations"
   ]
  },
  {
   "cell_type": "markdown",
   "metadata": {
    "hidden": true
   },
   "source": [
    "- Histograms: Good to see the distribution of the features. Vary the number of the bins/bin size to get clear picture. Otherwise, histograms can deceive sometimes. It is recommended to use Empirical Distributions to get clear picture about the distribution."
   ]
  },
  {
   "cell_type": "markdown",
   "metadata": {
    "hidden": true
   },
   "source": [
    "- Plot Index Vs Value: This will show us if there are both horizontal/vertical patterns, i.e. if the data is properly shuffled (no vertical patterns) and if there are a lot of repeated values (horizontal patterns). To make it even more helpful, we can color the dots by the target values."
   ]
  },
  {
   "cell_type": "markdown",
   "metadata": {
    "hidden": true
   },
   "source": [
    "`plt.plot(x, '.')`"
   ]
  },
  {
   "cell_type": "markdown",
   "metadata": {
    "hidden": true
   },
   "source": [
    "- Scatter plot: It is helpful to see relationships between two features (we can also color it by the target values). We can also see if the train/test have overlapping values. If the test set have different values than train set, that is problematic."
   ]
  },
  {
   "cell_type": "markdown",
   "metadata": {
    "hidden": true
   },
   "source": [
    "- We can plot the correlation matrix.\n",
    "- We can do some kind of clustering and see which group of features are similar. We can add features such as aggregate statistics per group and use them as new features.\n",
    "- We can also test and see how many different distinct combinations there are between features as well as how many times a feature is greater than the other one.\n",
    "- We can compute the mean of each feature and use a scatter plot where the y-axis would have the means and the x-axis would have the feature names sorted by their mean values. We can sometimes see groups of features that have similar means and generate features accordingly."
   ]
  },
  {
   "cell_type": "markdown",
   "metadata": {
    "collapsed": "true",
    "hidden": true
   },
   "source": [
    "## Dataset Cleaning"
   ]
  },
  {
   "cell_type": "markdown",
   "metadata": {
    "hidden": true
   },
   "source": [
    "- It is better to remove constant features, df.nunique(axis=1) == 1.\n",
    "- Drop duplicated columns, df.T.drop_duplicates(). If we have categorical features, we can use pandas.factorize that label encodes categories by order they appear so that it allows us to see the duplicates. df[feat].factorize() then df.T.drop_duplicates().\n",
    "- Check if there are common rows in the train and test sets. Remove them in case there are any.\n",
    "- Check if the data is shuffled."
   ]
  },
  {
   "cell_type": "markdown",
   "metadata": {
    "collapsed": "true"
   },
   "source": [
    "# Validation"
   ]
  },
  {
   "cell_type": "markdown",
   "metadata": {},
   "source": [
    "The whole idea behind validation set is to have dataset that best approximate the model score when tested on unseen data. Therefore, this will help us avoid overfitting. Also, the validation data should have the same distribution as the test set. In some cases, training data may have different distribution than the test set.\n",
    "> Overfitting means that the validation error starts increasing (change direction from decreasing) because it starts capturing noise and patterns that are specific to the training data and are not present in the test data. Overfitting doesn't mean that training error is less than validation error because almost always training error is less than validation error.\n",
    "> Underfitting means the model couldn't capture the underlying relationship in the data."
   ]
  },
  {
   "cell_type": "markdown",
   "metadata": {},
   "source": [
    "Validation strategies (Use with *Stratification*):\n",
    "- Holdout: Be careful from having duplicate rows between training and validation sets.\n",
    "    - `sklearn.model_selection.train_test_split`\n",
    "- K-fold Cross Validation.\n",
    "    - `sklearn.model_selection.KFold`\n",
    "- LeaveOneOut.\n",
    "    - `sklearn.model_selection.LeaveOneOut`"
   ]
  },
  {
   "cell_type": "markdown",
   "metadata": {},
   "source": [
    "Data splitting strategies:\n",
    "- Make train/valid split as similar as possible to train/test splits.\n",
    "- For time-dependent data, validation should be in the future.\n",
    "- Random (row-wise). The underlying assumption is that the rows are independent. Therefore, if there are some kind of dependencies between the rows, we can design new features that exploit this and boost our model.\n",
    "- Time-wise. We can create features such as average number of same day last week/month/year.\n",
    "- Ids. If the training set has completely different set of ids than the test set, then we have to do the same thing when we split the training data into train/valid data. Also, probably creating new features such as aggregate stats per id would not help too."
   ]
  },
  {
   "cell_type": "markdown",
   "metadata": {},
   "source": [
    "Issues with validations:\n",
    "- Too diverse and inconsistent data.\n",
    "- Too little data.\n",
    "\n",
    "To solve for this issue, use CV and try to mimic train/test split."
   ]
  },
  {
   "cell_type": "markdown",
   "metadata": {
    "collapsed": "true"
   },
   "source": [
    "# Data Leakage"
   ]
  },
  {
   "cell_type": "markdown",
   "metadata": {
    "hidden": true
   },
   "source": [
    "- Make sure there is not information from the future such as weather or user history.\n",
    "- Check if metadata includes some info about the future.\n",
    "- Ids are supposed to be generated by the system and should not be useful; however, sometimes they contain information that improves the model's performance.\n",
    "- Row order can be included as a feature and can contain information about the target because rows next to each other have same target value."
   ]
  },
  {
   "cell_type": "markdown",
   "metadata": {
    "collapsed": "true"
   },
   "source": [
    "# Metrics"
   ]
  },
  {
   "cell_type": "markdown",
   "metadata": {
    "hidden": true
   },
   "source": [
    "Good models don't necessarily have higher results for all metrics. At the beginning of the training, all metrics tend to improve. As the training continues, the metric we optimize for keeps improving while other metrics tend to usually deteriorate. Otherwise, we get suboptimal results if all the metrics for a given model have superior results. "
   ]
  },
  {
   "cell_type": "markdown",
   "metadata": {
    "collapsed": "true",
    "heading_collapsed": true,
    "hidden": true
   },
   "source": [
    "## Regression"
   ]
  },
  {
   "cell_type": "markdown",
   "metadata": {
    "collapsed": "true",
    "heading_collapsed": true,
    "hidden": true
   },
   "source": [
    "### Mean Squared Error (MSE) "
   ]
  },
  {
   "cell_type": "markdown",
   "metadata": {
    "hidden": true
   },
   "source": [
    "$$MSE = \\frac{1}{N}\\sum_{i=1}^N(y_i - \\hat{y_i})^2$$\n",
    "It measures average squared error for the dataset. It is the default error used in ML. MSE curve is hyper-parabola and if we want to use a constant as a baseline that minimize MSE (minimum point), this would be the *Mean* of $y$ ($\\bar{y})$. It puts bigger weights on higher values which makes it very sensitive to outliers. In other words, it tries to close the gap with the high values at the expense of the small target values; i.e. close the gap with the peak."
   ]
  },
  {
   "cell_type": "markdown",
   "metadata": {
    "collapsed": "true",
    "heading_collapsed": true,
    "hidden": true
   },
   "source": [
    "### Root Mean Squared Error (RMSE) "
   ]
  },
  {
   "cell_type": "markdown",
   "metadata": {
    "hidden": true
   },
   "source": [
    "$$RMSE = \\sqrt{\\frac{1}{N}\\sum_{i=1}^N(y_i - \\hat{y_i})^2} = \\sqrt{MSE}$$\n",
    "The main advantage of using RMSE is that it has the same unit as the target variable so it would be easier to explain it; unlike MSE that is square that unit."
   ]
  },
  {
   "cell_type": "markdown",
   "metadata": {
    "hidden": true
   },
   "source": [
    "Every minimizer of MSE is a minimizer of RMSE and vise versa because square/square root are monotonic non-decreasing functions. In practice, people usually optimize for MSE but report the RMSE when done because MSE is easier to work with."
   ]
  },
  {
   "cell_type": "markdown",
   "metadata": {
    "hidden": true
   },
   "source": [
    "The gradients of RMSE is different than RMSE because it depends on MSE (dynamic); therefore, it is different for gradient-based algorithms. We may need to change learning rates to account for that.\n",
    "$$\\frac{\\partial{RMSE}}{\\partial{y_i}} = \\frac{1}{2\\sqrt{MSE}}\\frac{\\partial{MSE}}{\\partial{y_i}}$$"
   ]
  },
  {
   "cell_type": "markdown",
   "metadata": {
    "hidden": true
   },
   "source": [
    "Use RMSE or MSE if:\n",
    "- Can't afford large errors.\n",
    "- There are few large values but not outliers that we care about.\n",
    "- Errors are not analogous --> 4 is more than twice 2."
   ]
  },
  {
   "cell_type": "markdown",
   "metadata": {
    "collapsed": "true",
    "heading_collapsed": true,
    "hidden": true
   },
   "source": [
    "### Mean Absolute Error (MAE)"
   ]
  },
  {
   "cell_type": "markdown",
   "metadata": {
    "hidden": true
   },
   "source": [
    "$$MAE = \\frac{1}{N}\\sum_{i=1}^{N}|y_i - \\hat{y_i}|$$\n",
    "The main advantage of this metric is that it treats all errors the same; i.e. doesn't penalizes large errors which make it less sensitive to outliers compared to MSE. This means that it would focus less on the high values. The best constant that minimizes MAE is the *Median*.\n",
    "\n",
    "Comparing MAE to MSE: error of 4 is twice the error of 2 with MAE; however, it is 4 times the error of 2 with MSE.\n",
    "\n",
    "MAE is not differentiable at 0. Also, second derivative is 0 everywhere.\n",
    "\n",
    "Use MAE if:\n",
    "- There are outliers in the data.\n",
    "- We have analogous errors."
   ]
  },
  {
   "cell_type": "markdown",
   "metadata": {
    "collapsed": "true",
    "heading_collapsed": true,
    "hidden": true
   },
   "source": [
    "### Mean Square Percentage Error (MSPE)"
   ]
  },
  {
   "cell_type": "markdown",
   "metadata": {
    "hidden": true
   },
   "source": [
    "$$MSPE = \\frac{100\\%}{N}\\sum_{i=1}^N(\\frac{y_i - \\hat{y_i}}{y_i})^2$$\n",
    "MSE and MAE care about absolute error and not relative error. For example, they treat 10 - 9 the same way as 100 - 99. However, the relative error is completely different. In the first case, it is 10% and in the second case it is 1%. \n",
    "\n",
    "It is the weighted version of MSE. The best constant for MSPE is weighted mean."
   ]
  },
  {
   "cell_type": "markdown",
   "metadata": {
    "collapsed": "true",
    "heading_collapsed": true,
    "hidden": true
   },
   "source": [
    "### Mean Absolute Percentage Error (MAPE)"
   ]
  },
  {
   "cell_type": "markdown",
   "metadata": {
    "hidden": true
   },
   "source": [
    "$$MAPE = \\frac{100\\%}{N}\\sum_{i=1}^N|\\frac{y_i - \\hat{y_i}}{y_i}|$$\n",
    "Weighted version of MAE. The best constant is weighted median. \n",
    "- All % errors are analogously weighted and it is not sensitive to outliers.\n",
    "- It can be misleading. You may have a model with low MAPE but missing very high value samples.\n",
    "- Don't use this metric if the range of values for the target is very large (high standard deviation), has a lot of zero, or there are unexpected spikes of ups downs because this would explode MAPE. The remedy for these issues is to add a constant to the target. Make sure that the constant is not too high (damage the model because it can't see variations in the target value) or too small (results in high MAPE). Therefore, treat as a hyper-parameter.\n",
    "\n",
    "Use MAPE if:\n",
    "- The target value doesn't have a big range of values and standard deviation remains small.\n",
    "- Target values are positive and far away from zero.\n",
    "- No unexpected spikes ups and downs.\n",
    "- Easily explain the results to the business stakeholders."
   ]
  },
  {
   "cell_type": "markdown",
   "metadata": {
    "collapsed": "true",
    "hidden": true
   },
   "source": [
    "### Root Mean Squared Logarithmic Error (RMSLE)"
   ]
  },
  {
   "cell_type": "markdown",
   "metadata": {
    "hidden": true
   },
   "source": [
    "RMSE in the log space. The way to use this metric is to take the logarithm of the target value (adding small constant such 1 in case we have zeros). Using log transformation helps bring large values closer to the majority of the values as well as alleviates the small values from zero.\n",
    "\n",
    "Pros:\n",
    "- Not sensitive to outliers.\n",
    "- Put more weights on bigger errors.\n",
    "- Penalizes underprediction more than over prediction. This is very helpful if overprediction can be tolerated but underprediction can lead to problems/missing opportunities.\n",
    "\n",
    "Cons:\n",
    "- Don't work with negative values.\n",
    "- Can become insensitive to fluctuations in the target due to heavy penalization of the higher values.\n",
    "\n",
    "It is considered better than MAPE/MSPE because it is less biased towards small values and it also works with relative errors.\n",
    "\n",
    "Use RMSLE if:\n",
    "- Want relative errors.\n",
    "- Have positive target values.\n",
    "- Have outliers in the data."
   ]
  },
  {
   "cell_type": "markdown",
   "metadata": {
    "collapsed": "true",
    "heading_collapsed": true,
    "hidden": true
   },
   "source": [
    "### R-squared"
   ]
  },
  {
   "cell_type": "markdown",
   "metadata": {
    "hidden": true
   },
   "source": [
    "$$R^2 = 1 - \\frac{MSE}{\\frac{1}{N}\\sum_i^N(y_i - \\bar{y_i})^2}$$\n",
    "The main advantage of $R^2$ over MSE/RMSE is that it tells u how good is the model with values range between [0, 1]. Therefore, it shows us how better is the model from the baseline model that always predict the mean of the target. The baseline has an $R^2 = 0$ when we predict the mean ($\\bar{y}$). If we optimize for $R^2$, it is the same thing as optimizing for MSE since the other components of $R^2$ are constants and don't affect optimization.\n",
    "\n",
    "Use $R^2$ to rank models.\n",
    "\n",
    "When MSE is the optimizer, $R^2$ is maximized; however, when MSE is not the optimizer, pearson correlation coefficient is used to compute the linear correlation between the target and the prediction of the model. But two models that have same $R^2$ may have completely different errors.\n",
    "However, it has some drawbacks:\n",
    "- It doesn't give us the error\n",
    "- It can be low for good models and high for bad models."
   ]
  },
  {
   "cell_type": "code",
   "execution_count": 1,
   "metadata": {
    "hidden": true
   },
   "outputs": [],
   "source": [
    "import numpy as np"
   ]
  },
  {
   "cell_type": "code",
   "execution_count": 5,
   "metadata": {
    "hidden": true
   },
   "outputs": [],
   "source": [
    "y = np.random.randint(0, 100, 100)\n",
    "y_hat = y + np.random.randint(0, 10, 100)"
   ]
  },
  {
   "cell_type": "code",
   "execution_count": 6,
   "metadata": {
    "hidden": true
   },
   "outputs": [],
   "source": [
    "y_log = np.log(y)\n",
    "y_hat_log = np.log(y_hat)"
   ]
  },
  {
   "cell_type": "code",
   "execution_count": 7,
   "metadata": {
    "hidden": true
   },
   "outputs": [
    {
     "data": {
      "text/plain": [
       "0.09795937239543882"
      ]
     },
     "execution_count": 7,
     "metadata": {},
     "output_type": "execute_result"
    }
   ],
   "source": [
    "np.mean((y_log - y_hat_log) ** 2)"
   ]
  },
  {
   "cell_type": "code",
   "execution_count": 22,
   "metadata": {
    "hidden": true
   },
   "outputs": [
    {
     "data": {
      "text/plain": [
       "-0.5101598447800129"
      ]
     },
     "execution_count": 22,
     "metadata": {},
     "output_type": "execute_result"
    }
   ],
   "source": [
    "np.log1p(600) - np.log1p(1000)"
   ]
  },
  {
   "cell_type": "code",
   "execution_count": 23,
   "metadata": {
    "hidden": true
   },
   "outputs": [
    {
     "data": {
      "text/plain": [
       "0.3361867670217862"
      ]
     },
     "execution_count": 23,
     "metadata": {},
     "output_type": "execute_result"
    }
   ],
   "source": [
    "np.log1p(1400) - np.log1p(1000)"
   ]
  },
  {
   "cell_type": "code",
   "execution_count": 21,
   "metadata": {
    "hidden": true
   },
   "outputs": [
    {
     "data": {
      "text/plain": [
       "0.692647555268513"
      ]
     },
     "execution_count": 21,
     "metadata": {},
     "output_type": "execute_result"
    }
   ],
   "source": [
    "np.sqrt((np.log1p(2000) - np.log1p(1000)) ** 2)"
   ]
  },
  {
   "cell_type": "code",
   "execution_count": 20,
   "metadata": {
    "hidden": true
   },
   "outputs": [
    {
     "data": {
      "text/plain": [
       "(6.398594934535208, 7.244941546337007)"
      ]
     },
     "execution_count": 20,
     "metadata": {},
     "output_type": "execute_result"
    }
   ],
   "source": [
    "np.log1p(600), np.log1p(1400)"
   ]
  },
  {
   "cell_type": "code",
   "execution_count": 11,
   "metadata": {
    "hidden": true
   },
   "outputs": [
    {
     "data": {
      "text/plain": [
       "1.0486609783905383"
      ]
     },
     "execution_count": 11,
     "metadata": {},
     "output_type": "execute_result"
    }
   ],
   "source": [
    "np.log1p(1400) / np.log1p(1000) "
   ]
  },
  {
   "cell_type": "markdown",
   "metadata": {
    "collapsed": "true",
    "heading_collapsed": true,
    "hidden": true
   },
   "source": [
    "## Classification"
   ]
  },
  {
   "cell_type": "markdown",
   "metadata": {
    "hidden": true
   },
   "source": [
    "- Soft labels: class probabilities.\n",
    "- Hard label: class predictions."
   ]
  },
  {
   "cell_type": "markdown",
   "metadata": {
    "collapsed": "true",
    "heading_collapsed": true,
    "hidden": true
   },
   "source": [
    "### Accuracy"
   ]
  },
  {
   "cell_type": "markdown",
   "metadata": {
    "hidden": true
   },
   "source": [
    "$$Accuracy = \\frac{1}{N}\\sum_{i=1}{N}[\\hat{y_i} = y_i]$$\n",
    "It measures how frequently class predictions are correct. The best constant is to predict the most frequent class.\n",
    "\n",
    "- It is misleading when the dataset is imbalanced. For example, if a dataset has 99% of the data belong to one class, then the baseline accuracy is 99%.\n",
    "- It is very hard to optimize."
   ]
  },
  {
   "cell_type": "markdown",
   "metadata": {
    "hidden": true
   },
   "source": [
    "- If the task is binary, pick any metric and optimize the threshold.\n",
    "- If the task is multiclass, sort the models by their accuracies not by the metric used for optimization."
   ]
  },
  {
   "cell_type": "markdown",
   "metadata": {
    "collapsed": "true",
    "heading_collapsed": true,
    "hidden": true
   },
   "source": [
    "### LogLoss"
   ]
  },
  {
   "cell_type": "markdown",
   "metadata": {
    "hidden": true
   },
   "source": [
    "Binary:\n",
    "$$Negative Log Loss = -\\frac{1}{N}\\sum_{i=1}^{N}(y_ilog(\\hat{y_i}) - (1 - y_i)log(1 - \\hat{y}_i))$$\n",
    "Multiclass:\n",
    "$$Negative Log Loss = -\\frac{1}{N}\\sum_{i=1}^{N}y_{ik}log(\\hat{y}_{ik})$$\n",
    "- It penalizes very wrong answers. The more you deviate from the actual class, the more you get penalizes.\n",
    "- The best constant is the frequency of each class."
   ]
  },
  {
   "cell_type": "markdown",
   "metadata": {
    "collapsed": "true",
    "heading_collapsed": true,
    "hidden": true
   },
   "source": [
    "### Area Under ROC Curve (AUC)"
   ]
  },
  {
   "cell_type": "markdown",
   "metadata": {
    "hidden": true
   },
   "source": [
    "This metric doesn't fix the threshold but computes everything under all possible thresholds. It only works for binary tasks. It also depends only on the order of predictions not their absolute values.\n",
    "- The range of values [0, 1].\n",
    "- The baseline is 0.5 which is randomly predicting the class of the new object.\n",
    "- It measures the ability to differentiate between positive and negative classes (discriminate between classes). For example, if we have two instances A & B, when the model says A is more likely than B, how often is A actually True and B False. The higher the AUC, the more separable the classes are.\n",
    "- It is usually used in an imbalanced dataset."
   ]
  },
  {
   "cell_type": "markdown",
   "metadata": {
    "collapsed": "true",
    "heading_collapsed": true,
    "hidden": true
   },
   "source": [
    "### Cohen's Kappa"
   ]
  },
  {
   "cell_type": "markdown",
   "metadata": {
    "hidden": true
   },
   "source": [
    "$$Cohen's Kappa = 1 - \\frac{1 - accuracy}{1 - baseline\\ accuracy} = \\frac{observed\\ accuracy - expected\\ accuracy}{1 - expected\\ accuracy}$$\n",
    "The Kappa statistic (or value) is a metric that compares an **Observed Accuracy** (classifier got right; i,e. TP and TN) with an Expected Accuracy (random chance). The kappa statistic is used not only to evaluate a single classifier, but also to evaluate classifiers amongst themselves (or one rater against another rater).\n",
    "$$Observed\\ accuracy = \\frac{TP + TN}{N}$$\n",
    "$$Expected\\ accuracy = \\frac{\\frac{((TN + FP) * (TN + FN))}{N} + \\frac{((TP + FN) * (TP + FP))}{N}}{N}$$\n",
    "To get the baseline accuracy, we multiply the relative frequency of each class from the dataset with its predictions proportion.\n",
    "- The range of values [-1, 1].\n",
    "- If the value is zero, then the classifier has the score as random classifier. Anything above zero is better. The bigger the score, the more agreement. Therefore, the perfect score is 1.\n",
    "\n",
    "We can use weight matrix to get weighted Cohen's Kappa. \n",
    "If we have a problem such as the severity of the disease, this is not really regression so we can treat it as classification and use weight matrix to assign different weight for different errors."
   ]
  },
  {
   "cell_type": "markdown",
   "metadata": {
    "collapsed": "true",
    "heading_collapsed": true,
    "hidden": true
   },
   "source": [
    "### F-score"
   ]
  },
  {
   "cell_type": "markdown",
   "metadata": {
    "hidden": true
   },
   "source": [
    "The traditional F-measure or balanced F-score is the harmonic mean of precision and recall:\n",
    "\n",
    "$$F_1 = \\left(\\frac{2}{\\mathrm{recall}^{-1} + \\mathrm{precision}^{-1}}\\right) = 2 \\cdot \\frac{\\mathrm{precision} \\cdot \\mathrm{recall}}{\\mathrm{precision} + \\mathrm{recall}}$$\n",
    "\n",
    "The general formula for positive real β, where β is chosen such that recall is considered β times as important as precision, is:\n",
    "$$F_\\beta = (1 + \\beta^2) \\cdot \\frac{\\mathrm{precision} \\cdot \\mathrm{recall}}{(\\beta^2 \\cdot \\mathrm{precision}) + \\mathrm{recall}}$$\n",
    "\n",
    "The formula in terms of Type I and type II errors:\n",
    "\n",
    "$$F_\\beta = \\frac {(1 + \\beta^2) \\cdot \\mathrm{true\\ positive} }{(1 + \\beta^2) \\cdot \\mathrm{true\\ positive} + \\beta^2 \\cdot \\mathrm{false\\ negative} + \\mathrm{false\\ positive}}$$\n",
    "\n",
    "Two commonly used values for β are those corresponding to the $F_{2}$ measure, which weighs recall higher than precision (by placing more emphasis on false negatives), and the $F_{0.5}$ measure, which weighs recall lower than precision (by attenuating the influence of false negatives).\n",
    "\n",
    "The F-measure was derived so that $F_\\beta$ \"measures the effectiveness of retrieval with respect to a user who attaches β times as much importance to recall as precision\".\n",
    "\n",
    "$$Precision = \\frac{TP}{TP + FP}$$\n",
    "$$Recall = \\frac{TP}{TP + FN}$$\n",
    "\n",
    "- Minimize False Positives -> Use Precision or set $\\beta < 1$\n",
    "- Minimize False Negatives -> Use Recall or set $\\beta > 1$"
   ]
  },
  {
   "cell_type": "markdown",
   "metadata": {
    "collapsed": "true",
    "heading_collapsed": true,
    "hidden": true
   },
   "source": [
    "### Probability Calibration"
   ]
  },
  {
   "cell_type": "markdown",
   "metadata": {
    "hidden": true
   },
   "source": [
    "If the model doesn't optimize the LogLoss directly, we can calibrate the probabilities on the predictions of the classifier. This will help us with uncertainties of each each predictions and understand the model better. Even if models give us probabilities such as `RandomForest`, it does not mean they are good probabilities because in extreme case where the node is 100% pure, the probability would be 100% even though it has some uncertainty.\n",
    "\n",
    "Definition: Predicted probabilities that match the expected distribution of probabilities for each class.\n",
    "\n",
    "Most Non-linear ML models don't make probabilistic predictions and instead use approximations -> The predicted probabilities don't match the expected distribution of the observed data -> Needs calibration.\n",
    "\n",
    ">\"we desire that the estimated class probabilities are reflective of the true underlying probability of the sample. That is, the predicted class probability (or probability-like value) needs to be well-calibrated. To be well-calibrated, the probabilities must effectively reflect the true likelihood of the event of interest.\"\n",
    "\n",
    "For instance, a well calibrated (binary) classifier should classify the samples such that among the samples to which it gave a predict_proba value close to 0.8, approximately 80% actually belong to the positive class."
   ]
  },
  {
   "cell_type": "markdown",
   "metadata": {
    "collapsed": "true",
    "heading_collapsed": true,
    "hidden": true
   },
   "source": [
    "#### Reliability Diagrams"
   ]
  },
  {
   "cell_type": "markdown",
   "metadata": {
    "hidden": true
   },
   "source": [
    ">Reliability diagrams are common aids for illustrating the properties of probabilistic forecast systems. They consist of a plot of the observed relative frequency against the predicted probability, providing a quick visual intercomparison when tuning probabilistic forecast systems, as well as documenting the performance of the final product.\n",
    "\n",
    "Specifically, the predicted probabilities are divided up into a fixed number of buckets along the x-axis (sort the predictions first and then divide them into buckets). The number of events (class=1) are then counted for each bin (e.g. the relative observed frequency). Finally, the counts are normalized. The results are then plotted as a line plot (we use the center of the bins).\n",
    "\n",
    ">Reliability diagrams provide a diagnostic to check whether the forecast value Xi is reliable. Roughly speaking, a probability forecast is reliable if the event actually happens with an observed relative frequency consistent with the forecast value.\n",
    "\n",
    "The better calibrated or more reliable a forecast, the closer the points will appear along the main diagonal from the bottom left to the top right of the plot.\n",
    "\n",
    "The position of the points or the curve relative to the diagonal can help to interpret the probabilities; for example:\n",
    "- **Below the diagonal**: The model has over-forecast; the probabilities are too large.\n",
    "- **Above the diagonal**: The model has under-forecast; the probabilities are too small.\n",
    "\n",
    "Models such as logistic regression have well calibrated probabilities; however, decision trees and NN don't produce calibrated probabilities.\n",
    "\n",
    ">Platt Scaling is most effective when the distortion in the predicted probabilities is sigmoid-shaped. Isotonic Regression is a more powerful calibration method that can correct any monotonic distortion. Unfortunately, this extra power comes at a price. A learning curve analysis shows that Isotonic Regression is more prone to overfitting, and thus performs worse than Platt Scaling, when data is scarce.\n",
    "\n",
    "**Note**: Better calibrated probabilities may or may not lead to better class-based or probability-based predictions. It really depends on the specific metric used to evaluate predictions. In fact, some empirical results suggest that the algorithms that can benefit the most from calibrating predicted probabilities include SVMs, bagged decision trees, and random forests.\n",
    "\n",
    ">\"after calibration the best methods are boosted trees, random forests and SVMs.\"\n",
    "\n",
    "**Diagnosis using Scikit-learn**:\n",
    "\n",
    ">This can be implemented by first calculating the calibration_curve() function. This function takes the true class values for a dataset and the predicted probabilities for the main class (class=1). The function returns the true probabilities for each bin and the predicted probabilities for each bin. The number of bins can be specified via the n_bins argument and default to 5."
   ]
  },
  {
   "cell_type": "markdown",
   "metadata": {
    "collapsed": "true",
    "heading_collapsed": true,
    "hidden": true
   },
   "source": [
    "#### Calibrate Probabilities Scikit-learn:"
   ]
  },
  {
   "cell_type": "markdown",
   "metadata": {
    "hidden": true
   },
   "source": [
    ">This can be implemented by first calculating the calibration_curve() function. This function takes the true class values for a dataset and the predicted probabilities for the main class (class=1). The function returns the true probabilities for each bin and the predicted probabilities for each bin. The number of bins can be specified via the n_bins argument and default to 5.\n",
    "\n",
    "A classifier can be calibrated in scikit-learn using the CalibratedClassifierCV class. There are two ways to use this class: prefit and cross-validation. \n",
    "- You can fit a model on a training dataset and calibrate this prefit model using a hold out validation dataset.\n",
    "- Alternately, the CalibratedClassifierCV can fit multiple copies of the model using k-fold cross-validation and calibrate the probabilities predicted by these models using the hold out set. Predictions are made using each of the trained models.\n",
    "- The CalibratedClassifierCV class supports two types of probability calibration; specifically, the parametric ‘sigmoid‘ method (Platt’s method) and the nonparametric ‘isotonic‘ method which can be specified via the ‘method‘ argument."
   ]
  },
  {
   "cell_type": "markdown",
   "metadata": {
    "hidden": true
   },
   "source": [
    "**Example with SVC**"
   ]
  },
  {
   "cell_type": "code",
   "execution_count": 2,
   "metadata": {
    "hidden": true
   },
   "outputs": [],
   "source": [
    "# SVM reliability diagrams with uncalibrated and calibrated probabilities\n",
    "from sklearn.datasets import make_classification\n",
    "from sklearn.svm import SVC\n",
    "from sklearn.calibration import CalibratedClassifierCV\n",
    "from sklearn.model_selection import train_test_split\n",
    "from sklearn.calibration import calibration_curve\n",
    "import matplotlib.pyplot as plt"
   ]
  },
  {
   "cell_type": "code",
   "execution_count": 6,
   "metadata": {
    "hidden": true
   },
   "outputs": [],
   "source": [
    "# predict uncalibrated probabilities\n",
    "def uncalibrated(trainX, testX, trainy):\n",
    "\t# fit a model\n",
    "\tmodel = SVC(gamma='auto')\n",
    "\tmodel.fit(trainX, trainy)\n",
    "\t# predict probabilities\n",
    "\treturn model.decision_function(testX)\n",
    "\n",
    "# predict calibrated probabilities\n",
    "def calibrated(trainX, testX, trainy):\n",
    "\t# define model\n",
    "\tmodel = SVC(gamma='auto')\n",
    "\t# define and fit calibration model\n",
    "\tcalibrated = CalibratedClassifierCV(model, method='sigmoid', cv=5)\n",
    "\tcalibrated.fit(trainX, trainy)\n",
    "\t# predict probabilities\n",
    "\treturn calibrated.predict_proba(testX)[:, 1]"
   ]
  },
  {
   "cell_type": "code",
   "execution_count": 7,
   "metadata": {
    "hidden": true
   },
   "outputs": [],
   "source": [
    "# generate 2 class dataset\n",
    "X, y = make_classification(n_samples=1000, n_classes=2, weights=[1,1], random_state=1)\n",
    "\n",
    "# split into train/test sets\n",
    "trainX, testX, trainy, testy = train_test_split(X, y, test_size=0.5, random_state=2)\n",
    "\n",
    "# uncalibrated predictions\n",
    "yhat_uncalibrated = uncalibrated(trainX, testX, trainy)\n",
    "\n",
    "# calibrated predictions\n",
    "yhat_calibrated = calibrated(trainX, testX, trainy)\n",
    "\n",
    "# reliability diagrams\n",
    "fop_uncalibrated, mpv_uncalibrated = calibration_curve(testy, yhat_uncalibrated, n_bins=10, normalize=True)\n",
    "fop_calibrated, mpv_calibrated = calibration_curve(testy, yhat_calibrated, n_bins=10)"
   ]
  },
  {
   "cell_type": "code",
   "execution_count": 8,
   "metadata": {
    "hidden": true
   },
   "outputs": [
    {
     "data": {
      "image/png": "[encoded data removed]",
      "text/plain": [
       "<Figure size 432x288 with 1 Axes>"
      ]
     },
     "metadata": {
      "needs_background": "light"
     },
     "output_type": "display_data"
    }
   ],
   "source": [
    "# plot perfectly calibrated\n",
    "pyplot.plot([0, 1], [0, 1], linestyle='--', color='black')\n",
    "\n",
    "# plot model reliabilities\n",
    "pyplot.plot(mpv_uncalibrated, fop_uncalibrated, marker='.')\n",
    "pyplot.plot(mpv_calibrated, fop_calibrated, marker='.')\n",
    "pyplot.show()"
   ]
  },
  {
   "cell_type": "markdown",
   "metadata": {
    "collapsed": "true"
   },
   "source": [
    "# Mean Encoding (aka Target Encoding/Likelihood Encodings)"
   ]
  },
  {
   "cell_type": "markdown",
   "metadata": {
    "hidden": true
   },
   "source": [
    "In its simplest form, we would have a feature that computes the mean of target of each category. \n",
    "- This is better than label encoding because it helps separate classes.\n",
    "- Gradient Boosting Trees struggle to handle high cardinality random variables. So adding mean encoding will help reduce the depth of the tree and improve performance compared to the simple label encoding which gives random order to labels with no correlation with the target.\n",
    "- It is especially helpful if the relationship between the feature and target is highly nonlinear.\n",
    "- Be careful from overfitting because when adding features that use the target, we most likely overfit unless we do careful validation/CV.\n",
    "- Ways to use target variable:\n",
    "    - Likelihood = mean(target)\n",
    "    - Weight of Evidence = ln(count(positive) / count(negative)) * 100\n",
    "    - Count = sum(target)\n",
    "    - Diff = count(positive) - count(negative)"
   ]
  },
  {
   "cell_type": "markdown",
   "metadata": {
    "collapsed": "true",
    "hidden": true
   },
   "source": [
    "## Regularization"
   ]
  },
  {
   "cell_type": "markdown",
   "metadata": {
    "hidden": true
   },
   "source": [
    "For each data point in a given fold, we estimate the encoding using the data points in the other folds.\n",
    "- It is robust and intuitive.\n",
    "- Usually 4-5 folds are enough.\n",
    "- If we have a category that is not present in other folds, use global mean of the target (prior).\n",
    "- This method is stable for categories that are present is descent number.\n",
    "- We can use smoothing as a form of regularization. Rare categories can be punished using smoothing.\n",
    "- We can also add noise to the data. As noise increases -> more regularization and can destroy encoding. So noising level is a hyperparameter.\n",
    "- We can also use expanding mean by predicting each data point encoding using $n - 1$ data points. This method is easy and has the least target leakage (built-in in CatBoost)."
   ]
  },
  {
   "cell_type": "markdown",
   "metadata": {
    "collapsed": "true",
    "hidden": true
   },
   "source": [
    "## Regression & Multicass Classification"
   ]
  },
  {
   "cell_type": "markdown",
   "metadata": {
    "hidden": true
   },
   "source": [
    "- We can use many statistics such as percentiles, std, and bins distribution.\n",
    "- With time series, we can use rolling statistics of target variable such as mean or sum.\n",
    "- Binning and selecting interactions of numerical features:\n",
    "    - We can fit a model such as XGBoost and analyze the model structure.\n",
    "        - If a feature has a lot of split points, that is a good indication that we should use mean encodings on that feature. Also, those exact split points can be used to bin the features. \n",
    "        - To get good feature interactions, we can:\n",
    "            - Loop over all the trees and calculate the frequency of feature interactions. The highest the frequency, the more useful the interactions. We can use this method with 1-ways, 3-ways, etc. interactions.\n",
    "\n",
    "**Advice:** If we have a dataset with a lot of categorical features, it is worth it to try to use both mean encodings and interaction features."
   ]
  },
  {
   "cell_type": "markdown",
   "metadata": {
    "collapsed": "true",
    "hidden": true
   },
   "source": [
    "## Correct Validation Reminder"
   ]
  },
  {
   "cell_type": "markdown",
   "metadata": {
    "hidden": true
   },
   "source": [
    "- Estimate encodings of X_train.\n",
    "- Map them to X_train and X_val.\n",
    "- Regularize on X_tr.\n",
    "- Validate the model on both X_train and X_val.\n",
    "- When done:\n",
    "    - Estimate encodings on combined X_train and X_val.\n",
    "    - Map them to whole train and X_test.\n",
    "    - Regularize on whole train.\n",
    "    - Fit on whole train."
   ]
  },
  {
   "cell_type": "markdown",
   "metadata": {
    "collapsed": "true",
    "hidden": true
   },
   "source": [
    "## Advantages/Disadvantages"
   ]
  },
  {
   "cell_type": "markdown",
   "metadata": {
    "hidden": true
   },
   "source": [
    "- Advantages:\n",
    "    - Compact transformation of categorical features.\n",
    "    - Powerful basis for feature engineering.\n",
    "- Disadvantages:\n",
    "    - Need careful validation, there are a lot of ways to overfit.\n",
    "    - Significant improvements only on specific datasets."
   ]
  },
  {
   "cell_type": "code",
   "execution_count": 29,
   "metadata": {
    "hidden": true
   },
   "outputs": [],
   "source": [
    "import category_encoders as ce\n",
    "import pandas as pd"
   ]
  },
  {
   "cell_type": "code",
   "execution_count": 32,
   "metadata": {
    "hidden": true
   },
   "outputs": [],
   "source": [
    "df = pd.DataFrame({'X': ['a', 'b', 'a', 'b', 'c'], 'y': [0, 0, 1, 1, 1]})"
   ]
  },
  {
   "cell_type": "code",
   "execution_count": 33,
   "metadata": {
    "hidden": true
   },
   "outputs": [
    {
     "data": {
      "text/html": [
       "<div>\n",
       "<style scoped>\n",
       "    .dataframe tbody tr th:only-of-type {\n",
       "        vertical-align: middle;\n",
       "    }\n",
       "\n",
       "    .dataframe tbody tr th {\n",
       "        vertical-align: top;\n",
       "    }\n",
       "\n",
       "    .dataframe thead th {\n",
       "        text-align: right;\n",
       "    }\n",
       "</style>\n",
       "<table border=\"1\" class=\"dataframe\">\n",
       "  <thead>\n",
       "    <tr style=\"text-align: right;\">\n",
       "      <th></th>\n",
       "      <th>X</th>\n",
       "    </tr>\n",
       "  </thead>\n",
       "  <tbody>\n",
       "    <tr>\n",
       "      <td>0</td>\n",
       "      <td>0.526894</td>\n",
       "    </tr>\n",
       "    <tr>\n",
       "      <td>1</td>\n",
       "      <td>0.526894</td>\n",
       "    </tr>\n",
       "    <tr>\n",
       "      <td>2</td>\n",
       "      <td>0.526894</td>\n",
       "    </tr>\n",
       "    <tr>\n",
       "      <td>3</td>\n",
       "      <td>0.526894</td>\n",
       "    </tr>\n",
       "    <tr>\n",
       "      <td>4</td>\n",
       "      <td>0.600000</td>\n",
       "    </tr>\n",
       "  </tbody>\n",
       "</table>\n",
       "</div>"
      ],
      "text/plain": [
       "          X\n",
       "0  0.526894\n",
       "1  0.526894\n",
       "2  0.526894\n",
       "3  0.526894\n",
       "4  0.600000"
      ]
     },
     "execution_count": 33,
     "metadata": {},
     "output_type": "execute_result"
    }
   ],
   "source": [
    "ce.TargetEncoder().fit_transform(df['X'], df['y'])"
   ]
  },
  {
   "cell_type": "markdown",
   "metadata": {
    "collapsed": "true"
   },
   "source": [
    "# Practical Tips"
   ]
  },
  {
   "cell_type": "markdown",
   "metadata": {
    "collapsed": "true",
    "heading_collapsed": true
   },
   "source": [
    "## Competition"
   ]
  },
  {
   "cell_type": "markdown",
   "metadata": {
    "hidden": true
   },
   "source": [
    "1. Define your goal before you participate in any competition:\n",
    "    - Learn more about an interesting problem\n",
    "    - Get acquainted with new software tools\n",
    "    - Get a medal\n",
    "        - If people in the top have huge number of submissions -> mostly are doing probing or facing difficulty between validation and public leader board score\n",
    "        - If people in the top have few submissions -> they discovered non-trivial way of solving the problem\n",
    "2. After you enter competition:\n",
    "    - Organize your ideas in some structure\n",
    "    - Select most important and promising ideas\n",
    "    - Try to understand the reasons why something does/doesn't work\n",
    "    - Everything is a hyperparameter. Try to sort all parameters by their importance"
   ]
  },
  {
   "cell_type": "markdown",
   "metadata": {
    "collapsed": "true",
    "heading_collapsed": true
   },
   "source": [
    "## Data Loading"
   ]
  },
  {
   "cell_type": "markdown",
   "metadata": {
    "hidden": true
   },
   "source": [
    "1. Do basic preprocessing and convert csv/txt files into hdfs(pandas)/npy(numpy arrays) for much faster loading\n",
    "2. By default, data is stored in 64-bit arrays. Most of the times we can safely downcast to 32-bits that would save us a lot of memory\n",
    "3. Large datasets can be processed in chunks"
   ]
  },
  {
   "cell_type": "markdown",
   "metadata": {
    "collapsed": "true",
    "heading_collapsed": true
   },
   "source": [
    "## Performance Evaluation"
   ]
  },
  {
   "cell_type": "markdown",
   "metadata": {
    "hidden": true
   },
   "source": [
    "1. Extensive validation is not always needed. Even with a dataset that has 50k or 100k rows, a simple train/test split works. Switch to CV when needed only (when marginal improvements is critical)\n",
    "2. Start with fastest models such as LightGBM\n",
    "3. Below is a simple modeling process flow:\n",
    "<img src=\"materials/modeling-process-flow.png\" heigh=\"200\" width=\"400\">\n",
    "4. Switch to ensemble and stacking when you are satisfied with feature engineering\n",
    "5. Don't pay attention to code quality\n",
    "6. Save only important things"
   ]
  },
  {
   "cell_type": "markdown",
   "metadata": {
    "collapsed": "true",
    "heading_collapsed": true
   },
   "source": [
    "## Initial Pipeline"
   ]
  },
  {
   "cell_type": "markdown",
   "metadata": {
    "hidden": true
   },
   "source": [
    "1. Start with EDA\n",
    "1. Start with simple or even primitive solution\n",
    "3. Debug full pipeline\n",
    "4. Start with simple model that is robust and requires small to no hyperparameter tuning\n",
    "5. Check if the validation is stable"
   ]
  },
  {
   "cell_type": "markdown",
   "metadata": {
    "collapsed": "true",
    "heading_collapsed": true
   },
   "source": [
    "## Best Practices from Software Development"
   ]
  },
  {
   "cell_type": "markdown",
   "metadata": {
    "hidden": true
   },
   "source": [
    "1. Use good variable names\n",
    "2. Keep your research reproducible\n",
    "    - Fix random seed\n",
    "    - Write down exactly how each feature was generated\n",
    "    - Use version control\n",
    "3. Move reusable code into separate functions. It would be better if you create a simple library that includes a lot of the code that are commonly used in many problems"
   ]
  },
  {
   "cell_type": "markdown",
   "metadata": {
    "collapsed": "true",
    "heading_collapsed": true
   },
   "source": [
    "## General"
   ]
  },
  {
   "cell_type": "markdown",
   "metadata": {
    "hidden": true
   },
   "source": [
    "1. Read scientific papers about the problem to get more knowledge and ideas about how to solve the problem. This usually helps with understanding of the features and generate new features as well as optimizing ML related tasks\n",
    "2. Overfit the training data and then regularize the model"
   ]
  },
  {
   "cell_type": "markdown",
   "metadata": {
    "collapsed": "true"
   },
   "source": [
    "## Competition Pipeline"
   ]
  },
  {
   "cell_type": "markdown",
   "metadata": {},
   "source": [
    "<img src=\"materials/competition-pipeline.png\" height=\"100px\" width=\"600px\">"
   ]
  },
  {
   "cell_type": "markdown",
   "metadata": {},
   "source": [
    "1. Make necessary preparations to understand the problem such as reading related materials and get more business understanding of the problem\n",
    "    - Type of problem\n",
    "    - How big is the data\n",
    "    - Hardware needed\n",
    "    - Software needed. Then create a virtual environment for the project\n",
    "    - What is the metric being tested on?\n",
    "    - Check if I have done similar project before and reuse what worked before trying anything new\n",
    "2. Understand the features and what we have available. Also what are the dynamics and the process of the data generation\n",
    "    - Plot histograms of variables and check if the feature is similar between train and test. In most cases, big discrepancies can cause problems to the model\n",
    "    - Plot features versus target variable and versus time\n",
    "    - Consider univariate predictability metrics such as R/IV/AUC\n",
    "    - Binning numerical features to check if there are some nonlinearities\n",
    "    - Correlation matrices (Spearman correlation)\n",
    "3. Define a good validation strategy\n",
    "    - Validation should be as close as possible to the test set\n",
    "    - If time is important -> Use time-based split\n",
    "    - If the test has different entities (such as customers) than the train, then validation data should have different entities so that it resembles the test data\n",
    "    - If it is completely random, just use random split\n",
    "4. Features Engineering <--> Modeling\n",
    "    - <img src=\"materials/feature-engineering.png\">\n",
    "    - <img src=\"materials/modeling.png\">\n",
    "5. Ensembling\n",
    "    - Averaging to multilayer stacking\n",
    "    - Helps to average few low-correlated predictions\n",
    "    - With stacking, we treat predictions as features and repeat the same modeling process in terms of feature engineering and feature generation"
   ]
  },
  {
   "cell_type": "markdown",
   "metadata": {
    "collapsed": "true"
   },
   "source": [
    "# Ensembling"
   ]
  },
  {
   "cell_type": "markdown",
   "metadata": {
    "hidden": true
   },
   "source": [
    "The idea is to combine good models that are as uncorrelated as possible to get the best performance. The less correlated the models are, the less correlated the models' errors. This means averaging the models would lead to lower errors."
   ]
  },
  {
   "cell_type": "markdown",
   "metadata": {
    "collapsed": "true",
    "heading_collapsed": true,
    "hidden": true
   },
   "source": [
    "## Averaging"
   ]
  },
  {
   "cell_type": "markdown",
   "metadata": {
    "hidden": true
   },
   "source": [
    "We have three ways to construct ensembles using:\n",
    "- Simple average. Take the average of multiple models\n",
    "- Weighted average. Assign weights to different models and combine them\n",
    "- Conditional average. Pick different models for different values"
   ]
  },
  {
   "cell_type": "markdown",
   "metadata": {
    "collapsed": "true",
    "heading_collapsed": true,
    "hidden": true
   },
   "source": [
    "## Bagging"
   ]
  },
  {
   "cell_type": "markdown",
   "metadata": {
    "hidden": true
   },
   "source": [
    "RandomForest is a form of bagging where we build models on different subsets of the data and then combine the models. Bagging doesn't overfit but after some point there would be no improvement. It also can be parallelized.\n",
    "\n",
    "There are two sources of errors in modeling:\n",
    "- Errors due to **Bias** (underfitting)\n",
    "- Errors due to **Variance** (overfitting)\n",
    "\n",
    "Parameters that control bagging:\n",
    "- Random seed, we can simply run the same model with different seeds and average predictions\n",
    "- Row Subsampling or bootstrapping\n",
    "- Column Subsampling\n",
    "- Shuffling\n",
    "- Model-specific parameters"
   ]
  },
  {
   "cell_type": "markdown",
   "metadata": {
    "collapsed": "true",
    "heading_collapsed": true,
    "hidden": true
   },
   "source": [
    "## Boosting"
   ]
  },
  {
   "cell_type": "markdown",
   "metadata": {
    "hidden": true
   },
   "source": [
    "**Boosting** is a form of weighted averaging of models where each model is built sequentially by taking into account the performance of the previous model. Boosting models can't be parallelized and more estimators can overfit."
   ]
  },
  {
   "cell_type": "markdown",
   "metadata": {
    "collapsed": "true",
    "heading_collapsed": true,
    "hidden": true
   },
   "source": [
    "### Weight-based Boosting "
   ]
  },
  {
   "cell_type": "markdown",
   "metadata": {
    "hidden": true
   },
   "source": [
    "<img src=\"materials/weight-based-boosting.png\">"
   ]
  },
  {
   "cell_type": "markdown",
   "metadata": {
    "hidden": true
   },
   "source": [
    "- We fit a model on all features and calculate the absolute error for all samples\n",
    "- We then give more weights on rows that are very wrong and keep iterating\n",
    "- `AdaBoost` is an example of weight-based boosting\n",
    "\n",
    "Boosting parameters:\n",
    "1. Learning rate (eta or shrinkage). It is the contribution of each model in the final prediction, i.e. it can be seen as weight of each model\n",
    "2. Number of estimators (models). There is usually an inverse relationship between learning rate and the number of estimators. As learning rate decreases, we should increase the number of estimators. The way to tune them is by first fixing the number of estimators and tune the learning rate, then multiply the number of estimators by *c* and divide the learning rate by *c* and see how it works\n",
    "3. Input model - any model that accepts weights"
   ]
  },
  {
   "cell_type": "markdown",
   "metadata": {
    "collapsed": "true",
    "heading_collapsed": true,
    "hidden": true
   },
   "source": [
    "### Residual-based Boosting"
   ]
  },
  {
   "cell_type": "markdown",
   "metadata": {
    "hidden": true
   },
   "source": [
    "<img src=\"materials/residual-based-boosting.png\">"
   ]
  },
  {
   "cell_type": "markdown",
   "metadata": {
    "hidden": true
   },
   "source": [
    "It is more powerful than the weight-based boosting.\n",
    "- We fit a model on all features and calculate the error for all samples\n",
    "- Then the resulted error would be the new target variable\n",
    "- We then fit another model on the new target variable and keep iterating\n",
    "- `XGBoost` is an example of residual-based boosting\n",
    "\n",
    "Boosting parameters:\n",
    "1. Learning rate (eta or shrinkage). The first model would have fully contribute and then from 2nd model the contribution would be $lr * \\hat{y}$. Therefore, it is movement in the direction of the error so that we avoid overfitting.\n",
    "2. Number of estimators (models). There is usually an inverse relationship between learning rate and the number of estimators. As learning rate decreases, we should increase the number of estimators. The way to tune them is by first fixing the number of estimators and tune the learning rate, then multiply the number of estimators by *c* and divide the learning rate by *c* and see how it works.\n",
    "- Row Subsampling\n",
    "- Column Subsampling\n",
    "- Input model - better with trees\n",
    "\n",
    "Implementations:\n",
    "1. XGBoost\n",
    "2. LightGBM - very fast and efficient\n",
    "3. Catboost - handles missing values and categorical features out of the box. Plus it has good starting hyperparameters"
   ]
  },
  {
   "cell_type": "markdown",
   "metadata": {
    "collapsed": "true",
    "heading_collapsed": true,
    "hidden": true
   },
   "source": [
    "## Stacking"
   ]
  },
  {
   "cell_type": "markdown",
   "metadata": {
    "hidden": true
   },
   "source": [
    "**Stacking** means making predictions of a number of models (base learners) on a hold-out dataset and then use a different model (meta learner) to train on these predictions.\n",
    "\n",
    "Things to be mindful of:\n",
    "1. Diversity is as important as performance of base learners\n",
    "2. Diversity may come from:\n",
    "    - Different algorithms\n",
    "    - Different input features, i.e. we may have the same model run on different features transformations\n",
    "    - No risk of overfitting but after N models, the performance will plateau\n",
    "    - The meta model is usually not that complex because the predictions are already correlated with the target variable. Therefore, the model may not need to a lot of operations to uncover hidden structures"
   ]
  },
  {
   "cell_type": "markdown",
   "metadata": {
    "hidden": true
   },
   "source": [
    "**StackNet** is a scalable meta modeling methodology that utilizes stacking to combine multiple models in a neural network architecture of multiple models."
   ]
  },
  {
   "cell_type": "markdown",
   "metadata": {
    "collapsed": "true",
    "heading_collapsed": true,
    "hidden": true
   },
   "source": [
    "## Tips"
   ]
  },
  {
   "cell_type": "markdown",
   "metadata": {
    "hidden": true
   },
   "source": [
    "1. 1st level tips:\n",
    "    - Diversity based on algorithms \n",
    "        - 2-3 gradient boosted trees using maybe different implementation such as LightGBM, XGBoost, and CatBoost or try to have one with small depth, one with middle depth, and one with deep depth and tune the hyperparameters around it. This way you would have as much asymmetry as possible in terms of performance\n",
    "        - 2-3 NN with different architectures\n",
    "        - 1-2 ExtraTrees/RandomForest\n",
    "        - 1-2 linear models such as logistic/ridge/svm\n",
    "        - 1-2 KNN models. They may have bad performance but usually add value in meta modeling setup\n",
    "    - Diversity based on input data\n",
    "        - Categorical features: such as label encoding, onehot encoding, etc\n",
    "        - Numerical feature: such as binning, outliers, percentiles \n",
    "        - Interactions: such as multiplication/division, groupby, unsupervised (SVD/PCA/KMeans...)\n",
    "2. Subsequent level tips:\n",
    "    - Shallower/simpler algorithms        "
   ]
  },
  {
   "cell_type": "markdown",
   "metadata": {},
   "source": [
    "# Hyperparameter Tuning"
   ]
  },
  {
   "cell_type": "markdown",
   "metadata": {
    "hidden": true
   },
   "source": [
    "How do we tune hyperparameters:\n",
    "1. Select the most important hyperparameters. We can get this list using multiple online resources/documentation.\n",
    "2. Understand how exactly they influence the training\n",
    "3. Tune them either manually or automatically (such as hyperopt)\n",
    "\n",
    "Libraries for hyperparameter optimization:\n",
    "- Hyperopt\n",
    "- Scikit-optimize\n",
    "- Spearmint\n",
    "- GPyOpt\n",
    "- RoBO\n",
    "- SMAC3"
   ]
  },
  {
   "cell_type": "markdown",
   "metadata": {
    "collapsed": "true",
    "heading_collapsed": true,
    "hidden": true
   },
   "source": [
    "## GBDT"
   ]
  },
  {
   "cell_type": "markdown",
   "metadata": {
    "hidden": true
   },
   "source": [
    "- Hyperparameters with green color means the complexity of the model increases as their values increase.\n",
    "- Hyperparameters with red color means the complexity of the model decreases as their values increase.\n",
    "\n",
    "<img src=\"materials/GBDT.png\">"
   ]
  },
  {
   "cell_type": "markdown",
   "metadata": {
    "hidden": true
   },
   "source": [
    "1. If increasing the depth of tree is not causing the model to overfit, this means there are better interactions that can be extracted from the data. `max_depth` of 7 is a good starting point. Be careful that the higher the depth the longer it takes to train.\n",
    "2. `subsample` is the fraction of objects used when fitting a tree, [0, 1]. With lesser objects, the model takes more time to capture the underlying structure but will be more generalizable. Therefore, it can be seen as a regularizer.\n",
    "3. `colsample_bytree` and `colsample_bylevel` is the fraction of features used when fitting a tree. Same consequence as `subsample`.\n",
    "4. `min_child_weight` is one of the most important one to tune. The higher the value the more constrained the model is.\n",
    "5. `eta` and `num_round`. The higher the learning rate the faster the model fit the training dataset but most likely would overfit. The best strategy is to freeze the learning rate, say 0.1, and tune the number of trees using early stopping. Then multiply the number of trees by $\\alpha$ and divide the learning rate by $\\alpha$. This usually improves the scores.\n",
    "6. `seed` is usually fixed to be able to reproduce the model. However, if same model with different random seeds have totally different validation scores, then that is a sign that either the validation scheme is not good or the results are random."
   ]
  },
  {
   "cell_type": "markdown",
   "metadata": {
    "collapsed": "true",
    "heading_collapsed": true,
    "hidden": true
   },
   "source": [
    "## RandomForest/ExtraTrees"
   ]
  },
  {
   "cell_type": "markdown",
   "metadata": {
    "hidden": true
   },
   "source": [
    "1. `num_estimators` the higher the better without the risk of overfitting because models are independent. Try first multiple values and plot the validation curve to select the best value since after some point the performance plateau.\n",
    "2. `max_features` is similar to `colsample` in GBDT.\n",
    "3. `max_depth` is usually higher than GBDT. 7 is a good starting point.\n",
    "4. `min_sample_leaf` is the same as `min_child_weight` in GBDT.\n",
    "5. `criterion` which can be *gini* or *entropy*. *gini* works better most of the times.\n",
    "\n",
    "The most important ones are the first two."
   ]
  },
  {
   "cell_type": "markdown",
   "metadata": {
    "collapsed": "true",
    "heading_collapsed": true,
    "hidden": true
   },
   "source": [
    "## Tuning Methods"
   ]
  },
  {
   "cell_type": "markdown",
   "metadata": {
    "collapsed": "true",
    "heading_collapsed": true,
    "hidden": true
   },
   "source": [
    "### Random Search"
   ]
  },
  {
   "cell_type": "markdown",
   "metadata": {
    "hidden": true
   },
   "source": [
    "It is much better than Grid Search especially if some hyperparameter are not that important compared to other ones. We usually use random distributions for the hyperparameters."
   ]
  },
  {
   "cell_type": "markdown",
   "metadata": {
    "collapsed": "true",
    "heading_collapsed": true,
    "hidden": true
   },
   "source": [
    "### Bayesian Optimization "
   ]
  },
  {
   "cell_type": "markdown",
   "metadata": {
    "hidden": true
   },
   "source": [
    "Also called sequential model based optimization SMBO):\n",
    "- Fit 'cheap' probabilistic function to black-box\n",
    "- We pick next point using exploration / exploitation\n",
    "- Implemented as acquisition function\n",
    "\n",
    "A surrogate is a function that approximates an objective function. The surrogate is useful because it takes little time to evaluate. So, for example, to search for a point that minimizes an objective function, simply evaluate the surrogate on thousands of points, and take the best value as an approximation to the minimizer of the objective function.\n",
    "\n",
    "Surrogate optimization is best suited to time-consuming objective functions. The objective function need not be smooth, but the algorithm works best when the objective function is continuous.\n",
    "\n",
    "Surrogate optimization attempts to find a global minimum of an objective function using few objective function evaluations. To do so, the algorithm tries to balance the optimization process between two goals: exploration and speed.\n",
    "\n",
    "Exploration to search for a global minimum.\n",
    "Speed to obtain a good solution in few objective function evaluations.\n",
    "The algorithm has been proven to converge to a global solution for continuous objective functions on bounded domains.\n",
    "\n",
    "In general, there is no useful stopping criterion that stops the solver when it is near a global solution. Typically, you set a stopping criterion of a number of function evaluations or an amount of time, and take the best solution found within this computational budget."
   ]
  },
  {
   "cell_type": "markdown",
   "metadata": {
    "collapsed": "true",
    "heading_collapsed": true,
    "hidden": true
   },
   "source": [
    "### Multi-Fidelity Search"
   ]
  },
  {
   "cell_type": "markdown",
   "metadata": {
    "hidden": true
   },
   "source": [
    "Approximate the function by similar cheaper function. The idea is to fit the model on a small subset of the data and pick the best hyperparameters. Usually values for best hyperparameters don't change much if at all when training on full dataset. We can also run the model for fewer number of iterations instead of waiting to finish training."
   ]
  },
  {
   "cell_type": "markdown",
   "metadata": {
    "hidden": true
   },
   "source": [
    "Given n configurations and budget B:\n",
    "- Pick η=2, η = 3 (wording follows 2)\n",
    "- Each iteration, keep best halve of configurations\n",
    "- After k=logη(n)+1, left with single configuration.\n",
    "- Initially allocate $\\frac{B}{kn}$ to each configuration, double each iteration\n",
    "\n",
    "For example, if we have configurations n = 81 and total budget B = 20000:\n",
    "- train 81 configurations with resources   41\n",
    "- train 27 configurations with resources  123\n",
    "- train  9 configurations with resources  370\n",
    "- train  3 configurations with resources 1111\n",
    "- train  1 configurations with resources 3333\n",
    "\n",
    "Therefore, resources total: 16638"
   ]
  },
  {
   "cell_type": "markdown",
   "metadata": {
    "collapsed": "true",
    "heading_collapsed": true,
    "hidden": true
   },
   "source": [
    "### Meta-learning"
   ]
  },
  {
   "cell_type": "markdown",
   "metadata": {
    "hidden": true
   },
   "source": [
    "Learning from experience (other datasets). So basically every dataset is a sample and we learn from each dataset what is the best configuration."
   ]
  },
  {
   "cell_type": "markdown",
   "metadata": {
    "collapsed": "true"
   },
   "source": [
    "# Advanced Feature Engineering"
   ]
  },
  {
   "cell_type": "markdown",
   "metadata": {
    "hidden": true
   },
   "source": [
    "- We can calculate statistics by groups of categories or one category such as minimum price by category and add those generated features as new features.\n",
    "- We can also use statistics applied to neighbors such as number of houses in 500m radius.\n",
    "- We can use matrix factorization techniques such as PCA/SVD/NMF. It is useful for tree-based models.\n",
    "- Interactions can be generated for both numerical and categorical features such as sum, mult, diff, division for numerical features and all possible combination of categorical features. Then use feature selection such as feature importance from RandomForest to select the best ones.\n",
    "    - We also use decision trees such as RandomForest or XGBoost to transform matrices into indices.\n",
    "   \n",
    "- tSNE: It is a manifold learning method that projects data into lower dimension while preserving the distance between points.\n",
    "    - The projections are highly dependable on hyperparameters mainly perplexities.\n",
    "    -  It is stochastic in nature, so it may provide different results for the same data/hyperparameters.\n",
    "    - It is slow if we have huge number of features. So we may need to use PCA then tSNE.\n",
    "    - It sometimes shows cluster that does not exist in original data."
   ]
  },
  {
   "cell_type": "markdown",
   "metadata": {},
   "source": [
    "# CatBoost"
   ]
  },
  {
   "cell_type": "markdown",
   "metadata": {
    "hidden": true
   },
   "source": [
    "**CatBoost** is stable and has good performance with default hyperparameters.\n",
    "\n",
    "Problems with gradient boosting that CatBoost tries to solve:\n",
    "1. Categorical features:\n",
    "    - Uses one-hot encoding for features with <= max_size categories\n",
    "    - Computes number of appearances for each category\n",
    "    - Statistics with label usage on a random permutation of the data such as mean encoding\n",
    "        - The way it is done is by using random permutation that calculates, for example, the average target value for object with the same categories that were before the current category\n",
    "        - Other useful statistics can be used too\n",
    "    - Statistics on feature combinations. This is usually done during each split where combinations are useful because the number of possible combinations grow exponentially with the number of categorical features\n",
    "    - Generates combinations of numerical and categorical features too\n",
    "    \n",
    "2. Hyperparameter tuning\n",
    "3. Prediction speed\n",
    "4. Overfitting. Traditional calculation of gradient of leaf value is by average the gradients of the objects that make up the node that the model was trained on. This will make it biased and more likely to overfit. With CatBoost, we average the gradients of all the past objects.\n",
    "5. Training speed\n",
    "\n",
    "CatBoost uses **Symmetric Decision Trees** where nodes on the same layer have the same split. This will help in terms of making the model less prune to overfitting and stable. Plus it is 30-60x faster than XGBoost.\n",
    "\n",
    "To speedup training, we can use `rsm` that specifies that fraction of features to look at on each split. With lower `rsm`, we need more iterations but overall speed will be faster.\n",
    "\n",
    "The support for missing values are good out of the box. It treats missing values in categorical features as its own categories and for numerical features it is replaced with values either higher or lower than the past objects and put into its own nodes.\n",
    "\n",
    "We can use early stopping to stop training after validation errors stop improving.\n",
    "\n"
   ]
  }
 ],
 "metadata": {
  "hide_input": false,
  "kernelspec": {
   "display_name": "Python 3",
   "language": "python",
   "name": "python3"
  },
  "language_info": {
   "codemirror_mode": {
    "name": "ipython",
    "version": 3
   },
   "file_extension": ".py",
   "mimetype": "text/x-python",
   "name": "python",
   "nbconvert_exporter": "python",
   "pygments_lexer": "ipython3",
   "version": "3.7.4"
  },
  "toc": {
   "base_numbering": 1,
   "nav_menu": {},
   "number_sections": true,
   "sideBar": true,
   "skip_h1_title": false,
   "title_cell": "Table of Contents",
   "title_sidebar": "Contents",
   "toc_cell": false,
   "toc_position": {},
   "toc_section_display": true,
   "toc_window_display": false
  }
 },
 "nbformat": 4,
 "nbformat_minor": 4
}
